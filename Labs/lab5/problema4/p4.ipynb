{
 "cells": [
  {
   "cell_type": "markdown",
   "id": "f2fb5106",
   "metadata": {},
   "source": [
    "# Problema 4\n",
    "\n",
    "Considere el siguiente problema de valor inicial\n",
    "\n",
    "$$\n",
    "\\frac{dy}{dx}\n",
    "=\\frac{x-3y-3\\!\\left(x^{2}-y^{2}\\right)+3xy}{\\,2x-y+3\\!\\left(x^{2}-y^{2}\\right)+2xy\\,},\n",
    "\\qquad y(1.5)=0. \\tag{3}\n",
    "$$\n"
   ]
  },
  {
   "cell_type": "markdown",
   "id": "97a10770",
   "metadata": {},
   "source": [
    "## Inciso a\n",
    "\n",
    "Graficar el campo de direcciones de la EDO anterior.  "
   ]
  },
  {
   "cell_type": "code",
   "execution_count": null,
   "id": "3b9b481d",
   "metadata": {
    "vscode": {
     "languageId": "plaintext"
    }
   },
   "outputs": [],
   "source": []
  },
  {
   "cell_type": "markdown",
   "id": "d1fbc3f3",
   "metadata": {},
   "source": [
    "## Inciso b\n",
    "\n",
    "A partir del campo de direcciones, esbozar la solución del problema de valor inicial (3), y agregar la curva solución al *plot* del campo de direcciones.  "
   ]
  },
  {
   "cell_type": "code",
   "execution_count": null,
   "id": "b815d834",
   "metadata": {
    "vscode": {
     "languageId": "plaintext"
    }
   },
   "outputs": [],
   "source": []
  },
  {
   "cell_type": "markdown",
   "id": "87925560",
   "metadata": {},
   "source": [
    "## Inciso c\n",
    "\n",
    "Hallar numéricamente los puntos de equilibrio de la EDO anterior, que son aquellos puntos en donde el campo de direcciones $F(x,y)=\\mathbf{0}$ es el vector nulo. Para ello, resolver numéricamente el sistema:\n",
    "\n",
    "$$\n",
    "\\begin{cases}\n",
    "x-3y-3\\!\\left(x^{2}-y^{2}\\right)+3xy=0,\\\\[2pt]\n",
    "2x-y+3\\!\\left(x^{2}-y^{2}\\right)+2xy=0.\n",
    "\\end{cases}\n",
    "$$"
   ]
  },
  {
   "cell_type": "markdown",
   "id": "e45cd706",
   "metadata": {},
   "source": []
  }
 ],
 "metadata": {
  "language_info": {
   "name": "python"
  }
 },
 "nbformat": 4,
 "nbformat_minor": 5
}
