{
 "cells": [
  {
   "cell_type": "markdown",
   "id": "3f307386",
   "metadata": {},
   "source": [
    "# Problema 3\n",
    "\n",
    "Resolver la ecuación diferencial  \n",
    "\n",
    "$$\n",
    "x y'' + 2y' = 6x \\tag{2}\n",
    "$$  \n",
    "\n",
    "haciendo una sustitución adecuada para convertir la ecuación (2) en una EDO de primer orden.  \n",
    "A partir de la ecuación de primer orden obtenida, indicar la región del plano $\\mathbb{R}^2$ en donde vale el teorema de existencia y unicidad, e indicar aquellas regiones en donde no se cumple.  \n",
    "\n",
    "Analizar en los puntos donde no se cumple el teorema, qué es lo que ocurre con las soluciones en estos puntos  \n",
    "(¿hay solución?, ¿hay más de una? ¿o no hay soluciones?).  \n",
    "\n",
    "Resolver los problemas de valor inicial siguientes:  \n",
    "\n",
    "- $y(1) = 2$,  \n",
    "- $y(1) = -2$,  \n",
    "- $y(1) = 1$,  \n",
    "- $y(0) = -3$  \n",
    "\n",
    "y graficar las soluciones obtenidas asumiendo un término constante $C = 0$ en la expresión de su solución.\n"
   ]
  }
 ],
 "metadata": {
  "language_info": {
   "name": "python"
  }
 },
 "nbformat": 4,
 "nbformat_minor": 5
}
