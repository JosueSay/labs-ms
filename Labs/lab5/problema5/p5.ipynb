{
 "cells": [
  {
   "cell_type": "markdown",
   "id": "b043327a",
   "metadata": {},
   "source": [
    "# Problema 5\n",
    "\n",
    "Considere una población de una especie de animales $P(t)$ que se modela por la ecuación diferencial\n",
    "\n",
    "$$\n",
    "\\frac{dP}{dt}=0.0004\\,P^{2}-0.06\\,P. \\tag{4}\n",
    "$$\n",
    "\n",
    "Suponga que la escala de tiempo $t$ se mide en **semanas**, mientras que la escala de la población $P$ se mide en **individuos** (número de individuos)."
   ]
  },
  {
   "cell_type": "code",
   "execution_count": null,
   "id": "c0b75177",
   "metadata": {},
   "outputs": [],
   "source": [
    "import numpy as np\n",
    "import matplotlib.pyplot as plt\n",
    "from scipy.integrate import solve_ivp"
   ]
  },
  {
   "cell_type": "markdown",
   "id": "de2a2554",
   "metadata": {},
   "source": [
    "## Inciso a\n",
    "\n",
    "Determinar las dimensionales correctas de los parámetros $0.0004$ y $0.06$.  "
   ]
  },
  {
   "cell_type": "code",
   "execution_count": 1,
   "id": "436f4a54",
   "metadata": {},
   "outputs": [
    {
     "name": "stdout",
     "output_type": "stream",
     "text": [
      "Dimensiones de los parámetros en la ecuación dP/dt = a*P^2 - b*P:\n",
      "\n",
      "a = 0.0004  -> unidades: 1/(individuos * semanas)\n",
      "b = 0.06  -> unidades: 1/semanas\n"
     ]
    }
   ],
   "source": [
    "# Definimos las magnitudes\n",
    "P_units = \"individuos\"   # población medida en número de individuos\n",
    "t_units = \"semanas\"      # tiempo en semanas\n",
    "\n",
    "# Parámetros del modelo\n",
    "a = 0.0004   # coeficiente cuadrático\n",
    "b = 0.06     # coeficiente lineal\n",
    "\n",
    "# Unidades deducidas\n",
    "units_a = f\"1/({P_units} * {t_units})\"   # porque multiplica P^2 y debe dar individuos/semana\n",
    "units_b = f\"1/{t_units}\"                 # porque multiplica P y debe dar individuos/semana\n",
    "\n",
    "print(\"Dimensiones de los parámetros en la ecuación dP/dt = a*P^2 - b*P:\\n\")\n",
    "print(f\"a = {a}  -> unidades: {units_a}\")\n",
    "print(f\"b = {b}  -> unidades: {units_b}\")"
   ]
  },
  {
   "cell_type": "markdown",
   "id": "64422e22",
   "metadata": {},
   "source": [
    "## Inciso b\n",
    "\n",
    "Hacer un análisis de los puntos de equilibrio de la EDO (4), y clasificarlos de acuerdo a si son **estables**, **inestables** o **semi-estables**.  "
   ]
  },
  {
   "cell_type": "code",
   "execution_count": null,
   "id": "c4f72969",
   "metadata": {},
   "outputs": [
    {
     "name": "stdout",
     "output_type": "stream",
     "text": [
      "Puntos de equilibrio encontrados:\n",
      "P* = 0\n",
      "P* = 150.000000000000\n",
      "\n",
      "Clasificación de estabilidad:\n",
      "P* = 0.000, f'(P*) = -0.060 → Estable (atractor)\n",
      "P* = 150.000, f'(P*) = 0.060 → Inestable (repulsor)\n"
     ]
    }
   ],
   "source": [
    "# Variable\n",
    "P = sp.symbols('P')\n",
    "\n",
    "# Definición de la función f(P)\n",
    "f = 0.0004*P**2 - 0.06*P\n",
    "\n",
    "# Puntos de equilibrio: resolvemos f(P)=0\n",
    "equilibrios = sp.solve(sp.Eq(f, 0), P)\n",
    "\n",
    "print(\"Puntos de equilibrio encontrados:\")\n",
    "for eq in equilibrios:\n",
    "    print(f\"P* = {eq.evalf()}\")\n",
    "\n",
    "# Derivada para analizar estabilidad\n",
    "f_prime = sp.diff(f, P)\n",
    "\n",
    "print(\"\\nClasificación de estabilidad:\")\n",
    "for eq in equilibrios:\n",
    "    slope = f_prime.subs(P, eq)\n",
    "    if slope < 0:\n",
    "        stability = \"Estable (atractor)\"\n",
    "    elif slope > 0:\n",
    "        stability = \"Inestable (repulsor)\"\n",
    "    else:\n",
    "        stability = \"Semieestable\"\n",
    "    print(f\"P* = {eq.evalf():.3f}, f'(P*) = {slope.evalf():.3f} → {stability}\")\n"
   ]
  },
  {
   "cell_type": "markdown",
   "id": "861db9b8",
   "metadata": {},
   "source": [
    "## Inciso c\n",
    "\n",
    "Derivado del análisis anterior, hacer un esbozo de las soluciones $P(t)$, indicando la región donde dichas soluciones son constantes, crecientes o decrecientes, y las regiones donde las soluciones $P(t)$ tienen concavidad positiva, negativa o tienen máximos o mínimos.  "
   ]
  },
  {
   "cell_type": "code",
   "execution_count": null,
   "id": "2515d18d",
   "metadata": {},
   "outputs": [],
   "source": [
    "\n",
    "\n",
    "\n",
    "\n",
    "# Definimos la EDO\n",
    "def dP_dt(t, P):\n",
    "    return 0.0004*P**2 - 0.06*P\n",
    "\n",
    "# Intervalo de tiempo\n",
    "t_span = (0, 50)   # 50 semanas\n",
    "t_eval = np.linspace(t_span[0], t_span[1], 300)\n",
    "\n",
    "# Condiciones iniciales para distintos escenarios\n",
    "P0_values = [10, 50, 100, 200]\n",
    "\n",
    "plt.figure(figsize=(8,6))\n",
    "\n",
    "for P0 in P0_values:\n",
    "    sol = solve_ivp(dP_dt, t_span, [P0], t_eval=t_eval)\n",
    "    plt.plot(sol.t, sol.y[0], label=f\"P(0)={P0}\")\n",
    "\n",
    "# Marcamos puntos de equilibrio\n",
    "plt.axhline(0, color=\"gray\", linestyle=\"--\", label=\"Equilibrio estable P*=0\")\n",
    "plt.axhline(150, color=\"red\", linestyle=\"--\", label=\"Equilibrio inestable P*=150\")\n",
    "\n",
    "plt.xlabel(\"Tiempo (semanas)\")\n",
    "plt.ylabel(\"Población (individuos)\")\n",
    "plt.title(\"Esbozo cualitativo de soluciones P(t)\")\n",
    "plt.legend()\n",
    "plt.grid(True)\n",
    "plt.show()\n"
   ]
  },
  {
   "cell_type": "markdown",
   "id": "a7d5cb8c",
   "metadata": {},
   "source": [
    "## Inciso d\n",
    "\n",
    "Suponga que la población en el tiempo $t=0$ es $P(0)=200$ individuos. Describir cuál será el comportamiento a futuro de $P(t)$ si la población se rige por el modelo (4).  "
   ]
  },
  {
   "cell_type": "markdown",
   "id": "ae562388",
   "metadata": {},
   "source": [
    "## Inciso e\n",
    "\n",
    "Repetir el análisis cualitativo en (d) asumiendo que la población en el tiempo $t=0$ es $P(0)=100$ individuos.  "
   ]
  },
  {
   "cell_type": "markdown",
   "id": "3e99dbef",
   "metadata": {},
   "source": [
    "## Inciso f\n",
    "\n",
    "Resolver la EDO (4) y graficar las curvas solución de los problemas en (d) y (e), para mostrar en la gráfica que la solución coincide con la descripción de su análisis cualitativo."
   ]
  }
 ],
 "metadata": {
  "kernelspec": {
   "display_name": "Python 3",
   "language": "python",
   "name": "python3"
  },
  "language_info": {
   "codemirror_mode": {
    "name": "ipython",
    "version": 3
   },
   "file_extension": ".py",
   "mimetype": "text/x-python",
   "name": "python",
   "nbconvert_exporter": "python",
   "pygments_lexer": "ipython3",
   "version": "3.11.9"
  }
 },
 "nbformat": 4,
 "nbformat_minor": 5
}
