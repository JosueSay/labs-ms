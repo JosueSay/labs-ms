{
 "cells": [
  {
   "cell_type": "markdown",
   "id": "b043327a",
   "metadata": {},
   "source": [
    "# Problema 5\n",
    "\n",
    "Considere una población de una especie de animales $P(t)$ que se modela por la ecuación diferencial\n",
    "\n",
    "$$\n",
    "\\frac{dP}{dt}=0.0004\\,P^{2}-0.06\\,P. \\tag{4}\n",
    "$$\n",
    "\n",
    "Suponga que la escala de tiempo $t$ se mide en **semanas**, mientras que la escala de la población $P$ se mide en **individuos** (número de individuos)."
   ]
  },
  {
   "cell_type": "markdown",
   "id": "de2a2554",
   "metadata": {},
   "source": [
    "## Inciso a\n",
    "\n",
    "Determinar las dimensionales correctas de los parámetros $0.0004$ y $0.06$.  "
   ]
  },
  {
   "cell_type": "markdown",
   "id": "64422e22",
   "metadata": {},
   "source": [
    "## Inciso b\n",
    "\n",
    "Hacer un análisis de los puntos de equilibrio de la EDO (4), y clasificarlos de acuerdo a si son **estables**, **inestables** o **semi-estables**.  "
   ]
  },
  {
   "cell_type": "markdown",
   "id": "861db9b8",
   "metadata": {},
   "source": [
    "## Inciso c\n",
    "\n",
    "Derivado del análisis anterior, hacer un esbozo de las soluciones $P(t)$, indicando la región donde dichas soluciones son constantes, crecientes o decrecientes, y las regiones donde las soluciones $P(t)$ tienen concavidad positiva, negativa o tienen máximos o mínimos.  "
   ]
  },
  {
   "cell_type": "markdown",
   "id": "a7d5cb8c",
   "metadata": {},
   "source": [
    "## Inciso d\n",
    "\n",
    "Suponga que la población en el tiempo $t=0$ es $P(0)=200$ individuos. Describir cuál será el comportamiento a futuro de $P(t)$ si la población se rige por el modelo (4).  "
   ]
  },
  {
   "cell_type": "markdown",
   "id": "ae562388",
   "metadata": {},
   "source": [
    "## Inciso e\n",
    "\n",
    "Repetir el análisis cualitativo en (d) asumiendo que la población en el tiempo $t=0$ es $P(0)=100$ individuos.  "
   ]
  },
  {
   "cell_type": "markdown",
   "id": "3e99dbef",
   "metadata": {},
   "source": [
    "## Inciso f\n",
    "\n",
    "Resolver la EDO (4) y graficar las curvas solución de los problemas en (d) y (e), para mostrar en la gráfica que la solución coincide con la descripción de su análisis cualitativo."
   ]
  }
 ],
 "metadata": {
  "language_info": {
   "name": "python"
  }
 },
 "nbformat": 4,
 "nbformat_minor": 5
}
