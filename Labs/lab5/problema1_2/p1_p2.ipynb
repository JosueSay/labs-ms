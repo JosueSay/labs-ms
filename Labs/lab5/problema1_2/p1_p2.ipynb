{
 "cells": [
  {
   "cell_type": "markdown",
   "id": "09c89cc9",
   "metadata": {},
   "source": [
    "# Problema 1\n",
    "\n",
    "Implementar en Python una función que grafique el campo de direcciones asociado a una ecuación diferencial de primer orden  \n",
    "\n",
    "$$\\frac{dy}{dx} = f(x,y). \\tag{1}$$\n",
    "\n",
    "Como parámetros su algoritmo debe recibir la función $f$, los límites $x_{\\min}, x_{\\max}, y_{\\min}, y_{\\max}$ de la ventana que desea graficar, y parámetros $xstep$ y $ystep$ para indicar la separación en la que quiere subdividir su grid de puntos sobre los ejes $x$ y $y$, respectivamente. Puede añadir parámetros adicionales que usted desee.  \n",
    "\n",
    "También debe incluir algún parámetro que permita graficar entre el campo $F$ asociado a la ecuación (1), o el campo unitario $N$ equivalente.  \n",
    "\n",
    "Para la salida, su función debe devolver una figura con el campo de direcciones requerido. Si usted lo desea, puede incorporar que su función grafique también las líneas de flujo o curvas solución de la ecuación diferencial.  \n",
    "\n",
    "**Sugerencia:** Apoyarse de las funciones `numpy.linspace` para crear los rangos y subdivisiones en los ejes $x$ y $y$. Usar la función `numpy.meshgrid` para generar la rejilla de puntos a graficar. Usar `matplotlib.pyplot.quiver` para construir el campo vectorial requerido. Puede usar la función `matplotlib.pyplot.streamplot` para graficar las líneas de flujo.  \n",
    "\n",
    "Se sugiere implementar la construcción del campo a través de una función auxiliar:  \n",
    "\n",
    "```python\n",
    "def F(x, y):\n",
    "    return (expr1, expr2)\n",
    "````\n",
    "\n",
    "donde `expr1` y `expr2` corresponden a las componentes del campo \\$F(x,y)\\$ que desea graficar.\n",
    "\n",
    "Ilustrar los resultados de su función graficando dos campos vectoriales de su elección.\n"
   ]
  },
  {
   "cell_type": "markdown",
   "id": "58736dde",
   "metadata": {},
   "source": []
  },
  {
   "cell_type": "markdown",
   "id": "913df20e",
   "metadata": {},
   "source": [
    "# Problema 2\n",
    "\n",
    "Para las siguientes ecuaciones diferenciales ordinarias, utilizar métodos cualitativos para esbozar las soluciones de la EDO.  \n",
    "Luego, resolver cada EDO con los métodos aprendidos en sus cursos pasados, para determinar una expresión de la solución general de cada EDO. Comparar la solución obtenida contra su solución esbozada. Discutir si coinciden las curvas solución.  \n",
    "\n",
    "1. $y' = -xy$  \n",
    "\n",
    "2. $y' = xy$  \n",
    "\n",
    "3. $x\\,dx + y\\,dy = 0$  \n",
    "\n",
    "4. $y\\,dx + x\\,dy = 0$  \n",
    "\n",
    "5. $\\dfrac{dy}{dx} = y^2 - y$  \n"
   ]
  },
  {
   "cell_type": "markdown",
   "id": "8417f614",
   "metadata": {},
   "source": []
  },
  {
   "cell_type": "markdown",
   "id": "dbbe6231",
   "metadata": {},
   "source": []
  }
 ],
 "metadata": {
  "language_info": {
   "name": "python"
  }
 },
 "nbformat": 4,
 "nbformat_minor": 5
}
