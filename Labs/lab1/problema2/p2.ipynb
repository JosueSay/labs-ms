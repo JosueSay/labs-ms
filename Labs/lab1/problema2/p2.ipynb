{
 "cells": [
  {
   "cell_type": "markdown",
   "id": "8e8fe09e",
   "metadata": {},
   "source": [
    "# Modelo de Producción, Períodos múltiples\n",
    "\n",
    "Acme Manufacturing Company firmó un contrato para entregar 180, 250, 190, 140, 220 y 250 ventanas para casa durante los siguientes seis meses. El costo de producción (mano de obra, material y servicios) por ventana varía por período y se estima que será de $50, $45, $55, $52, $48 y $50 durante los próximos seis meses. \n",
    "\n",
    "Para aprovechar las fluctuaciones del costo de fabricación, Acme puede producir más ventanas de las necesarias en un mes dado y conservar las unidades adicionales para entregarlas en meses posteriores. Esto supondrá un costo de almacenamiento del inventario a fin de mes, a razón de $8 por ventana por mes en los meses 1, 5 y 6. En los meses 2, 3 y 4, los costos por almacenaje son de $10 por ventana debido a la temporada de alta demanda.\n",
    "\n",
    "Asumiendo que la empresa tiene una capacidad máxima de producción de 225 ventanas cada mes, desarrolle un programa lineal para determinar el programa de producción óptimo.\n",
    "\n",
    "![Representación esquemática del sistema de producción e inventario](../images/ejemplo_p2.png)"
   ]
  },
  {
   "cell_type": "markdown",
   "id": "81b4112f",
   "metadata": {},
   "source": [
    "## Inciso a\n",
    "\n",
    "Formular el problema de programación lineal."
   ]
  },
  {
   "cell_type": "code",
   "execution_count": 10,
   "id": "dd6d92de",
   "metadata": {},
   "outputs": [],
   "source": [
    "using Pkg\n",
    "Pkg.instantiate()"
   ]
  },
  {
   "cell_type": "code",
   "execution_count": 11,
   "id": "8d62a094",
   "metadata": {},
   "outputs": [
    {
     "name": "stderr",
     "output_type": "stream",
     "text": [
      "\u001b[32m\u001b[1m   Resolving\u001b[22m\u001b[39m package versions...\n",
      "\u001b[32m\u001b[1m  No Changes\u001b[22m\u001b[39m to `C:\\Users\\Cindy\\Documents\\GitHub\\labs-ms\\Labs\\lab1\\Project.toml`\n",
      "\u001b[32m\u001b[1m  No Changes\u001b[22m\u001b[39m to `C:\\Users\\Cindy\\Documents\\GitHub\\labs-ms\\Labs\\lab1\\Manifest.toml`\n"
     ]
    }
   ],
   "source": [
    "\n",
    "Pkg.add(\"PrettyTables\")\n"
   ]
  },
  {
   "cell_type": "code",
   "execution_count": 12,
   "id": "b8078905",
   "metadata": {},
   "outputs": [
    {
     "data": {
      "text/latex": [
       "$ 50 x_{1} + 8 I_{1} + 45 x_{2} + 10 I_{2} + 55 x_{3} + 10 I_{3} + 52 x_{4} + 10 I_{4} + 48 x_{5} + 8 I_{5} + 50 x_{6} + 8 I_{6} $"
      ],
      "text/plain": [
       "50 x[1] + 8 I[1] + 45 x[2] + 10 I[2] + 55 x[3] + 10 I[3] + 52 x[4] + 10 I[4] + 48 x[5] + 8 I[5] + 50 x[6] + 8 I[6]"
      ]
     },
     "metadata": {},
     "output_type": "display_data"
    }
   ],
   "source": [
    "using JuMP\n",
    "using HiGHS\n",
    "\n",
    "# Datos del problema\n",
    "costos_produccion = [50, 45, 55, 52, 48, 50]\n",
    "costos_inventario = [8, 10, 10, 10, 8, 8]\n",
    "demanda = [180, 250, 190, 140, 220, 250]\n",
    "capacidad = 225\n",
    "n = length(demanda)\n",
    "\n",
    "# Crear el modelo\n",
    "model = Model(HiGHS.Optimizer)\n",
    "\n",
    "# Variables: producción x[i] y inventario I[i]\n",
    "@variable(model, x[1:n] >= 0)     # producción mensual\n",
    "@variable(model, I[1:n] >= 0)     # inventario mensual\n",
    "\n",
    "# Restricciones de inventario\n",
    "@constraint(model, x[1] - demanda[1] == I[1])  # mes 1\n",
    "\n",
    "for i in 2:n\n",
    "    @constraint(model, I[i-1] + x[i] - demanda[i] == I[i])\n",
    "end\n",
    "\n",
    "# Restricciones de capacidad máxima\n",
    "for i in 1:n\n",
    "    @constraint(model, x[i] <= capacidad)\n",
    "end\n",
    "\n",
    "# Función objetivo: minimizar costo total\n",
    "@objective(model, Min, sum(costos_produccion[i]*x[i] + costos_inventario[i]*I[i] for i in 1:n))\n"
   ]
  },
  {
   "cell_type": "markdown",
   "id": "adabd274",
   "metadata": {},
   "source": [
    "## Inciso b\n",
    "\n",
    "Resolver el problema usando la librería JuMP o Pulp, en variables continuas, y determinar la producción óptima. Haga un diagrama o esquema de la producción óptima, similar a la Figura 2, indicando las producciones en cada mes, así como los inventarios. Compare contra la solución (no óptima) que produce exactamente la demanda de cada mes. Elabore una tabla mes a mes, indicando los costos de producción, los costos de inventario, el costo total y el ahorro generado al compararlo con la producción no óptima anterior."
   ]
  },
  {
   "cell_type": "code",
   "execution_count": null,
   "id": "0fbc4d42",
   "metadata": {},
   "outputs": [
    {
     "name": "stdout",
     "output_type": "stream",
     "text": [
      "LP   has 12 rows; 12 cols; 23 nonzeros\n",
      "Coefficient ranges:\n",
      "  Matrix [1e+00, 1e+00]\n",
      "  Cost   [8e+00, 6e+01]\n",
      "  Bound  [0e+00, 0e+00]\n",
      "  RHS    [1e+02, 2e+02]\n",
      "Solving LP without presolve, or with basis, or unconstrained\n",
      "Model status        : Optimal\n",
      "Objective value     :  6.1795000000e+04\n",
      "P-D objective error :  0.0000000000e+00\n",
      "HiGHS run time      :          0.00\n",
      "┌─────┬────────────┬────────────┬──────────────────┬──────────────────┐\n",
      "│\u001b[1m Mes \u001b[0m│\u001b[1m Producción \u001b[0m│\u001b[1m Inventario \u001b[0m│\u001b[1m Costo producción \u001b[0m│\u001b[1m Costo inventario \u001b[0m│\n",
      "├─────┼────────────┼────────────┼──────────────────┼──────────────────┤\n",
      "│ 1.0 │      205.0 │       25.0 │          10250.0 │            200.0 │\n",
      "│ 2.0 │      225.0 │        0.0 │          10125.0 │              0.0 │\n",
      "│ 3.0 │      190.0 │        0.0 │          10450.0 │              0.0 │\n",
      "│ 4.0 │      160.0 │       20.0 │           8320.0 │            200.0 │\n",
      "│ 5.0 │      225.0 │       25.0 │          10800.0 │            200.0 │\n",
      "│ 6.0 │      225.0 │        0.0 │          11250.0 │              0.0 │\n",
      "└─────┴────────────┴────────────┴──────────────────┴──────────────────┘\n"
     ]
    }
   ],
   "source": [
    "# Resolver el modelo\n",
    "optimize!(model)\n",
    "\n",
    "# Obtener los valores óptimos de producción e inventario\n",
    "produccion_opt = value.(x)\n",
    "inventario_opt = value.(I)\n",
    "\n",
    "# Crear tabla como lista de vectores\n",
    "tabla = [ \n",
    "    [i,\n",
    "     produccion_opt[i],\n",
    "     inventario_opt[i],\n",
    "     costos_produccion[i] * produccion_opt[i],\n",
    "     costos_inventario[i] * inventario_opt[i]] \n",
    "    for i in 1:n\n",
    "]\n",
    "\n",
    "# Convertir a matriz (formato esperado por PrettyTables)\n",
    "tabla_matriz = Matrix(reduce(hcat, tabla)')  # ¡Aquí está la corrección clave!\n",
    "\n",
    "# Encabezado\n",
    "encabezado = [\"Mes\", \"Producción\", \"Inventario\", \"Costo producción\", \"Costo inventario\"]\n",
    "\n",
    "# Mostrar la tabla con formato bonito\n",
    "pretty_table(tabla_matriz; header = encabezado, formatters = (v, i, j) -> @sprintf(\"%.1f\", v))\n",
    "\n"
   ]
  },
  {
   "cell_type": "markdown",
   "id": "3a1607d5",
   "metadata": {},
   "source": [
    "## Inciso c\n",
    "\n",
    "¿Se obtiene la misma solución óptima al introducir restricciones enteras?"
   ]
  },
  {
   "cell_type": "code",
   "execution_count": null,
   "id": "2753a027",
   "metadata": {},
   "outputs": [
    {
     "name": "stdout",
     "output_type": "stream",
     "text": [
      "Running HiGHS 1.11.0 (git hash: 364c83a51e): Copyright (c) 2025 HiGHS under MIT licence terms\n",
      "MIP  has 12 rows; 12 cols; 23 nonzeros; 6 integer variables (0 binary)\n",
      "Coefficient ranges:\n",
      "  Matrix [1e+00, 1e+00]\n",
      "  Cost   [8e+00, 6e+01]\n",
      "  Bound  [0e+00, 0e+00]\n",
      "  RHS    [1e+02, 2e+02]\n",
      "Presolving model\n",
      "5 rows, 11 cols, 15 nonzeros  0s\n",
      "3 rows, 9 cols, 11 nonzeros  0s\n",
      "2 rows, 6 cols, 7 nonzeros  0s\n",
      "2 rows, 5 cols, 6 nonzeros  0s\n",
      "Objective function is integral with scale 1\n",
      "\n",
      "Solving MIP model with:\n",
      "   2 rows\n",
      "   5 cols (0 binary, 3 integer, 2 implied int., 0 continuous, 0 domain fixed)\n",
      "   6 nonzeros\n",
      "\n",
      "Src: B => Branching; C => Central rounding; F => Feasibility pump; J => Feasibility jump;\n",
      "     H => Heuristic; L => Sub-MIP; P => Empty MIP; R => Randomized rounding; Z => ZI Round;\n",
      "     I => Shifting; S => Solve LP; T => Evaluate node; U => Unbounded; X => User solution;\n",
      "     z => Trivial zero; l => Trivial lower; u => Trivial upper; p => Trivial point\n",
      "\n",
      "        Nodes      |    B&B Tree     |            Objective Bounds              |  Dynamic Constraints |       Work      \n",
      "Src  Proc. InQueue |  Leaves   Expl. | BestBound       BestSol              Gap |   Cuts   InLp Confl. | LpIters     Time\n",
      "\n",
      " J       0       0         0   0.00%   -inf            61795              Large        0      0      0         0     0.0s\n",
      "         1       0         1 100.00%   61795           61795              0.00%        0      0      0         0     0.0s\n",
      "\n",
      "Solving report\n",
      "  Status            Optimal\n",
      "  Primal bound      61795\n",
      "  Dual bound        61795\n",
      "  Gap               0% (tolerance: 0.01%)\n",
      "  P-D integral      3.26769841374e-05\n",
      "  Solution status   feasible\n",
      "                    61795 (objective)\n",
      "                    0 (bound viol.)\n",
      "                    0 (int. viol.)\n",
      "                    0 (row viol.)\n",
      "  Timing            0.03 (total)\n",
      "                    0.00 (presolve)\n",
      "                    0.00 (solve)\n",
      "                    0.00 (postsolve)\n",
      "  Max sub-MIP depth 0\n",
      "  Nodes             1\n",
      "  Repair LPs        0 (0 feasible; 0 iterations)\n",
      "  LP iterations     0 (total)\n",
      "                    0 (strong br.)\n",
      "                    0 (separation)\n",
      "                    0 (heuristics)\n",
      "\n",
      "Tabla con variables ENTERAS:\n"
     ]
    },
    {
     "ename": "MethodError",
     "evalue": "MethodError: no method matching pretty_table(::Vector{Vector{Float64}}, ::Vector{String}; formatters::PrettyTables.var\"#36#39\"{Printf.Format{Base.CodeUnits{UInt8, String}, Tuple{Printf.Spec{Val{'f'}}}}})\nThe function `pretty_table` exists, but no method is defined for this combination of argument types.\n\nClosest candidates are:\n  pretty_table(!Matched::Type{HTML}, ::Any; kwargs...)\n   @ PrettyTables C:\\Users\\Cindy\\.julia\\packages\\PrettyTables\\oVZqx\\src\\print.jl:782\n  pretty_table(!Matched::Type{String}, ::Any; color, kwargs...)\n   @ PrettyTables C:\\Users\\Cindy\\.julia\\packages\\PrettyTables\\oVZqx\\src\\print.jl:776\n  pretty_table(::Any; kwargs...)\n   @ PrettyTables C:\\Users\\Cindy\\.julia\\packages\\PrettyTables\\oVZqx\\src\\print.jl:771\n  ...\n",
     "output_type": "error",
     "traceback": [
      "MethodError: no method matching pretty_table(::Vector{Vector{Float64}}, ::Vector{String}; formatters::PrettyTables.var\"#36#39\"{Printf.Format{Base.CodeUnits{UInt8, String}, Tuple{Printf.Spec{Val{'f'}}}}})\n",
      "The function `pretty_table` exists, but no method is defined for this combination of argument types.\n",
      "\n",
      "Closest candidates are:\n",
      "  pretty_table(!Matched::Type{HTML}, ::Any; kwargs...)\n",
      "   @ PrettyTables C:\\Users\\Cindy\\.julia\\packages\\PrettyTables\\oVZqx\\src\\print.jl:782\n",
      "  pretty_table(!Matched::Type{String}, ::Any; color, kwargs...)\n",
      "   @ PrettyTables C:\\Users\\Cindy\\.julia\\packages\\PrettyTables\\oVZqx\\src\\print.jl:776\n",
      "  pretty_table(::Any; kwargs...)\n",
      "   @ PrettyTables C:\\Users\\Cindy\\.julia\\packages\\PrettyTables\\oVZqx\\src\\print.jl:771\n",
      "  ...\n",
      "\n",
      "\n",
      "Stacktrace:\n",
      " [1] top-level scope\n",
      "   @ c:\\Users\\Cindy\\Documents\\GitHub\\labs-ms\\Labs\\lab1\\problema2\\jl_notebook_cell_df34fa98e69747e1a8f8a730347b8e2f_X14sZmlsZQ==.jl:41"
     ]
    }
   ],
   "source": [
    "using Printf  # asegúrate de tener esto arriba para usar @sprintf\n",
    "\n",
    "# Crear nuevo modelo con variables enteras\n",
    "modelo_entero = Model(HiGHS.Optimizer)\n",
    "\n",
    "@variable(modelo_entero, x_ent[1:n] >= 0, Int)  # producción entera\n",
    "@variable(modelo_entero, I_ent[1:n] >= 0)       # inventario continuo\n",
    "\n",
    "# Restricciones\n",
    "@constraint(modelo_entero, x_ent[1] - demanda[1] == I_ent[1])\n",
    "for i in 2:n\n",
    "    @constraint(modelo_entero, I_ent[i-1] + x_ent[i] - demanda[i] == I_ent[i])\n",
    "end\n",
    "\n",
    "for i in 1:n\n",
    "    @constraint(modelo_entero, x_ent[i] <= capacidad)\n",
    "end\n",
    "\n",
    "# Función objetivo\n",
    "@objective(modelo_entero, Min, sum(costos_produccion[i]*x_ent[i] + costos_inventario[i]*I_ent[i] for i in 1:n))\n",
    "\n",
    "# Resolver\n",
    "optimize!(modelo_entero)\n",
    "\n",
    "# Resultados\n",
    "produccion_entera = value.(x_ent)\n",
    "inventario_entero = value.(I_ent)\n",
    "\n",
    "# Crear tabla como matriz\n",
    "tabla_entera = [\n",
    "    [i,\n",
    "     produccion_entera[i],\n",
    "     inventario_entero[i],\n",
    "     costos_produccion[i] * produccion_entera[i],\n",
    "     costos_inventario[i] * inventario_entero[i]]\n",
    "    for i in 1:n\n",
    "]\n",
    "\n",
    "tabla_matriz_entera = Matrix(reduce(hcat, tabla_entera)')  # convertir a matriz real\n",
    "\n",
    "# Encabezado de columnas (puedes reutilizar el de antes o volverlo a definir)\n",
    "encabezado = [\"Mes\", \"Producción\", \"Inventario\", \"Costo producción\", \"Costo inventario\"]\n",
    "\n",
    "# Mostrar tabla\n",
    "println(\"\\nTabla con variables ENTERAS:\")\n",
    "pretty_table(tabla_matriz_entera; header = encabezado, formatters = (v, i, j) -> @sprintf(\"%.1f\", v))\n",
    "\n",
    "# Comparación de costos\n",
    "println(\"\\nCosto total óptimo (con producción entera): \\$\", round(objective_value(modelo_entero), digits=2))\n",
    "println(\"Costo total óptimo anterior (con producción continua): \\$\", round(objective_value(model), digits=2))\n",
    "\n",
    "ahorro_ent_vs_cont = objective_value(modelo_entero) - objective_value(model)\n",
    "println(\"Diferencia por usar enteros: \\$\", round(ahorro_ent_vs_cont, digits=2))\n"
   ]
  }
 ],
 "metadata": {
  "kernelspec": {
   "display_name": "Julia 1.11.6",
   "language": "julia",
   "name": "julia-1.11"
  },
  "language_info": {
   "file_extension": ".jl",
   "mimetype": "application/julia",
   "name": "julia",
   "version": "1.11.6"
  }
 },
 "nbformat": 4,
 "nbformat_minor": 5
}
