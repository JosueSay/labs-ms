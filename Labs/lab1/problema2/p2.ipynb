{
 "cells": [
  {
   "cell_type": "markdown",
   "id": "8e8fe09e",
   "metadata": {},
   "source": [
    "# Modelo de Producción, Períodos múltiples\n",
    "\n",
    "Acme Manufacturing Company firmó un contrato para entregar 180, 250, 190, 140, 220 y 250 ventanas para casa durante los siguientes seis meses. El costo de producción (mano de obra, material y servicios) por ventana varía por período y se estima que será de $50, $45, $55, $52, $48 y $50 durante los próximos seis meses. \n",
    "\n",
    "Para aprovechar las fluctuaciones del costo de fabricación, Acme puede producir más ventanas de las necesarias en un mes dado y conservar las unidades adicionales para entregarlas en meses posteriores. Esto supondrá un costo de almacenamiento del inventario a fin de mes, a razón de $8 por ventana por mes en los meses 1, 5 y 6. En los meses 2, 3 y 4, los costos por almacenaje son de $10 por ventana debido a la temporada de alta demanda.\n",
    "\n",
    "Asumiendo que la empresa tiene una capacidad máxima de producción de 225 ventanas cada mes, desarrolle un programa lineal para determinar el programa de producción óptimo.\n",
    "\n",
    "![Representación esquemática del sistema de producción e inventario](../images/ejemplo_p2.png)"
   ]
  },
  {
   "cell_type": "markdown",
   "id": "81b4112f",
   "metadata": {},
   "source": [
    "## a. Formular el problema de programación lineal."
   ]
  },
  {
   "cell_type": "code",
   "execution_count": null,
   "id": "b8078905",
   "metadata": {},
   "outputs": [],
   "source": []
  },
  {
   "cell_type": "markdown",
   "id": "adabd274",
   "metadata": {},
   "source": [
    "## b. Resolver el problema\n",
    "\n",
    "Usando la librería JuMP o Pulp, en variables continuas, y determinar la producción óptima. Haga un diagrama o esquema de la producción óptima, similar a la Figura 2, indicando las producciones en cada mes, así como los inventarios. Compare contra la solución (no óptima) que produce exactamente la demanda de cada mes. Elabore una tabla mes a mes, indicando los costos de producción, los costos de inventario, el costo total y el ahorro generado al compararlo con la producción no óptima anterior."
   ]
  },
  {
   "cell_type": "code",
   "execution_count": null,
   "id": "0fbc4d42",
   "metadata": {},
   "outputs": [],
   "source": []
  },
  {
   "cell_type": "markdown",
   "id": "3a1607d5",
   "metadata": {},
   "source": [
    "## c. ¿Se obtiene la misma solución óptima al introducir restricciones enteras?\n"
   ]
  },
  {
   "cell_type": "markdown",
   "id": "0f52a2ff",
   "metadata": {},
   "source": []
  }
 ],
 "metadata": {
  "kernelspec": {
   "display_name": "Julia 1.11.6",
   "language": "julia",
   "name": "julia-1.11"
  },
  "language_info": {
   "name": "julia"
  }
 },
 "nbformat": 4,
 "nbformat_minor": 5
}
