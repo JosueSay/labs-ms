{
 "cells": [
  {
   "cell_type": "markdown",
   "id": "3368b044",
   "metadata": {},
   "source": [
    "# Modelo de asignación de horarios\n",
    "\n",
    "La ciudad de Guatemala estudia la factibilidad de utilizar un sistema de autobuses de transporte masivo para reducir el tráfico urbano. El estudio busca la cantidad mínima de autobuses que satisfaga las necesidades de transporte. Después de reunir la información necesaria, el ingeniero de tránsito observó que la cantidad mínima de autobuses que se requería fluctuaba según la hora del día, y dicha cantidad se podía representar de forma aproximada por valores constantes durante intervalos de 4 horas sucesivos. La siguiente figura resume los hallazgos del ingeniero.\n",
    "\n",
    "| Turno | Horario                     |\n",
    "|-------|-----------------------------|\n",
    "| 1     | 00:00 A.M. a 07:59 A.M.     |\n",
    "| 2     | 04:00 A.M. a 11:59 A.M.     |\n",
    "| 3     | 08:00 A.M. a 03:59 P.M.     |\n",
    "| 4     | 12:00 P.M. a 07:59 P.M.     |\n",
    "| 5     | 04:00 P.M. a 11:59 P.M.     |\n",
    "| 6     | 08:00 P.M. a 03:59 A.M.     |\n",
    "\n",
    "![\"Cantidad (demanda) de buses en función de la hora del día\"](../images/ejemplo_p3.png)\n",
    "\n",
    "Para realizar el mantenimiento diario requerido, cada autobús puede operar sólo 8 horas continuas al día. Aquí, $x_i$ es la cantidad de autobuses que inician en el turno *i*. En este problema, se desea minimizar el número total de buses circulantes diarios, de modo que en cada tramo de tiempo, satisfaga la distribución de la demanda requerida (ver figura)."
   ]
  },
  {
   "cell_type": "markdown",
   "id": "dee1afdb",
   "metadata": {},
   "source": [
    "## Inciso a\n",
    "\n",
    "Formular el problema de programación lineal"
   ]
  },
  {
   "cell_type": "markdown",
   "id": "6265b457",
   "metadata": {},
   "source": [
    "### Contexto\n",
    "\n",
    "Se quiere minimizar el número total de autobuses necesarios para satisfacer la demanda durante el día, dividiendo el día en seis turnos de 8 horas. Cada autobús trabaja una jornada continua de 8 horas (por mantenimiento), iniciando en uno de los seis turnos definidos.\n",
    "\n",
    "La demanda de autobuses varía por tramos de 4 horas a lo largo del día (como se ve en la parte superior del gráfico). Para cada tramo de 4 horas se requiere una cierta cantidad mínima de autobuses circulando.\n",
    "\n",
    "Lo que se debe hacer es poder asignar la cantidad adecuada de buses a cada turno para cubrir todos los horarios sin poner buses de más."
   ]
  },
  {
   "cell_type": "markdown",
   "id": "894087bb",
   "metadata": {},
   "source": [
    "#### Turnos y Horarios\n",
    "\n",
    "| Turno | Horario       |\n",
    "| ----- | ------------- |\n",
    "| 1     | 00:00 – 07:59 |\n",
    "| 2     | 04:00 – 11:59 |\n",
    "| 3     | 08:00 – 15:59 |\n",
    "| 4     | 12:00 – 19:59 |\n",
    "| 5     | 16:00 – 23:59 |\n",
    "| 6     | 20:00 – 03:59 |\n",
    "\n",
    "Cada turno dura **8 horas** y se **traslapan** con otros turnos. Esto significa que **un mismo autobús puede cubrir varios bloques horarios** (como 04:00–07:59 + 08:00–11:59), dependiendo del turno en que inicia."
   ]
  },
  {
   "cell_type": "markdown",
   "id": "9295a30b",
   "metadata": {},
   "source": [
    "#### Imágen\n",
    "\n",
    "| Bloque horario (4h) | Intervalo     | Demanda mínima |\n",
    "| ------------------- | ------------- | -------------- |\n",
    "| B1                  | 00:00 – 03:59 | 4              |\n",
    "| B2                  | 04:00 – 07:59 | 8              |\n",
    "| B3                  | 08:00 – 11:59 | 10             |\n",
    "| B4                  | 12:00 – 15:59 | 7              |\n",
    "| B5                  | 16:00 – 19:59 | 12             |\n",
    "| B6                  | 20:00 – 23:59 | 4              |\n",
    "\n",
    "**Cada bloque horario debe tener al menos esa cantidad de autobuses operando, sin importar en qué turno empezaron.**\n",
    "\n",
    "Cada turno cubre 8h continuas:\n",
    "\n",
    "* **B1** (00:00–03:59): lo cubren $x_1$ y $x_6$\n",
    "* **B2** (04:00–07:59): lo cubren $x_1$ y $x_2$\n",
    "* **B3** (08:00–11:59): lo cubren $x_2$ y $x_3$\n",
    "* **B4** (12:00–15:59): lo cubren $x_3$ y $x_4$\n",
    "* **B5** (16:00–19:59): lo cubren $x_4$ y $x_5$\n",
    "* **B6** (20:00–23:59): lo cubren $x_5$ y $x_6$"
   ]
  },
  {
   "cell_type": "markdown",
   "id": "a8d6da62",
   "metadata": {},
   "source": [
    "### Formulación del problema\n",
    "\n",
    "#### Variable\n",
    "\n",
    "$x_i$ = cantidad de autobuses que inician turno $i$, con $i = 1,\\dots,6$\n",
    "\n",
    "*Esto lo sabemos dado que cada bus solo opera 8 horas (un turno). Si sabemos cuántos inician en cada turno, podemos calcular cuántos hay operando en cada bloque de 4 horas.*\n",
    "\n",
    "#### Función objetivo\n",
    "\n",
    "Minimizar la cantidad total de autobuses operando:\n",
    "\n",
    "$$\n",
    "\\min z = x_1 + x_2 + x_3 + x_4 + x_5 + x_6\n",
    "$$\n",
    "\n",
    "*Esto directamente nos lo piden ya que menos autobuses significa menos costos de operación, mantenimiento y personal, siempre que se cumpla con la demanda de transporte en cada bloque.*\n",
    "\n",
    "### Restricciones por bloque de horario\n",
    "\n",
    "$$\n",
    "\\begin{aligned}\n",
    "x_1 + x_6 &\\geq 4 \\quad \\text{(Bloque 1: 12:00am – 4:00am)} \\\\\n",
    "x_1 + x_2 &\\geq 8 \\quad \\text{(Bloque 2: 4:00am – 8:00am)} \\\\\n",
    "x_2 + x_3 &\\geq 10 \\quad \\text{(Bloque 3: 8:00am – 12:00pm)} \\\\\n",
    "x_3 + x_4 &\\geq 7 \\quad \\text{(Bloque 4: 12:00pm – 4:00pm)} \\\\\n",
    "x_4 + x_5 &\\geq 12 \\quad \\text{(Bloque 5: 4:00pm – 8:00pm)} \\\\\n",
    "x_5 + x_6 &\\geq 4 \\quad \\text{(Bloque 6: 8:00pm – 12:00am)}\n",
    "\\end{aligned}\n",
    "$$\n",
    "\n",
    "\n",
    "*Esto refleja que los turnos que estan operando durante su bloque de 4 horas.*\n",
    "\n",
    "### Restricción de no negatividad\n",
    "\n",
    "$$\n",
    "x_1, x_2, x_3, x_4, x_5, x_6 \\in \\mathbb{Z}_{\\geq 0}\n",
    "$$\n",
    "\n",
    "*No se puede tener fracción de buses ni cantidades negativas*"
   ]
  },
  {
   "cell_type": "markdown",
   "id": "4034f62e",
   "metadata": {},
   "source": [
    "## Inciso b\n",
    "\n",
    "Resolver el problema usando la librería JuMP o Pulp, en variables continuas, y determinar la distribución óptima."
   ]
  },
  {
   "cell_type": "code",
   "execution_count": 2,
   "id": "79147161",
   "metadata": {},
   "outputs": [
    {
     "name": "stderr",
     "output_type": "stream",
     "text": [
      "\u001b[32m\u001b[1m  Activating\u001b[22m\u001b[39m project at `d:\\repositorios\\UVG\\2025\\labs-ms\\Labs\\lab1`\n"
     ]
    },
    {
     "name": "stdout",
     "output_type": "stream",
     "text": [
      "\u001b[32m\u001b[1mStatus\u001b[22m\u001b[39m `D:\\repositorios\\UVG\\2025\\labs-ms\\Labs\\lab1\\Project.toml`\n",
      "  \u001b[90m[87dc4568] \u001b[39mHiGHS v1.18.2\n",
      "  \u001b[90m[b6b21f68] \u001b[39mIpopt v1.10.6\n",
      "\u001b[32m⌃\u001b[39m \u001b[90m[4076af6c] \u001b[39mJuMP v1.26.0\n",
      "  \u001b[90m[7f7a1694] \u001b[39mOptimization v4.4.0\n",
      "\u001b[36m\u001b[1mInfo\u001b[22m\u001b[39m Packages marked with \u001b[32m⌃\u001b[39m have new versions available and may be upgradable.\n"
     ]
    }
   ],
   "source": [
    "using Pkg\n",
    "Pkg.activate(\"..\")\n",
    "Pkg.instantiate()\n",
    "Pkg.status()"
   ]
  },
  {
   "cell_type": "markdown",
   "id": "1a785948",
   "metadata": {},
   "source": [
    "### Librerias"
   ]
  },
  {
   "cell_type": "code",
   "execution_count": 3,
   "id": "a17b2a51",
   "metadata": {},
   "outputs": [],
   "source": [
    "using JuMP\n",
    "using HiGHS"
   ]
  },
  {
   "cell_type": "markdown",
   "id": "ed452a92",
   "metadata": {},
   "source": [
    "### Creación del modelo"
   ]
  },
  {
   "cell_type": "code",
   "execution_count": 4,
   "id": "da4cd0b2",
   "metadata": {},
   "outputs": [
    {
     "data": {
      "text/plain": [
       "A JuMP Model\n",
       "├ solver: none\n",
       "├ objective_sense: FEASIBILITY_SENSE\n",
       "├ num_variables: 0\n",
       "├ num_constraints: 0\n",
       "└ Names registered in the model: none"
      ]
     },
     "execution_count": 4,
     "metadata": {},
     "output_type": "execute_result"
    }
   ],
   "source": [
    "model_p3 = Model()"
   ]
  },
  {
   "cell_type": "markdown",
   "id": "8515907d",
   "metadata": {},
   "source": [
    "### Definición de variables"
   ]
  },
  {
   "cell_type": "code",
   "execution_count": 5,
   "id": "220909c7",
   "metadata": {},
   "outputs": [
    {
     "data": {
      "text/latex": [
       "$ x6 $"
      ],
      "text/plain": [
       "x6"
      ]
     },
     "execution_count": 5,
     "metadata": {},
     "output_type": "execute_result"
    }
   ],
   "source": [
    "@variable(model_p3, x1 >= 0, Int)\n",
    "@variable(model_p3, x2 >= 0, Int)\n",
    "@variable(model_p3, x3 >= 0, Int)\n",
    "@variable(model_p3, x4 >= 0, Int)\n",
    "@variable(model_p3, x5 >= 0, Int)\n",
    "@variable(model_p3, x6 >= 0, Int)"
   ]
  },
  {
   "cell_type": "markdown",
   "id": "6630208c",
   "metadata": {},
   "source": [
    "### Definición de restricciones"
   ]
  },
  {
   "cell_type": "code",
   "execution_count": 6,
   "id": "6aba7a35",
   "metadata": {},
   "outputs": [
    {
     "data": {
      "text/latex": [
       "$$ x5 + x6 \\geq 4 $$"
      ],
      "text/plain": [
       "x5 + x6 >= 4"
      ]
     },
     "execution_count": 6,
     "metadata": {},
     "output_type": "execute_result"
    }
   ],
   "source": [
    "@constraint(model_p3, x1 + x6 >= 4)\n",
    "@constraint(model_p3, x1 + x2 >= 8)\n",
    "@constraint(model_p3, x2 + x3 >= 10)\n",
    "@constraint(model_p3, x3 + x4 >= 7)\n",
    "@constraint(model_p3, x4 + x5 >= 12)\n",
    "@constraint(model_p3, x5 + x6 >= 4)"
   ]
  },
  {
   "cell_type": "markdown",
   "id": "4233799b",
   "metadata": {},
   "source": [
    "## Función objetivo"
   ]
  },
  {
   "cell_type": "code",
   "execution_count": 7,
   "id": "069ff797",
   "metadata": {},
   "outputs": [
    {
     "data": {
      "text/latex": [
       "$ x1 + x2 + x3 + x4 + x5 + x6 $"
      ],
      "text/plain": [
       "x1 + x2 + x3 + x4 + x5 + x6"
      ]
     },
     "execution_count": 7,
     "metadata": {},
     "output_type": "execute_result"
    }
   ],
   "source": [
    "@objective(model_p3, Min, x1 + x2 + x3 + x4 + x5 + x6)"
   ]
  },
  {
   "cell_type": "markdown",
   "id": "266f45a1",
   "metadata": {},
   "source": [
    "### Configuración y aplicación del solver"
   ]
  },
  {
   "cell_type": "code",
   "execution_count": 8,
   "id": "466b088d",
   "metadata": {},
   "outputs": [
    {
     "name": "stdout",
     "output_type": "stream",
     "text": [
      "Running HiGHS 1.11.0 (git hash: 364c83a51e): Copyright (c) 2025 HiGHS under MIT licence terms\n",
      "MIP  has 6 rows; 6 cols; 12 nonzeros; 6 integer variables (0 binary)\n",
      "Coefficient ranges:\n",
      "  Matrix [1e+00, 1e+00]\n",
      "  Cost   [1e+00, 1e+00]\n",
      "  Bound  [0e+00, 0e+00]\n",
      "  RHS    [4e+00, 1e+01]\n",
      "Presolving model\n",
      "6 rows, 6 cols, 12 nonzeros  0s\n",
      "6 rows, 6 cols, 12 nonzeros  0s\n",
      "Objective function is integral with scale 1\n",
      "\n",
      "Solving MIP model with:\n",
      "   6 rows\n",
      "   6 cols (0 binary, 6 integer, 0 implied int., 0 continuous, 0 domain fixed)\n",
      "   12 nonzeros\n",
      "\n",
      "Src: B => Branching; C => Central rounding; F => Feasibility pump; J => Feasibility jump;\n",
      "     H => Heuristic; L => Sub-MIP; P => Empty MIP; R => Randomized rounding; Z => ZI Round;\n",
      "     I => Shifting; S => Solve LP; T => Evaluate node; U => Unbounded; X => User solution;\n",
      "     z => Trivial zero; l => Trivial lower; u => Trivial upper; p => Trivial point\n",
      "\n",
      "        Nodes      |    B&B Tree     |            Objective Bounds              |  Dynamic Constraints |       Work      \n",
      "Src  Proc. InQueue |  Leaves   Expl. | BestBound       BestSol              Gap |   Cuts   InLp Confl. | LpIters     Time\n",
      "\n",
      " J       0       0         0   0.00%   -inf            26                 Large        0      0      0         0     0.0s\n",
      "         1       0         1 100.00%   26              26                 0.00%        0      0      0         5     0.0s\n",
      "\n",
      "Solving report\n",
      "  Status            Optimal\n",
      "  Primal bound      26\n",
      "  Dual bound        26\n",
      "  Gap               0% (tolerance: 0.01%)\n",
      "  P-D integral      0.000220060348511\n",
      "  Solution status   feasible\n",
      "                    26 (objective)\n",
      "                    0 (bound viol.)\n",
      "                    0 (int. viol.)\n",
      "                    0 (row viol.)\n",
      "  Timing            0.01 (total)\n",
      "                    0.00 (presolve)\n",
      "                    0.00 (solve)\n",
      "                    0.00 (postsolve)\n",
      "  Max sub-MIP depth 0\n",
      "  Nodes             1\n",
      "  Repair LPs        0 (0 feasible; 0 iterations)\n",
      "  LP iterations     5 (total)\n",
      "                    0 (strong br.)\n",
      "                    0 (separation)\n",
      "                    0 (heuristics)\n"
     ]
    }
   ],
   "source": [
    "set_optimizer(model_p3, HiGHS.Optimizer)\n",
    "optimize!(model_p3)"
   ]
  },
  {
   "cell_type": "markdown",
   "id": "f080149d",
   "metadata": {},
   "source": [
    "### Resultados"
   ]
  },
  {
   "cell_type": "code",
   "execution_count": 9,
   "id": "9c3c2984",
   "metadata": {},
   "outputs": [
    {
     "name": "stdout",
     "output_type": "stream",
     "text": [
      "Resultados:\n",
      "x1 (00:00-08:00) = 4.0\n",
      "x2 (04:00-12:00) = 8.0\n",
      "x3 (08:00-16:00) = 2.0\n",
      "x4 (12:00-20:00) = 7.0\n",
      "x5 (16:00-24:00) = 5.0\n",
      "x6 (20:00-04:00) = -0.0\n",
      "Total mínimo de autobuses necesarios (z) = 26.0\n"
     ]
    }
   ],
   "source": [
    "println(\"Resultados:\")\n",
    "println(\"x1 (00:00-08:00) = \", value(x1))\n",
    "println(\"x2 (04:00-12:00) = \", value(x2))\n",
    "println(\"x3 (08:00-16:00) = \", value(x3))\n",
    "println(\"x4 (12:00-20:00) = \", value(x4))\n",
    "println(\"x5 (16:00-24:00) = \", value(x5))\n",
    "println(\"x6 (20:00-04:00) = \", value(x6))\n",
    "println(\"Total mínimo de autobuses necesarios (z) = \", objective_value(model_p3))"
   ]
  },
  {
   "cell_type": "markdown",
   "id": "25192d1d",
   "metadata": {},
   "source": [
    "### Respuesta\n",
    "\n",
    "| Turno    | Horario       | $x_i$    | Resultado                                       |\n",
    "| -------- | ------------- | -------- | ----------------------------------------------- |\n",
    "| $x_1$    | 00:00 – 08:00 | 4        | Inician 4 buses a medianoche                    |\n",
    "| $x_2$    | 04:00 – 12:00 | 8        | Inician 8 buses a las 4 am                      |\n",
    "| $x_3$    | 08:00 – 16:00 | 2        | Inician 2 buses a las 8 am                      | \n",
    "| $x_4$    | 12:00 – 20:00 | 7        | Inician 7 buses a mediodía                      |\n",
    "| $x_5$    | 16:00 – 24:00 | 5        | Inician 5 buses a las 4 pm                      |\n",
    "| $x_6$    | 20:00 – 04:00 | 0        | No se necesita ningún bus comenzando a las 8 pm |\n",
    "\n",
    "En los resultados podemos ver cuántos buses deben iniciar su turno en dicha hora para los $x_i$, dando una suma total de 26 buses al día para cubrir la demanda."
   ]
  }
 ],
 "metadata": {
  "kernelspec": {
   "display_name": "Julia 1.11.6",
   "language": "julia",
   "name": "julia-1.11"
  },
  "language_info": {
   "file_extension": ".jl",
   "mimetype": "application/julia",
   "name": "julia",
   "version": "1.11.6"
  }
 },
 "nbformat": 4,
 "nbformat_minor": 5
}
