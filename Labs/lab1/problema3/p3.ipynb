{
 "cells": [
  {
   "cell_type": "markdown",
   "id": "3368b044",
   "metadata": {},
   "source": [
    "# Modelo de asignación de horarios\n",
    "\n",
    "La ciudad de Guatemala estudia la factibilidad de utilizar un sistema de autobuses de transporte masivo para reducir el tráfico urbano. El estudio busca la cantidad mínima de autobuses que satisfaga las necesidades de transporte. Después de reunir la información necesaria, el ingeniero de tránsito observó que la cantidad mínima de autobuses que se requería fluctuaba según la hora del día, y dicha cantidad se podía representar de forma aproximada por valores constantes durante intervalos de 4 horas sucesivos. La siguiente figura resume los hallazgos del ingeniero.\n",
    "\n",
    "| Turno | Horario                     |\n",
    "|-------|-----------------------------|\n",
    "| 1     | 00:00 A.M. a 07:59 A.M.     |\n",
    "| 2     | 04:00 A.M. a 11:59 A.M.     |\n",
    "| 3     | 08:00 A.M. a 03:59 P.M.     |\n",
    "| 4     | 12:00 P.M. a 07:59 P.M.     |\n",
    "| 5     | 04:00 P.M. a 11:59 P.M.     |\n",
    "| 6     | 08:00 P.M. a 03:59 A.M.     |\n",
    "\n",
    "![\"Cantidad (demanda) de buses en función de la hora del día\"](../images/ejemplo_p3.png)"
   ]
  },
  {
   "cell_type": "markdown",
   "id": "7ae711ab",
   "metadata": {},
   "source": [
    "Para realizar el mantenimiento diario requerido, cada autobús puede operar sólo 8 horas continuas al día. Aquí, \\( x_i \\) es la cantidad de autobuses que inician en el turno *i*. En este problema, se desea minimizar el número total de buses circulantes diarios, de modo que en cada tramo de tiempo, satisfaga la distribución de la demanda requerida (ver figura)."
   ]
  },
  {
   "cell_type": "markdown",
   "id": "dee1afdb",
   "metadata": {},
   "source": [
    "## a. Formular el problema de programación lineal.  "
   ]
  },
  {
   "cell_type": "code",
   "execution_count": null,
   "id": "79147161",
   "metadata": {},
   "outputs": [],
   "source": []
  },
  {
   "cell_type": "markdown",
   "id": "4034f62e",
   "metadata": {},
   "source": [
    "## b. Resolver el problema usando la librería JuMP o Pulp, en variables continuas, y determinar la distribución óptima."
   ]
  },
  {
   "cell_type": "code",
   "execution_count": null,
   "id": "da4cd0b2",
   "metadata": {},
   "outputs": [],
   "source": []
  }
 ],
 "metadata": {
  "kernelspec": {
   "display_name": "Julia 1.11.6",
   "language": "julia",
   "name": "julia-1.11"
  },
  "language_info": {
   "name": "julia"
  }
 },
 "nbformat": 4,
 "nbformat_minor": 5
}
