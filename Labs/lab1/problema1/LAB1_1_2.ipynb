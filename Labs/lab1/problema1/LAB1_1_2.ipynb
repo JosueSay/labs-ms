{
 "cells": [
  {
   "cell_type": "code",
   "execution_count": 4,
   "id": "94a08910-b2a8-4e9c-bd1e-98d4f0fdae39",
   "metadata": {},
   "outputs": [
    {
     "ename": "SyntaxError",
     "evalue": "invalid syntax (2923312051.py, line 1)",
     "output_type": "error",
     "traceback": [
      "  \u001b[36mCell\u001b[39m\u001b[36m \u001b[39m\u001b[32mIn[4]\u001b[39m\u001b[32m, line 1\u001b[39m\n\u001b[31m    \u001b[39m\u001b[31musing Pkg\u001b[39m\n          ^\n\u001b[31mSyntaxError\u001b[39m\u001b[31m:\u001b[39m invalid syntax\n"
     ]
    }
   ],
   "source": [
    "using Pkg\n",
    "using JuMP\n",
    "using HiGHS\n",
    "using Ipopt\n",
    "using Optimization\n"
   ]
  },
  {
   "cell_type": "code",
   "execution_count": null,
   "id": "acdfe691-7c8b-470f-a950-7626a0488ddd",
   "metadata": {},
   "outputs": [
    {
     "data": {
      "text/plain": [
       "A JuMP Model\n",
       "├ solver: none\n",
       "├ objective_sense: FEASIBILITY_SENSE\n",
       "├ num_variables: 0\n",
       "├ num_constraints: 0\n",
       "└ Names registered in the model: none"
      ]
     },
     "execution_count": 5,
     "metadata": {},
     "output_type": "execute_result"
    }
   ],
   "source": [
    "model = Model()"
   ]
  },
  {
   "cell_type": "code",
   "execution_count": null,
   "id": "e1e8eac3-d076-4e08-86b4-fb46cfb762fb",
   "metadata": {},
   "outputs": [
    {
     "data": {
      "text/plain": [
       "A JuMP Model\n",
       "├ solver: none\n",
       "├ objective_sense: FEASIBILITY_SENSE\n",
       "├ num_variables: 4\n",
       "├ num_constraints: 4\n",
       "│ └ VariableRef in MOI.GreaterThan{Float64}: 4\n",
       "└ Names registered in the model\n",
       "  └ :x1, :x2, :x3, :x4"
      ]
     },
     "execution_count": 7,
     "metadata": {},
     "output_type": "execute_result"
    }
   ],
   "source": [
    "@variable(model, x1 >= 0)\n",
    "@variable(model, x2 >= 0)\n",
    "@variable(model, x3 >= 0)\n",
    "@variable(model, x4 >= 0)\n",
    "model"
   ]
  },
  {
   "cell_type": "code",
   "execution_count": null,
   "id": "34b8e509-bc88-44f8-8936-f6a43459d02d",
   "metadata": {},
   "outputs": [
    {
     "data": {
      "text/latex": [
       "$$ -x1 + x3 + 2 x4 \\leq 0 $$"
      ],
      "text/plain": [
       "-x1 + x3 + 2 x4 <= 0"
      ]
     },
     "execution_count": 15,
     "metadata": {},
     "output_type": "execute_result"
    }
   ],
   "source": [
    "@constraint(model, x1 + 2x2 - 3x3 + 5x4 <= 4)\n",
    "@constraint(model, 5x1 - 2x2 + 6x4 <= 8)\n",
    "@constraint(model, 2x1 + 3x2 - 2x3 + 3x4 <= 3)\n",
    "@constraint(model, -x1 + x3 + 2x4 <= 0)"
   ]
  },
  {
   "cell_type": "code",
   "execution_count": null,
   "id": "b90713a1-9430-4ea8-9a13-4cfb4587fcf1",
   "metadata": {},
   "outputs": [
    {
     "data": {
      "text/latex": [
       "$ x1 + x2 + 3 x3 + 2 x4 $"
      ],
      "text/plain": [
       "x1 + x2 + 3 x3 + 2 x4"
      ]
     },
     "execution_count": 17,
     "metadata": {},
     "output_type": "execute_result"
    }
   ],
   "source": [
    "@objective(model, Max, x1 + x2 + 3x3 + 2x4)"
   ]
  },
  {
   "cell_type": "code",
   "execution_count": null,
   "id": "6054a915-2b00-4c51-b0f6-3e5f79d2ffca",
   "metadata": {},
   "outputs": [
    {
     "data": {
      "text/plain": [
       "A JuMP Model\n",
       "├ solver: HiGHS\n",
       "├ objective_sense: MAX_SENSE\n",
       "│ └ objective_function_type: AffExpr\n",
       "├ num_variables: 4\n",
       "├ num_constraints: 8\n",
       "│ ├ AffExpr in MOI.LessThan{Float64}: 4\n",
       "│ └ VariableRef in MOI.GreaterThan{Float64}: 4\n",
       "└ Names registered in the model\n",
       "  └ :x1, :x2, :x3, :x4"
      ]
     },
     "execution_count": 19,
     "metadata": {},
     "output_type": "execute_result"
    }
   ],
   "source": [
    "set_optimizer(model, HiGHS.Optimizer)\n",
    "model"
   ]
  },
  {
   "cell_type": "code",
   "execution_count": null,
   "id": "28317165-5ab3-4d51-901f-1ae6e3050b81",
   "metadata": {},
   "outputs": [
    {
     "name": "stdout",
     "output_type": "stream",
     "text": [
      "Running HiGHS 1.11.0 (git hash: 364c83a51e): Copyright (c) 2025 HiGHS under MIT licence terms\n",
      "LP   has 4 rows; 4 cols; 14 nonzeros\n",
      "Coefficient ranges:\n",
      "  Matrix [1e+00, 6e+00]\n",
      "  Cost   [1e+00, 3e+00]\n",
      "  Bound  [0e+00, 0e+00]\n",
      "  RHS    [3e+00, 8e+00]\n",
      "Presolving model\n",
      "4 rows, 3 cols, 10 nonzeros  0s\n",
      "0 rows, 0 cols, 0 nonzeros  0s\n",
      "Presolve : Reductions: rows 0(-4); columns 0(-4); elements 0(-14) - Reduced to empty\n",
      "Solving the original LP from the solution after postsolve\n",
      "Model status        : Optimal\n",
      "Objective value     :  9.0000000000e+00\n",
      "P-D objective error :  0.0000000000e+00\n",
      "HiGHS run time      :          0.00\n"
     ]
    }
   ],
   "source": [
    "optimize!(model)"
   ]
  },
  {
   "cell_type": "code",
   "execution_count": null,
   "id": "afb85f3a-31f6-422c-822d-34f0810fce42",
   "metadata": {},
   "outputs": [
    {
     "name": "stdout",
     "output_type": "stream",
     "text": [
      "Solución óptima:\n",
      "x1 = 2.0\n",
      "x2 = 1.0\n",
      "x3 = 2.0\n",
      "x4 = 0.0\n",
      "Valor objetivo (z) = 9.0\n"
     ]
    }
   ],
   "source": [
    "println(\"Solución óptima:\")\n",
    "println(\"x1 = \", value(x1))\n",
    "println(\"x2 = \", value(x2))\n",
    "println(\"x3 = \", value(x3))\n",
    "println(\"x4 = \", value(x4))\n",
    "println(\"Valor objetivo (z) = \", objective_value(model))"
   ]
  }
 ],
 "metadata": {
  "kernelspec": {
   "display_name": "Python 3",
   "language": "python",
   "name": "python3"
  },
  "language_info": {
   "codemirror_mode": {
    "name": "ipython",
    "version": 3
   },
   "file_extension": ".py",
   "mimetype": "text/x-python",
   "name": "python",
   "nbconvert_exporter": "python",
   "pygments_lexer": "ipython3",
   "version": "3.13.2"
  }
 },
 "nbformat": 4,
 "nbformat_minor": 5
}
