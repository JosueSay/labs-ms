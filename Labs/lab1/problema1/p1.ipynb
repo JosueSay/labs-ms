{
 "cells": [
  {
   "cell_type": "markdown",
   "id": "2996d79b",
   "metadata": {},
   "source": [
    "# Primer inciso"
   ]
  },
  {
   "cell_type": "markdown",
   "id": "9a06ac4a",
   "metadata": {},
   "source": [
    "Considere el siguiente problema de programación lineal:\n",
    "Maximizar $z = x_1 + x_2 + 3x_3 + 2x_4 $,\n",
    "\n",
    "sujeto a:\n",
    "\n",
    "$$\n",
    "\\begin{aligned}\n",
    "x_1 + 2x_2 - 3x_3 + 5x_4 &\\leq 4 \\\\\n",
    "5x_1 - 2x_2 + 6x_4 &\\leq 8 \\\\\n",
    "2x_1 + 3x_2 - 2x_3 + 3x_4 &\\leq 3 \\\\\n",
    "-x_1 + x_3 + 2x_4 &\\leq 0 \\\\\n",
    "x_1, x_2, x_3, x_4 &\\geq 0\n",
    "\\end{aligned}\n",
    "$$"
   ]
  },
  {
   "cell_type": "markdown",
   "id": "3207f64a",
   "metadata": {},
   "source": [
    "## Inciso a\n",
    "\n",
    "Resolver el problema implementando el algoritmo simplex en Excel."
   ]
  },
  {
   "cell_type": "code",
   "execution_count": null,
   "id": "6e20cdaf",
   "metadata": {},
   "outputs": [],
   "source": []
  },
  {
   "cell_type": "markdown",
   "id": "d534620e",
   "metadata": {},
   "source": [
    "## Inciso b\n",
    "\n",
    "Comparar con la solución obtenida en JuMP o Pulp."
   ]
  },
  {
   "cell_type": "code",
   "execution_count": null,
   "id": "e06cbb68",
   "metadata": {},
   "outputs": [],
   "source": []
  }
 ],
 "metadata": {
  "kernelspec": {
   "display_name": "Julia 1.11.6",
   "language": "julia",
   "name": "julia-1.11"
  },
  "language_info": {
   "name": "julia"
  }
 },
 "nbformat": 4,
 "nbformat_minor": 5
}
