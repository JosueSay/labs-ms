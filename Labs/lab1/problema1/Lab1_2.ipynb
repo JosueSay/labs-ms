{
 "cells": [
  {
   "cell_type": "code",
   "execution_count": 17,
   "id": "79e093af-8baa-417a-bbe1-8ccea7e54ac3",
   "metadata": {},
   "outputs": [],
   "source": [
    "using Pkg\n",
    "using JuMP\n",
    "using HiGHS\n",
    "using Ipopt\n",
    "using Optimization"
   ]
  },
  {
   "cell_type": "code",
   "execution_count": 19,
   "id": "8c69ee5f-eead-4fe4-80ce-12a52aa7a7eb",
   "metadata": {},
   "outputs": [
    {
     "data": {
      "text/plain": [
       "A JuMP Model\n",
       "├ solver: none\n",
       "├ objective_sense: FEASIBILITY_SENSE\n",
       "├ num_variables: 0\n",
       "├ num_constraints: 0\n",
       "└ Names registered in the model: none"
      ]
     },
     "execution_count": 19,
     "metadata": {},
     "output_type": "execute_result"
    }
   ],
   "source": [
    "model = Model()"
   ]
  },
  {
   "cell_type": "code",
   "execution_count": 20,
   "id": "db0934dd-7d89-44d2-b6b2-7faeb251b16a",
   "metadata": {},
   "outputs": [
    {
     "data": {
      "text/plain": [
       "A JuMP Model\n",
       "├ solver: none\n",
       "├ objective_sense: FEASIBILITY_SENSE\n",
       "├ num_variables: 4\n",
       "├ num_constraints: 4\n",
       "│ └ VariableRef in MOI.GreaterThan{Float64}: 4\n",
       "└ Names registered in the model\n",
       "  └ :x1, :x2, :x3, :x4"
      ]
     },
     "execution_count": 20,
     "metadata": {},
     "output_type": "execute_result"
    }
   ],
   "source": [
    "@variable(model, x1 >= 0)\n",
    "@variable(model, x2 >= 0)\n",
    "@variable(model, x3 >= 0)\n",
    "@variable(model, x4 >= 0)\n",
    "model"
   ]
  },
  {
   "cell_type": "code",
   "execution_count": 23,
   "id": "45231738-08fb-43c9-b0e3-178d8ce7ac53",
   "metadata": {},
   "outputs": [
    {
     "data": {
      "text/latex": [
       "$$ -x1 + x3 + 2 x4 \\leq 0 $$"
      ],
      "text/plain": [
       "-x1 + x3 + 2 x4 <= 0"
      ]
     },
     "execution_count": 23,
     "metadata": {},
     "output_type": "execute_result"
    }
   ],
   "source": [
    "@constraint(model, x1 + 2x2 - 3x3 + 5x4 <= 4)\n",
    "@constraint(model, 5x1 - 2x2 + 6x4 <= 8)\n",
    "@constraint(model, 2x1 + 3x2 - 2x3 + 3x4 <= 3)\n",
    "@constraint(model, -x1 + x3 + 2x4 <= 0)"
   ]
  },
  {
   "cell_type": "code",
   "execution_count": 25,
   "id": "d8e9850a-e68c-4b98-aa16-1802085e9500",
   "metadata": {},
   "outputs": [
    {
     "data": {
      "text/latex": [
       "$ x1 + x2 + 3 x3 + 2 x4 $"
      ],
      "text/plain": [
       "x1 + x2 + 3 x3 + 2 x4"
      ]
     },
     "execution_count": 25,
     "metadata": {},
     "output_type": "execute_result"
    }
   ],
   "source": [
    "@objective(model, Max, x1 + x2 + 3x3 + 2x4)"
   ]
  },
  {
   "cell_type": "code",
   "execution_count": 27,
   "id": "036a7cae-13a9-4b0c-8c3d-4e8e6e4ff08f",
   "metadata": {},
   "outputs": [
    {
     "data": {
      "text/plain": [
       "A JuMP Model\n",
       "├ solver: HiGHS\n",
       "├ objective_sense: MAX_SENSE\n",
       "│ └ objective_function_type: AffExpr\n",
       "├ num_variables: 4\n",
       "├ num_constraints: 8\n",
       "│ ├ AffExpr in MOI.LessThan{Float64}: 4\n",
       "│ └ VariableRef in MOI.GreaterThan{Float64}: 4\n",
       "└ Names registered in the model\n",
       "  └ :x1, :x2, :x3, :x4"
      ]
     },
     "execution_count": 27,
     "metadata": {},
     "output_type": "execute_result"
    }
   ],
   "source": [
    "set_optimizer(model, HiGHS.Optimizer)\n",
    "model"
   ]
  },
  {
   "cell_type": "code",
   "execution_count": 29,
   "id": "1655d42a-9ab3-44fd-86aa-476e95622ee2",
   "metadata": {},
   "outputs": [
    {
     "name": "stdout",
     "output_type": "stream",
     "text": [
      "Running HiGHS 1.11.0 (git hash: 364c83a51e): Copyright (c) 2025 HiGHS under MIT licence terms\n",
      "LP   has 4 rows; 4 cols; 14 nonzeros\n",
      "Coefficient ranges:\n",
      "  Matrix [1e+00, 6e+00]\n",
      "  Cost   [1e+00, 3e+00]\n",
      "  Bound  [0e+00, 0e+00]\n",
      "  RHS    [3e+00, 8e+00]\n",
      "Presolving model\n",
      "4 rows, 3 cols, 10 nonzeros  0s\n",
      "0 rows, 0 cols, 0 nonzeros  0s\n",
      "Presolve : Reductions: rows 0(-4); columns 0(-4); elements 0(-14) - Reduced to empty\n",
      "Solving the original LP from the solution after postsolve\n",
      "Model status        : Optimal\n",
      "Objective value     :  9.0000000000e+00\n",
      "P-D objective error :  0.0000000000e+00\n",
      "HiGHS run time      :          0.00\n"
     ]
    }
   ],
   "source": [
    "optimize!(model)"
   ]
  },
  {
   "cell_type": "code",
   "execution_count": 33,
   "id": "cd1fc228-0973-4b10-b756-db782c63796f",
   "metadata": {},
   "outputs": [
    {
     "name": "stdout",
     "output_type": "stream",
     "text": [
      "Solución óptima: \n",
      "x1 = 2.0\n",
      "x2 = 1.0\n",
      "x3 = 2.0\n",
      "x4 = 0.0\n",
      "Valor objetivo (z) = 9.0\n"
     ]
    },
    {
     "data": {
      "text/plain": [
       "(nothing, nothing, nothing, nothing, nothing, nothing)"
      ]
     },
     "execution_count": 33,
     "metadata": {},
     "output_type": "execute_result"
    }
   ],
   "source": [
    "println(\"Solución óptima: \"),\n",
    "println(\"x1 = \", value(x1)),\n",
    "println(\"x2 = \", value(x2)),\n",
    "println(\"x3 = \", value(x3)),\n",
    "println(\"x4 = \", value(x4)),\n",
    "println(\"Valor objetivo (z) = \", objective_value(model))"
   ]
  },
  {
   "cell_type": "code",
   "execution_count": null,
   "id": "db5c57a6-fe90-4134-b9a2-72d91e462722",
   "metadata": {},
   "outputs": [],
   "source": []
  }
 ],
 "metadata": {
  "kernelspec": {
   "display_name": "Julia 1.11.6",
   "language": "julia",
   "name": "julia-1.11"
  },
  "language_info": {
   "file_extension": ".jl",
   "mimetype": "application/julia",
   "name": "julia",
   "version": "1.11.6"
  }
 },
 "nbformat": 4,
 "nbformat_minor": 5
}
