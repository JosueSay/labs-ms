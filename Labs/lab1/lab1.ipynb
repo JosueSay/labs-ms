{
 "cells": [
  {
   "cell_type": "markdown",
   "id": "df449564",
   "metadata": {},
   "source": [
    "# Laboratorio 1\n",
    "\n",
    "## Integrantes\n",
    "\n",
    "- Abby Donis\n",
    "- Cindy Gualim\n",
    "- Josué Say - 22801\n",
    "\n",
    "## Repositorio\n",
    "\n",
    "- [Enlace a GitHub](https://github.com/JosueSay/labs-ms/tree/main/Labs/lab1)"
   ]
  },
  {
   "cell_type": "markdown",
   "id": "e0603e3b",
   "metadata": {},
   "source": [
    "## Preparación de entorno"
   ]
  },
  {
   "cell_type": "markdown",
   "id": "f9a78908",
   "metadata": {},
   "source": [
    "Usar si se está trabajando en lab:"
   ]
  },
  {
   "cell_type": "code",
   "execution_count": 2,
   "id": "28f57fce",
   "metadata": {},
   "outputs": [
    {
     "name": "stderr",
     "output_type": "stream",
     "text": [
      "\u001b[32m\u001b[1m  Activating\u001b[22m\u001b[39m project at `d:\\repositorios\\UVG\\2025\\labs-ms\\Labs\\lab1`\n",
      "\u001b[32m\u001b[1m    Updating\u001b[22m\u001b[39m registry at `C:\\Users\\josue\\.julia\\registries\\General.toml`\n",
      "\u001b[32m\u001b[1m   Resolving\u001b[22m\u001b[39m package versions...\n",
      "\u001b[32m\u001b[1m  No Changes\u001b[22m\u001b[39m to `D:\\repositorios\\UVG\\2025\\labs-ms\\Labs\\lab1\\Project.toml`\n",
      "\u001b[32m\u001b[1m  No Changes\u001b[22m\u001b[39m to `D:\\repositorios\\UVG\\2025\\labs-ms\\Labs\\lab1\\Manifest.toml`\n",
      "\u001b[32m\u001b[1m   Resolving\u001b[22m\u001b[39m package versions...\n",
      "\u001b[32m\u001b[1m  No Changes\u001b[22m\u001b[39m to `D:\\repositorios\\UVG\\2025\\labs-ms\\Labs\\lab1\\Project.toml`\n",
      "\u001b[32m\u001b[1m  No Changes\u001b[22m\u001b[39m to `D:\\repositorios\\UVG\\2025\\labs-ms\\Labs\\lab1\\Manifest.toml`\n",
      "\u001b[32m\u001b[1m   Resolving\u001b[22m\u001b[39m package versions...\n",
      "\u001b[32m\u001b[1m   Installed\u001b[22m\u001b[39m HiGHS_jll ─ v1.11.0+1\n",
      "\u001b[32m\u001b[1m   Installed\u001b[22m\u001b[39m HiGHS ───── v1.18.2\n",
      "\u001b[32m\u001b[1m    Updating\u001b[22m\u001b[39m `D:\\repositorios\\UVG\\2025\\labs-ms\\Labs\\lab1\\Project.toml`\n",
      "  \u001b[90m[87dc4568] \u001b[39m\u001b[92m+ HiGHS v1.18.2\u001b[39m\n",
      "\u001b[32m\u001b[1m    Updating\u001b[22m\u001b[39m `D:\\repositorios\\UVG\\2025\\labs-ms\\Labs\\lab1\\Manifest.toml`\n",
      "  \u001b[90m[87dc4568] \u001b[39m\u001b[92m+ HiGHS v1.18.2\u001b[39m\n",
      "  \u001b[90m[8fd58aa0] \u001b[39m\u001b[92m+ HiGHS_jll v1.11.0+1\u001b[39m\n",
      "\u001b[92m\u001b[1mPrecompiling\u001b[22m\u001b[39m project...\n",
      "    522.0 ms\u001b[32m  ✓ \u001b[39m\u001b[90mHiGHS_jll\u001b[39m\n",
      "   7599.2 ms\u001b[32m  ✓ \u001b[39mHiGHS\n",
      "  2 dependencies successfully precompiled in 8 seconds. 51 already precompiled.\n",
      "\u001b[32m\u001b[1m   Resolving\u001b[22m\u001b[39m package versions...\n",
      "\u001b[32m\u001b[1m   Installed\u001b[22m\u001b[39m Hwloc_jll ────── v2.12.1+0\n",
      "\u001b[32m\u001b[1m   Installed\u001b[22m\u001b[39m Ipopt_jll ────── v300.1400.1701+0\n",
      "\u001b[32m\u001b[1m   Installed\u001b[22m\u001b[39m OpenBLAS32_jll ─ v0.3.29+0\n",
      "\u001b[32m\u001b[1m   Installed\u001b[22m\u001b[39m MUMPS_seq_jll ── v500.800.0+0\n",
      "\u001b[32m\u001b[1m   Installed\u001b[22m\u001b[39m METIS_jll ────── v5.1.3+0\n",
      "\u001b[32m\u001b[1m   Installed\u001b[22m\u001b[39m SPRAL_jll ────── v2025.5.20+0\n",
      "\u001b[32m\u001b[1m   Installed\u001b[22m\u001b[39m ASL_jll ──────── v0.1.3+0\n",
      "\u001b[32m\u001b[1m   Installed\u001b[22m\u001b[39m Ipopt ────────── v1.10.6\n",
      "\u001b[32m\u001b[1m    Updating\u001b[22m\u001b[39m `D:\\repositorios\\UVG\\2025\\labs-ms\\Labs\\lab1\\Project.toml`\n",
      "  \u001b[90m[b6b21f68] \u001b[39m\u001b[92m+ Ipopt v1.10.6\u001b[39m\n",
      "\u001b[32m\u001b[1m    Updating\u001b[22m\u001b[39m `D:\\repositorios\\UVG\\2025\\labs-ms\\Labs\\lab1\\Manifest.toml`\n",
      "  \u001b[90m[b6b21f68] \u001b[39m\u001b[92m+ Ipopt v1.10.6\u001b[39m\n",
      "  \u001b[90m[ae81ac8f] \u001b[39m\u001b[92m+ ASL_jll v0.1.3+0\u001b[39m\n",
      "  \u001b[90m[e33a78d0] \u001b[39m\u001b[92m+ Hwloc_jll v2.12.1+0\u001b[39m\n",
      "  \u001b[90m[9cc047cb] \u001b[39m\u001b[92m+ Ipopt_jll v300.1400.1701+0\u001b[39m\n",
      "  \u001b[90m[d00139f3] \u001b[39m\u001b[92m+ METIS_jll v5.1.3+0\u001b[39m\n",
      "  \u001b[90m[d7ed1dd3] \u001b[39m\u001b[92m+ MUMPS_seq_jll v500.800.0+0\u001b[39m\n",
      "  \u001b[90m[656ef2d0] \u001b[39m\u001b[92m+ OpenBLAS32_jll v0.3.29+0\u001b[39m\n",
      "  \u001b[90m[319450e9] \u001b[39m\u001b[92m+ SPRAL_jll v2025.5.20+0\u001b[39m\n",
      "  \u001b[90m[0dad84c5] \u001b[39m\u001b[92m+ ArgTools v1.1.2\u001b[39m\n",
      "  \u001b[90m[f43a241f] \u001b[39m\u001b[92m+ Downloads v1.6.0\u001b[39m\n",
      "  \u001b[90m[7b1f6079] \u001b[39m\u001b[92m+ FileWatching v1.11.0\u001b[39m\n",
      "  \u001b[90m[b27032c2] \u001b[39m\u001b[92m+ LibCURL v0.6.4\u001b[39m\n",
      "  \u001b[90m[76f85450] \u001b[39m\u001b[92m+ LibGit2 v1.11.0\u001b[39m\n",
      "  \u001b[90m[ca575930] \u001b[39m\u001b[92m+ NetworkOptions v1.2.0\u001b[39m\n",
      "  \u001b[90m[44cfe95a] \u001b[39m\u001b[92m+ Pkg v1.11.0\u001b[39m\n",
      "  \u001b[90m[a4e569a6] \u001b[39m\u001b[92m+ Tar v1.10.0\u001b[39m\n",
      "  \u001b[90m[deac9b47] \u001b[39m\u001b[92m+ LibCURL_jll v8.6.0+0\u001b[39m\n",
      "  \u001b[90m[e37daf67] \u001b[39m\u001b[92m+ LibGit2_jll v1.7.2+0\u001b[39m\n",
      "  \u001b[90m[29816b5a] \u001b[39m\u001b[92m+ LibSSH2_jll v1.11.0+1\u001b[39m\n",
      "  \u001b[90m[c8ffd9c3] \u001b[39m\u001b[92m+ MbedTLS_jll v2.28.6+0\u001b[39m\n",
      "  \u001b[90m[14a3606d] \u001b[39m\u001b[92m+ MozillaCACerts_jll v2023.12.12\u001b[39m\n",
      "  \u001b[90m[8e850ede] \u001b[39m\u001b[92m+ nghttp2_jll v1.59.0+0\u001b[39m\n",
      "  \u001b[90m[3f19e933] \u001b[39m\u001b[92m+ p7zip_jll v17.4.0+2\u001b[39m\n",
      "\u001b[92m\u001b[1mPrecompiling\u001b[22m\u001b[39m project...\n",
      "    381.2 ms\u001b[32m  ✓ \u001b[39m\u001b[90mASL_jll\u001b[39m\n",
      "    408.3 ms\u001b[32m  ✓ \u001b[39m\u001b[90mHwloc_jll\u001b[39m\n",
      "    407.1 ms\u001b[32m  ✓ \u001b[39m\u001b[90mOpenBLAS32_jll\u001b[39m\n",
      "    437.1 ms\u001b[32m  ✓ \u001b[39m\u001b[90mMETIS_jll\u001b[39m\n",
      "   4395.8 ms\u001b[32m  ✓ \u001b[39m\u001b[90mMUMPS_seq_jll\u001b[39m\n",
      "   5783.6 ms\u001b[32m  ✓ \u001b[39m\u001b[90mSPRAL_jll\u001b[39m\n",
      "  19548.3 ms\u001b[32m  ✓ \u001b[39m\u001b[90mIpopt_jll\u001b[39m\n",
      "   4149.3 ms\u001b[32m  ✓ \u001b[39mIpopt\n",
      "  10130.2 ms\u001b[32m  ✓ \u001b[39mIpopt → IpoptMathOptInterfaceExt\n",
      "  9 dependencies successfully precompiled in 40 seconds. 67 already precompiled.\n",
      "\u001b[32m\u001b[1m   Resolving\u001b[22m\u001b[39m package versions...\n",
      "\u001b[32m\u001b[1m   Installed\u001b[22m\u001b[39m Adapt ────────────────────── v4.3.0\n",
      "\u001b[32m\u001b[1m   Installed\u001b[22m\u001b[39m Accessors ────────────────── v0.1.42\n",
      "\u001b[32m\u001b[1m   Installed\u001b[22m\u001b[39m GPUArraysCore ────────────── v0.2.0\n",
      "\u001b[32m\u001b[1m   Installed\u001b[22m\u001b[39m ConsoleProgressMonitor ───── v0.1.2\n",
      "\u001b[32m\u001b[1m   Installed\u001b[22m\u001b[39m SciMLStructures ──────────── v1.7.0\n",
      "\u001b[32m\u001b[1m   Installed\u001b[22m\u001b[39m FunctionWrappersWrappers ─── v0.1.3\n",
      "\u001b[32m\u001b[1m   Installed\u001b[22m\u001b[39m L_BFGS_B_jll ─────────────── v3.0.1+0\n",
      "\u001b[32m\u001b[1m   Installed\u001b[22m\u001b[39m Optimization ─────────────── v4.4.0\n",
      "\u001b[32m\u001b[1m   Installed\u001b[22m\u001b[39m LoggingExtras ────────────── v1.1.0\n",
      "\u001b[32m\u001b[1m   Installed\u001b[22m\u001b[39m SciMLBase ────────────────── v2.104.0\n",
      "\u001b[32m\u001b[1m   Installed\u001b[22m\u001b[39m ADTypes ──────────────────── v1.15.0\n",
      "\u001b[32m\u001b[1m   Installed\u001b[22m\u001b[39m RuntimeGeneratedFunctions ── v0.5.15\n",
      "\u001b[32m\u001b[1m   Installed\u001b[22m\u001b[39m Jieko ────────────────────── v0.2.1\n",
      "\u001b[32m\u001b[1m   Installed\u001b[22m\u001b[39m PDMats ───────────────────── v0.11.35\n",
      "\u001b[32m\u001b[1m   Installed\u001b[22m\u001b[39m ProgressLogging ──────────── v0.1.5\n",
      "\u001b[32m\u001b[1m   Installed\u001b[22m\u001b[39m LBFGSB ───────────────────── v0.4.1\n",
      "\u001b[32m\u001b[1m   Installed\u001b[22m\u001b[39m Moshi ────────────────────── v0.3.7\n",
      "\u001b[32m\u001b[1m   Installed\u001b[22m\u001b[39m SciMLOperators ───────────── v1.3.1\n",
      "\u001b[32m\u001b[1m   Installed\u001b[22m\u001b[39m RecipesBase ──────────────── v1.3.4\n",
      "\u001b[32m\u001b[1m   Installed\u001b[22m\u001b[39m ExproniconLite ───────────── v0.10.14\n",
      "\u001b[32m\u001b[1m   Installed\u001b[22m\u001b[39m ProgressMeter ────────────── v1.10.4\n",
      "\u001b[32m\u001b[1m   Installed\u001b[22m\u001b[39m ConstructionBase ─────────── v1.6.0\n",
      "\u001b[32m\u001b[1m   Installed\u001b[22m\u001b[39m EnumX ────────────────────── v1.0.5\n",
      "\u001b[32m\u001b[1m   Installed\u001b[22m\u001b[39m ArrayInterface ───────────── v7.19.0\n",
      "\u001b[32m\u001b[1m   Installed\u001b[22m\u001b[39m AbstractTrees ────────────── v0.4.5\n",
      "\u001b[32m\u001b[1m   Installed\u001b[22m\u001b[39m FunctionWrappers ─────────── v1.1.3\n",
      "\u001b[32m\u001b[1m   Installed\u001b[22m\u001b[39m SparseConnectivityTracer ─── v1.0.0\n",
      "\u001b[32m\u001b[1m   Installed\u001b[22m\u001b[39m SparseMatrixColorings ────── v0.4.21\n",
      "\u001b[32m\u001b[1m   Installed\u001b[22m\u001b[39m FastClosures ─────────────── v0.3.2\n",
      "\u001b[32m\u001b[1m   Installed\u001b[22m\u001b[39m SymbolicIndexingInterface ── v0.3.42\n",
      "\u001b[32m\u001b[1m   Installed\u001b[22m\u001b[39m RecursiveArrayTools ──────── v3.35.0\n",
      "\u001b[32m\u001b[1m   Installed\u001b[22m\u001b[39m LeftChildRightSiblingTrees ─ v0.2.1\n",
      "\u001b[32m\u001b[1m   Installed\u001b[22m\u001b[39m Requires ─────────────────── v1.3.1\n",
      "\u001b[32m\u001b[1m   Installed\u001b[22m\u001b[39m FillArrays ───────────────── v1.13.0\n",
      "\u001b[32m\u001b[1m   Installed\u001b[22m\u001b[39m InverseFunctions ─────────── v0.1.17\n",
      "\u001b[32m\u001b[1m   Installed\u001b[22m\u001b[39m ExprTools ────────────────── v0.1.10\n",
      "\u001b[32m\u001b[1m   Installed\u001b[22m\u001b[39m CompositionsBase ─────────── v0.1.2\n",
      "\u001b[32m\u001b[1m   Installed\u001b[22m\u001b[39m CommonSolve ──────────────── v0.2.4\n",
      "\u001b[32m\u001b[1m   Installed\u001b[22m\u001b[39m TerminalLoggers ──────────── v0.1.7\n",
      "\u001b[32m\u001b[1m   Installed\u001b[22m\u001b[39m OptimizationBase ─────────── v2.9.0\n",
      "\u001b[32m\u001b[1m   Installed\u001b[22m\u001b[39m DifferentiationInterface ─── v0.7.3\n",
      "\u001b[32m\u001b[1m    Updating\u001b[22m\u001b[39m `D:\\repositorios\\UVG\\2025\\labs-ms\\Labs\\lab1\\Project.toml`\n",
      "  \u001b[90m[7f7a1694] \u001b[39m\u001b[92m+ Optimization v4.4.0\u001b[39m\n",
      "\u001b[32m\u001b[1m    Updating\u001b[22m\u001b[39m `D:\\repositorios\\UVG\\2025\\labs-ms\\Labs\\lab1\\Manifest.toml`\n",
      "  \u001b[90m[47edcb42] \u001b[39m\u001b[92m+ ADTypes v1.15.0\u001b[39m\n",
      "  \u001b[90m[1520ce14] \u001b[39m\u001b[92m+ AbstractTrees v0.4.5\u001b[39m\n",
      "  \u001b[90m[7d9f7c33] \u001b[39m\u001b[92m+ Accessors v0.1.42\u001b[39m\n",
      "  \u001b[90m[79e6a3ab] \u001b[39m\u001b[92m+ Adapt v4.3.0\u001b[39m\n",
      "  \u001b[90m[4fba245c] \u001b[39m\u001b[92m+ ArrayInterface v7.19.0\u001b[39m\n",
      "  \u001b[90m[38540f10] \u001b[39m\u001b[92m+ CommonSolve v0.2.4\u001b[39m\n",
      "  \u001b[90m[a33af91c] \u001b[39m\u001b[92m+ CompositionsBase v0.1.2\u001b[39m\n",
      "  \u001b[90m[88cd18e8] \u001b[39m\u001b[92m+ ConsoleProgressMonitor v0.1.2\u001b[39m\n",
      "  \u001b[90m[187b0558] \u001b[39m\u001b[92m+ ConstructionBase v1.6.0\u001b[39m\n",
      "  \u001b[90m[a8cc5b0e] \u001b[39m\u001b[92m+ Crayons v4.1.1\u001b[39m\n",
      "  \u001b[90m[9a962f9c] \u001b[39m\u001b[92m+ DataAPI v1.16.0\u001b[39m\n",
      "  \u001b[90m[e2d170a0] \u001b[39m\u001b[92m+ DataValueInterfaces v1.0.0\u001b[39m\n",
      "  \u001b[90m[a0c0ee7d] \u001b[39m\u001b[92m+ DifferentiationInterface v0.7.3\u001b[39m\n",
      "  \u001b[90m[4e289a0a] \u001b[39m\u001b[92m+ EnumX v1.0.5\u001b[39m\n",
      "  \u001b[90m[e2ba6199] \u001b[39m\u001b[92m+ ExprTools v0.1.10\u001b[39m\n",
      "  \u001b[90m[55351af7] \u001b[39m\u001b[92m+ ExproniconLite v0.10.14\u001b[39m\n",
      "  \u001b[90m[9aa1b823] \u001b[39m\u001b[92m+ FastClosures v0.3.2\u001b[39m\n",
      "  \u001b[90m[1a297f60] \u001b[39m\u001b[92m+ FillArrays v1.13.0\u001b[39m\n",
      "  \u001b[90m[069b7b12] \u001b[39m\u001b[92m+ FunctionWrappers v1.1.3\u001b[39m\n",
      "  \u001b[90m[77dc65aa] \u001b[39m\u001b[92m+ FunctionWrappersWrappers v0.1.3\u001b[39m\n",
      "  \u001b[90m[46192b85] \u001b[39m\u001b[92m+ GPUArraysCore v0.2.0\u001b[39m\n",
      "  \u001b[90m[3587e190] \u001b[39m\u001b[92m+ InverseFunctions v0.1.17\u001b[39m\n",
      "  \u001b[90m[82899510] \u001b[39m\u001b[92m+ IteratorInterfaceExtensions v1.0.0\u001b[39m\n",
      "  \u001b[90m[ae98c720] \u001b[39m\u001b[92m+ Jieko v0.2.1\u001b[39m\n",
      "  \u001b[90m[5be7bae1] \u001b[39m\u001b[92m+ LBFGSB v0.4.1\u001b[39m\n",
      "  \u001b[90m[b964fa9f] \u001b[39m\u001b[92m+ LaTeXStrings v1.4.0\u001b[39m\n",
      "  \u001b[90m[1d6d02ad] \u001b[39m\u001b[92m+ LeftChildRightSiblingTrees v0.2.1\u001b[39m\n",
      "  \u001b[90m[e6f89c97] \u001b[39m\u001b[92m+ LoggingExtras v1.1.0\u001b[39m\n",
      "  \u001b[90m[2e0e35c7] \u001b[39m\u001b[92m+ Moshi v0.3.7\u001b[39m\n",
      "  \u001b[90m[7f7a1694] \u001b[39m\u001b[92m+ Optimization v4.4.0\u001b[39m\n",
      "  \u001b[90m[bca83a33] \u001b[39m\u001b[92m+ OptimizationBase v2.9.0\u001b[39m\n",
      "  \u001b[90m[90014a1f] \u001b[39m\u001b[92m+ PDMats v0.11.35\u001b[39m\n",
      "  \u001b[90m[08abe8d2] \u001b[39m\u001b[92m+ PrettyTables v2.4.0\u001b[39m\n",
      "  \u001b[90m[33c8b6b6] \u001b[39m\u001b[92m+ ProgressLogging v0.1.5\u001b[39m\n",
      "  \u001b[90m[92933f4c] \u001b[39m\u001b[92m+ ProgressMeter v1.10.4\u001b[39m\n",
      "  \u001b[90m[3cdcf5f2] \u001b[39m\u001b[92m+ RecipesBase v1.3.4\u001b[39m\n",
      "  \u001b[90m[731186ca] \u001b[39m\u001b[92m+ RecursiveArrayTools v3.35.0\u001b[39m\n",
      "  \u001b[90m[189a3867] \u001b[39m\u001b[92m+ Reexport v1.2.2\u001b[39m\n",
      "  \u001b[90m[ae029012] \u001b[39m\u001b[92m+ Requires v1.3.1\u001b[39m\n",
      "  \u001b[90m[7e49a35a] \u001b[39m\u001b[92m+ RuntimeGeneratedFunctions v0.5.15\u001b[39m\n",
      "  \u001b[90m[0bca4576] \u001b[39m\u001b[92m+ SciMLBase v2.104.0\u001b[39m\n",
      "  \u001b[90m[c0aeaf25] \u001b[39m\u001b[92m+ SciMLOperators v1.3.1\u001b[39m\n",
      "  \u001b[90m[53ae85a6] \u001b[39m\u001b[92m+ SciMLStructures v1.7.0\u001b[39m\n",
      "  \u001b[90m[9f842d2f] \u001b[39m\u001b[92m+ SparseConnectivityTracer v1.0.0\u001b[39m\n",
      "  \u001b[90m[0a514795] \u001b[39m\u001b[92m+ SparseMatrixColorings v0.4.21\u001b[39m\n",
      "  \u001b[90m[892a3eda] \u001b[39m\u001b[92m+ StringManipulation v0.4.1\u001b[39m\n",
      "  \u001b[90m[2efcf032] \u001b[39m\u001b[92m+ SymbolicIndexingInterface v0.3.42\u001b[39m\n",
      "  \u001b[90m[3783bdb8] \u001b[39m\u001b[92m+ TableTraits v1.0.1\u001b[39m\n",
      "  \u001b[90m[bd369af6] \u001b[39m\u001b[92m+ Tables v1.12.1\u001b[39m\n",
      "  \u001b[90m[5d786b92] \u001b[39m\u001b[92m+ TerminalLoggers v0.1.7\u001b[39m\n",
      "  \u001b[90m[81d17ec3] \u001b[39m\u001b[92m+ L_BFGS_B_jll v3.0.1+0\u001b[39m\n",
      "  \u001b[90m[8ba89e20] \u001b[39m\u001b[92m+ Distributed v1.11.0\u001b[39m\n",
      "  \u001b[90m[6462fe0b] \u001b[39m\u001b[92m+ Sockets v1.11.0\u001b[39m\n",
      "  \u001b[90m[4607b0f0] \u001b[39m\u001b[92m+ SuiteSparse\u001b[39m\n",
      "\u001b[92m\u001b[1mPrecompiling\u001b[22m\u001b[39m project...\n",
      "   1901.5 ms\u001b[32m  ✓ \u001b[39m\u001b[90mEnumX\u001b[39m\n",
      "   1893.9 ms\u001b[32m  ✓ \u001b[39m\u001b[90mCommonSolve\u001b[39m\n",
      "   1886.0 ms\u001b[32m  ✓ \u001b[39m\u001b[90mFastClosures\u001b[39m\n",
      "   1939.5 ms\u001b[32m  ✓ \u001b[39m\u001b[90mExprTools\u001b[39m\n",
      "   1902.5 ms\u001b[32m  ✓ \u001b[39m\u001b[90mCompositionsBase\u001b[39m\n",
      "   1979.0 ms\u001b[32m  ✓ \u001b[39m\u001b[90mInverseFunctions\u001b[39m\n",
      "   2114.4 ms\u001b[32m  ✓ \u001b[39m\u001b[90mConstructionBase\u001b[39m\n",
      "   2104.1 ms\u001b[32m  ✓ \u001b[39m\u001b[90mProgressLogging\u001b[39m\n",
      "   2127.6 ms\u001b[32m  ✓ \u001b[39m\u001b[90mAbstractTrees\u001b[39m\n",
      "   2501.8 ms\u001b[32m  ✓ \u001b[39m\u001b[90mFunctionWrappers\u001b[39m\n",
      "   2061.5 ms\u001b[32m  ✓ \u001b[39m\u001b[90mRequires\u001b[39m\n",
      "   2076.4 ms\u001b[32m  ✓ \u001b[39m\u001b[90mADTypes\u001b[39m\n",
      "   2142.8 ms\u001b[32m  ✓ \u001b[39m\u001b[90mFillArrays\u001b[39m\n",
      "   2093.6 ms\u001b[32m  ✓ \u001b[39m\u001b[90mProgressMeter\u001b[39m\n",
      "   2070.3 ms\u001b[32m  ✓ \u001b[39m\u001b[90mExproniconLite\u001b[39m\n",
      "    429.7 ms\u001b[32m  ✓ \u001b[39m\u001b[90mSuiteSparse\u001b[39m\n",
      "    388.2 ms\u001b[32m  ✓ \u001b[39m\u001b[90mAdapt\u001b[39m\n",
      "    461.5 ms\u001b[32m  ✓ \u001b[39m\u001b[90mLoggingExtras\u001b[39m\n",
      "    494.9 ms\u001b[32m  ✓ \u001b[39m\u001b[90mL_BFGS_B_jll\u001b[39m\n",
      "    722.4 ms\u001b[32m  ✓ \u001b[39m\u001b[90mRuntimeGeneratedFunctions\u001b[39m\n",
      "    902.8 ms\u001b[32m  ✓ \u001b[39m\u001b[90mCompositionsBase → CompositionsBaseInverseFunctionsExt\u001b[39m\n",
      "    929.2 ms\u001b[32m  ✓ \u001b[39m\u001b[90mLogExpFunctions → LogExpFunctionsInverseFunctionsExt\u001b[39m\n",
      "    947.0 ms\u001b[32m  ✓ \u001b[39m\u001b[90mInverseFunctions → InverseFunctionsDatesExt\u001b[39m\n",
      "   1017.8 ms\u001b[32m  ✓ \u001b[39m\u001b[90mInverseFunctions → InverseFunctionsTestExt\u001b[39m\n",
      "    986.5 ms\u001b[32m  ✓ \u001b[39m\u001b[90mFunctionWrappersWrappers\u001b[39m\n",
      "   1081.6 ms\u001b[32m  ✓ \u001b[39m\u001b[90mRecipesBase\u001b[39m\n",
      "   1130.8 ms\u001b[32m  ✓ \u001b[39m\u001b[90mADTypes → ADTypesConstructionBaseExt\u001b[39m\n",
      "   1179.6 ms\u001b[32m  ✓ \u001b[39m\u001b[90mConstructionBase → ConstructionBaseLinearAlgebraExt\u001b[39m\n",
      "   1180.3 ms\u001b[32m  ✓ \u001b[39m\u001b[90mLeftChildRightSiblingTrees\u001b[39m\n",
      "    802.6 ms\u001b[32m  ✓ \u001b[39m\u001b[90mConsoleProgressMonitor\u001b[39m\n",
      "    845.4 ms\u001b[32m  ✓ \u001b[39m\u001b[90mFillArrays → FillArraysStatisticsExt\u001b[39m\n",
      "    842.3 ms\u001b[32m  ✓ \u001b[39m\u001b[90mFillArrays → FillArraysSparseArraysExt\u001b[39m\n",
      "   1275.7 ms\u001b[32m  ✓ \u001b[39m\u001b[90mDifferentiationInterface\u001b[39m\n",
      "    428.3 ms\u001b[32m  ✓ \u001b[39m\u001b[90mArrayInterface\u001b[39m\n",
      "   1280.2 ms\u001b[32m  ✓ \u001b[39m\u001b[90mPDMats\u001b[39m\n",
      "   1687.1 ms\u001b[32m  ✓ \u001b[39m\u001b[90mGPUArraysCore\u001b[39m\n",
      "   1761.8 ms\u001b[32m  ✓ \u001b[39m\u001b[90mAdapt → AdaptSparseArraysExt\u001b[39m\n",
      "   1795.9 ms\u001b[32m  ✓ \u001b[39m\u001b[90mDifferentiationInterface → DifferentiationInterfaceSparseArraysExt\u001b[39m\n",
      "   2424.5 ms\u001b[32m  ✓ \u001b[39m\u001b[90mJieko\u001b[39m\n",
      "   1835.2 ms\u001b[32m  ✓ \u001b[39m\u001b[90mDifferentiationInterface → DifferentiationInterfaceForwardDiffExt\u001b[39m\n",
      "   2997.6 ms\u001b[32m  ✓ \u001b[39m\u001b[90mArrayInterface → ArrayInterfaceStaticArraysCoreExt\u001b[39m\n",
      "   3014.7 ms\u001b[32m  ✓ \u001b[39m\u001b[90mSciMLStructures\u001b[39m\n",
      "   3009.8 ms\u001b[32m  ✓ \u001b[39m\u001b[90mArrayInterface → ArrayInterfaceSparseArraysExt\u001b[39m\n",
      "   3360.0 ms\u001b[32m  ✓ \u001b[39m\u001b[90mLBFGSB\u001b[39m\n",
      "   3202.1 ms\u001b[32m  ✓ \u001b[39m\u001b[90mTerminalLoggers\u001b[39m\n",
      "   2297.0 ms\u001b[32m  ✓ \u001b[39m\u001b[90mFillArrays → FillArraysPDMatsExt\u001b[39m\n",
      "   3229.9 ms\u001b[32m  ✓ \u001b[39m\u001b[90mSparseConnectivityTracer\u001b[39m\n",
      "   3316.6 ms\u001b[32m  ✓ \u001b[39m\u001b[90mAccessors\u001b[39m\n",
      "   4087.9 ms\u001b[32m  ✓ \u001b[39m\u001b[90mSparseMatrixColorings\u001b[39m\n",
      "   1035.3 ms\u001b[32m  ✓ \u001b[39m\u001b[90mArrayInterface → ArrayInterfaceGPUArraysCoreExt\u001b[39m\n",
      "   1048.0 ms\u001b[32m  ✓ \u001b[39m\u001b[90mDifferentiationInterface → DifferentiationInterfaceGPUArraysCoreExt\u001b[39m\n",
      "    964.6 ms\u001b[32m  ✓ \u001b[39m\u001b[90mDifferentiationInterface → DifferentiationInterfaceSparseConnectivityTracerExt\u001b[39m\n",
      "    988.3 ms\u001b[32m  ✓ \u001b[39m\u001b[90mAccessors → LinearAlgebraExt\u001b[39m\n",
      "   1119.1 ms\u001b[32m  ✓ \u001b[39m\u001b[90mSparseConnectivityTracer → SparseConnectivityTracerLogExpFunctionsExt\u001b[39m\n",
      "   1090.8 ms\u001b[32m  ✓ \u001b[39m\u001b[90mAccessors → TestExt\u001b[39m\n",
      "   1162.1 ms\u001b[32m  ✓ \u001b[39m\u001b[90mSparseConnectivityTracer → SparseConnectivityTracerNaNMathExt\u001b[39m\n",
      "   1608.4 ms\u001b[32m  ✓ \u001b[39m\u001b[90mDifferentiationInterface → DifferentiationInterfaceSparseMatrixColoringsExt\u001b[39m\n",
      "   1672.9 ms\u001b[32m  ✓ \u001b[39m\u001b[90mSparseConnectivityTracer → SparseConnectivityTracerSpecialFunctionsExt\u001b[39m\n",
      "   1991.4 ms\u001b[32m  ✓ \u001b[39m\u001b[90mSciMLOperators\u001b[39m\n",
      "   2023.0 ms\u001b[32m  ✓ \u001b[39m\u001b[90mSymbolicIndexingInterface\u001b[39m\n",
      "    814.5 ms\u001b[32m  ✓ \u001b[39m\u001b[90mSciMLOperators → SciMLOperatorsStaticArraysCoreExt\u001b[39m\n",
      "    913.2 ms\u001b[32m  ✓ \u001b[39m\u001b[90mSciMLOperators → SciMLOperatorsSparseArraysExt\u001b[39m\n",
      "   4459.4 ms\u001b[32m  ✓ \u001b[39m\u001b[90mMoshi\u001b[39m\n",
      "   2804.7 ms\u001b[32m  ✓ \u001b[39m\u001b[90mRecursiveArrayTools\u001b[39m\n",
      "   1021.3 ms\u001b[32m  ✓ \u001b[39m\u001b[90mRecursiveArrayTools → RecursiveArrayToolsSparseArraysExt\u001b[39m\n",
      "   1079.6 ms\u001b[32m  ✓ \u001b[39m\u001b[90mRecursiveArrayTools → RecursiveArrayToolsForwardDiffExt\u001b[39m\n",
      "   7748.4 ms\u001b[32m  ✓ \u001b[39m\u001b[90mSciMLBase\u001b[39m\n",
      "   7039.6 ms\u001b[32m  ✓ \u001b[39m\u001b[90mOptimizationBase\u001b[39m\n",
      "    380.0 ms\u001b[32m  ✓ \u001b[39m\u001b[90mOptimizationBase → OptimizationForwardDiffExt\u001b[39m\n"
     ]
    },
    {
     "name": "stdout",
     "output_type": "stream",
     "text": [
      "\u001b[32m\u001b[1mStatus\u001b[22m\u001b[39m `C:\\Users\\josue\\.julia\\environments\\v1.11\\Project.toml`\n",
      "  \u001b[90m[7073ff75] \u001b[39mIJulia v1.29.0\n"
     ]
    },
    {
     "name": "stderr",
     "output_type": "stream",
     "text": [
      "   4042.4 ms\u001b[32m  ✓ \u001b[39mOptimization\n",
      "  70 dependencies successfully precompiled in 33 seconds. 87 already precompiled.\n",
      "\u001b[32m\u001b[1m  Activating\u001b[22m\u001b[39m project at `C:\\Users\\josue\\.julia\\environments\\v1.11`\n"
     ]
    }
   ],
   "source": [
    "using Pkg\n",
    "Pkg.activate(\".\")\n",
    "\n",
    "Pkg.add(\"JuMP\")\n",
    "Pkg.add(\"JuMP\")\n",
    "Pkg.add(\"HiGHS\")\n",
    "Pkg.add(\"Ipopt\")\n",
    "Pkg.add(\"Optimization\")\n",
    "\n",
    "# Instalar otros paquetes necesarios...\n",
    "\n",
    "Pkg.activate()\n",
    "Pkg.status()"
   ]
  },
  {
   "cell_type": "markdown",
   "id": "dd26c2ce",
   "metadata": {},
   "source": [
    "Usar si ya se ha terminado el lab:"
   ]
  },
  {
   "cell_type": "code",
   "execution_count": null,
   "id": "a9714de6",
   "metadata": {},
   "outputs": [],
   "source": [
    "using Pkg\n",
    "Pkg.activate(\".\")\n",
    "Pkg.instantiate()\n",
    "Pkg.status()"
   ]
  },
  {
   "cell_type": "code",
   "execution_count": null,
   "id": "a8ab92e9",
   "metadata": {},
   "outputs": [],
   "source": []
  },
  {
   "cell_type": "code",
   "execution_count": null,
   "id": "12513542",
   "metadata": {},
   "outputs": [],
   "source": []
  },
  {
   "cell_type": "code",
   "execution_count": null,
   "id": "c6dc25a4",
   "metadata": {},
   "outputs": [],
   "source": []
  },
  {
   "cell_type": "code",
   "execution_count": null,
   "id": "9dd81f07",
   "metadata": {},
   "outputs": [],
   "source": []
  },
  {
   "cell_type": "markdown",
   "id": "adb7b017",
   "metadata": {},
   "source": [
    "# Problema 3 - Modelo de asignación de horarios\n",
    "\n",
    "La ciudad de Guatemala estudia la factibilidad de utilizar un sistema de autobuses de transporte masivo para reducir el tráfico urbano. El estudio busca la cantidad mínima de autobuses que satisfaga las necesidades de transporte. Después de reunir la información necesaria, el ingeniero de tránsito observó que la cantidad mínima de autobuses que se requería fluctuaba según la hora del día, y dicha cantidad se podía representar de forma aproximada por valores constantes durante intervalos de 4 horas sucesivos. La siguiente figura resume los hallazgos del ingeniero.\n",
    "\n",
    "| Turno | Horario                     |\n",
    "|-------|-----------------------------|\n",
    "| 1     | 00:00 A.M. a 07:59 A.M.     |\n",
    "| 2     | 04:00 A.M. a 11:59 A.M.     |\n",
    "| 3     | 08:00 A.M. a 03:59 P.M.     |\n",
    "| 4     | 12:00 P.M. a 07:59 P.M.     |\n",
    "| 5     | 04:00 P.M. a 11:59 P.M.     |\n",
    "| 6     | 08:00 P.M. a 03:59 A.M.     |\n",
    "\n",
    "![\"Cantidad (demanda) de buses en función de la hora del día\"](./images/ejemplo_p3.png)\n",
    "\n",
    "Para realizar el mantenimiento diario requerido, cada autobús puede operar sólo 8 horas continuas al día. Aquí, $x_i$ es la cantidad de autobuses que inician en el turno *i*. En este problema, se desea minimizar el número total de buses circulantes diarios, de modo que en cada tramo de tiempo, satisfaga la distribución de la demanda requerida (ver figura)."
   ]
  },
  {
   "cell_type": "markdown",
   "id": "544dc887",
   "metadata": {},
   "source": [
    "## Inciso a\n",
    "\n",
    "Formular el problema de programación lineal"
   ]
  },
  {
   "cell_type": "markdown",
   "id": "4520f445",
   "metadata": {},
   "source": [
    "### Contexto\n",
    "\n",
    "Se quiere minimizar el número total de autobuses necesarios para satisfacer la demanda durante el día, dividiendo el día en seis turnos de 8 horas. Cada autobús trabaja una jornada continua de 8 horas (por mantenimiento), iniciando en uno de los seis turnos definidos.\n",
    "\n",
    "La demanda de autobuses varía por tramos de 4 horas a lo largo del día (como se ve en la parte superior del gráfico). Para cada tramo de 4 horas se requiere una cierta cantidad mínima de autobuses circulando.\n",
    "\n",
    "Lo que se debe hacer es poder asignar la cantidad adecuada de buses a cada turno para cubrir todos los horarios sin poner buses de más."
   ]
  },
  {
   "cell_type": "markdown",
   "id": "feda43a0",
   "metadata": {},
   "source": [
    "#### Turnos y Horarios\n",
    "\n",
    "| Turno | Horario       |\n",
    "| ----- | ------------- |\n",
    "| 1     | 00:00 – 07:59 |\n",
    "| 2     | 04:00 – 11:59 |\n",
    "| 3     | 08:00 – 15:59 |\n",
    "| 4     | 12:00 – 19:59 |\n",
    "| 5     | 16:00 – 23:59 |\n",
    "| 6     | 20:00 – 03:59 |\n",
    "\n",
    "Cada turno dura **8 horas** y se **traslapan** con otros turnos. Esto significa que **un mismo autobús puede cubrir varios bloques horarios** (como 04:00–07:59 + 08:00–11:59), dependiendo del turno en que inicia."
   ]
  },
  {
   "cell_type": "markdown",
   "id": "33e8f85f",
   "metadata": {},
   "source": [
    "#### Imágen\n",
    "\n",
    "| Bloque horario (4h) | Intervalo     | Demanda mínima |\n",
    "| ------------------- | ------------- | -------------- |\n",
    "| B1                  | 00:00 – 03:59 | 4              |\n",
    "| B2                  | 04:00 – 07:59 | 8              |\n",
    "| B3                  | 08:00 – 11:59 | 10             |\n",
    "| B4                  | 12:00 – 15:59 | 7              |\n",
    "| B5                  | 16:00 – 19:59 | 12             |\n",
    "| B6                  | 20:00 – 23:59 | 4              |\n",
    "\n",
    "**Cada bloque horario debe tener al menos esa cantidad de autobuses operando, sin importar en qué turno empezaron.**\n",
    "\n",
    "Cada turno cubre 8h continuas:\n",
    "\n",
    "* **B1** (00:00–03:59): lo cubren $x_1$ y $x_6$\n",
    "* **B2** (04:00–07:59): lo cubren $x_1$ y $x_2$\n",
    "* **B3** (08:00–11:59): lo cubren $x_2$ y $x_3$\n",
    "* **B4** (12:00–15:59): lo cubren $x_3$ y $x_4$\n",
    "* **B5** (16:00–19:59): lo cubren $x_4$ y $x_5$\n",
    "* **B6** (20:00–23:59): lo cubren $x_5$ y $x_6$"
   ]
  },
  {
   "cell_type": "markdown",
   "id": "eb10eed3",
   "metadata": {},
   "source": [
    "### Formulación del problema\n",
    "\n",
    "#### Variable\n",
    "\n",
    "$x_i$ = cantidad de autobuses que inician turno $i$, con $i = 1,\\dots,6$\n",
    "\n",
    "*Esto lo sabemos dado que cada bus solo opera 8 horas (un turno). Si sabemos cuántos inician en cada turno, podemos calcular cuántos hay operando en cada bloque de 4 horas.*\n",
    "\n",
    "#### Función objetivo\n",
    "\n",
    "Minimizar la cantidad total de autobuses operando:\n",
    "\n",
    "$$\n",
    "\\min z = x_1 + x_2 + x_3 + x_4 + x_5 + x_6\n",
    "$$\n",
    "\n",
    "*Esto directamente nos lo piden ya que menos autobuses significa menos costos de operación, mantenimiento y personal, siempre que se cumpla con la demanda de transporte en cada bloque.*\n",
    "\n",
    "### Restricciones por bloque de horario\n",
    "\n",
    "$$\n",
    "\\begin{aligned}\n",
    "x_1 + x_6 &\\geq 4 \\quad \\text{(Bloque 1: 12:00am – 4:00am)} \\\\\n",
    "x_1 + x_2 &\\geq 8 \\quad \\text{(Bloque 2: 4:00am – 8:00am)} \\\\\n",
    "x_2 + x_3 &\\geq 10 \\quad \\text{(Bloque 3: 8:00am – 12:00pm)} \\\\\n",
    "x_3 + x_4 &\\geq 7 \\quad \\text{(Bloque 4: 12:00pm – 4:00pm)} \\\\\n",
    "x_4 + x_5 &\\geq 12 \\quad \\text{(Bloque 5: 4:00pm – 8:00pm)} \\\\\n",
    "x_5 + x_6 &\\geq 4 \\quad \\text{(Bloque 6: 8:00pm – 12:00am)}\n",
    "\\end{aligned}\n",
    "$$\n",
    "\n",
    "\n",
    "*Esto refleja que los turnos que estan operando durante su bloque de 4 horas.*\n",
    "\n",
    "### Restricción de no negatividad\n",
    "\n",
    "$$\n",
    "x_1, x_2, x_3, x_4, x_5, x_6 \\in \\mathbb{Z}_{\\geq 0}\n",
    "$$\n",
    "\n",
    "*No se puede tener fracción de buses ni cantidades negativas*"
   ]
  },
  {
   "cell_type": "markdown",
   "id": "35ceec75",
   "metadata": {},
   "source": [
    "## Inciso b\n",
    "\n",
    "Resolver el problema usando la librería JuMP o Pulp, en variables continuas, y determinar la distribución óptima."
   ]
  },
  {
   "cell_type": "markdown",
   "id": "3c646c3c",
   "metadata": {},
   "source": [
    "### Librerias"
   ]
  },
  {
   "cell_type": "code",
   "execution_count": null,
   "id": "f63e4e0a",
   "metadata": {},
   "outputs": [],
   "source": [
    "using JuMP\n",
    "using HiGHS"
   ]
  },
  {
   "cell_type": "markdown",
   "id": "d2664e44",
   "metadata": {},
   "source": [
    "### Creación del modelo"
   ]
  },
  {
   "cell_type": "code",
   "execution_count": null,
   "id": "281458f3",
   "metadata": {},
   "outputs": [],
   "source": [
    "model_p3 = Model()"
   ]
  },
  {
   "cell_type": "markdown",
   "id": "1dbe5654",
   "metadata": {},
   "source": [
    "### Definición de variables"
   ]
  },
  {
   "cell_type": "code",
   "execution_count": null,
   "id": "ea432552",
   "metadata": {},
   "outputs": [],
   "source": [
    "@variable(model_p3, x1 >= 0, Int)\n",
    "@variable(model_p3, x2 >= 0, Int)\n",
    "@variable(model_p3, x3 >= 0, Int)\n",
    "@variable(model_p3, x4 >= 0, Int)\n",
    "@variable(model_p3, x5 >= 0, Int)\n",
    "@variable(model_p3, x6 >= 0, Int)"
   ]
  },
  {
   "cell_type": "markdown",
   "id": "7f2a68f0",
   "metadata": {},
   "source": [
    "### Definición de restricciones"
   ]
  },
  {
   "cell_type": "code",
   "execution_count": null,
   "id": "2a0ce1bf",
   "metadata": {},
   "outputs": [],
   "source": [
    "@constraint(model_p3, x1 + x6 >= 4)\n",
    "@constraint(model_p3, x1 + x2 >= 8)\n",
    "@constraint(model_p3, x2 + x3 >= 10)\n",
    "@constraint(model_p3, x3 + x4 >= 7)\n",
    "@constraint(model_p3, x4 + x5 >= 12)\n",
    "@constraint(model_p3, x5 + x6 >= 4)"
   ]
  },
  {
   "cell_type": "markdown",
   "id": "cd250e75",
   "metadata": {},
   "source": [
    "## Función objetivo"
   ]
  },
  {
   "cell_type": "code",
   "execution_count": null,
   "id": "fbf86a6b",
   "metadata": {},
   "outputs": [],
   "source": [
    "@objective(model_p3, Min, x1 + x2 + x3 + x4 + x5 + x6)"
   ]
  },
  {
   "cell_type": "markdown",
   "id": "d8625545",
   "metadata": {},
   "source": [
    "### Configuración y aplicación del solver"
   ]
  },
  {
   "cell_type": "code",
   "execution_count": null,
   "id": "a0e8368c",
   "metadata": {},
   "outputs": [],
   "source": [
    "set_optimizer(model_p3, HiGHS.Optimizer)\n",
    "optimize!(model_p3)"
   ]
  },
  {
   "cell_type": "markdown",
   "id": "43970aa3",
   "metadata": {},
   "source": [
    "### Resultados"
   ]
  },
  {
   "cell_type": "code",
   "execution_count": null,
   "id": "ab0e837c",
   "metadata": {},
   "outputs": [],
   "source": [
    "println(\"Resultados:\")\n",
    "println(\"x1 (00:00-08:00) = \", value(x1))\n",
    "println(\"x2 (04:00-12:00) = \", value(x2))\n",
    "println(\"x3 (08:00-16:00) = \", value(x3))\n",
    "println(\"x4 (12:00-20:00) = \", value(x4))\n",
    "println(\"x5 (16:00-24:00) = \", value(x5))\n",
    "println(\"x6 (20:00-04:00) = \", value(x6))\n",
    "println(\"Total mínimo de autobuses necesarios (z) = \", objective_value(model_p3))"
   ]
  },
  {
   "cell_type": "markdown",
   "id": "4dc491e4",
   "metadata": {},
   "source": [
    "### Respuesta\n",
    "\n",
    "| Turno    | Horario       | $x_i$    | Resultado                                       |\n",
    "| -------- | ------------- | -------- | ----------------------------------------------- |\n",
    "| $x_1$    | 00:00 – 08:00 | 4        | Inician 4 buses a medianoche                    |\n",
    "| $x_2$    | 04:00 – 12:00 | 8        | Inician 8 buses a las 4 am                      |\n",
    "| $x_3$    | 08:00 – 16:00 | 2        | Inician 2 buses a las 8 am                      | \n",
    "| $x_4$    | 12:00 – 20:00 | 7        | Inician 7 buses a mediodía                      |\n",
    "| $x_5$    | 16:00 – 24:00 | 5        | Inician 5 buses a las 4 pm                      |\n",
    "| $x_6$    | 20:00 – 04:00 | 0        | No se necesita ningún bus comenzando a las 8 pm |\n",
    "\n",
    "En los resultados podemos ver cuántos buses deben iniciar su turno en dicha hora para los $x_i$, dando una suma total de 26 buses al día para cubrir la demanda."
   ]
  },
  {
   "cell_type": "markdown",
   "id": "1722a26c",
   "metadata": {},
   "source": [
    "# Problema 4 - Modelo de renovación urbana\n",
    "\n",
    "La ciudad de Erstville enfrenta un grave recorte de presupuesto. Buscando una solución a largo plazo para mejorar la base tributaria, el consejo de la ciudad propone la demolición de un área de viviendas dentro de la ciudad, y su reemplazo con un moderno desarrollo. El proyecto implica dos fases: (1) demolición de casas populares para obtener el terreno para el nuevo desarrollo, y (2) construcción del nuevo desarrollo. A continuación, un resumen de la situación.\n",
    "\n",
    "1. Se pueden demoler 300 casas populares. Cada casa ocupa un lote de 0.25 acres. El costo de demoler una casa es de $2000.  \n",
    "2. Los tamaños de los lotes para construir casas unifamiliares, dobles, triples y cuádruples, son de 0.18, 0.28, 0.4 y 0.5 acres, respectivamente. Las calles, los espacios abiertos y el área para la instalación de servicios, ocupan 15% del área disponible.  \n",
    "3. En el nuevo desarrollo, las unidades triples y cuádruples ocupan por lo menos 25% del total. Las unidades sencillas deben ser al menos 20% de todas las unidades, y las unidades dobles deben ocupar un mínimo de 10%.  \n",
    "4. El impuesto por unidad aplicado a las unidades sencillas, dobles, triples y cuádruples es de $1000, $1900, $2700 y $3400, respectivamente.  \n",
    "5. El costo de construcción por unidad de las casas sencillas, dobles, triples y cuádruples es de $50,000, $70,000, $130,000 y $160,000, respectivamente. El financiamiento a través de un banco local está limitado a $15 millones.\n",
    "\n",
    "**¿Cuántas unidades de cada tipo se deben construir para maximizar la recaudación de impuestos? Deberá hacer lo siguiente:**"
   ]
  }
 ],
 "metadata": {
  "kernelspec": {
   "display_name": "Julia 1.11.6",
   "language": "julia",
   "name": "julia-1.11"
  },
  "language_info": {
   "file_extension": ".jl",
   "mimetype": "application/julia",
   "name": "julia",
   "version": "1.11.6"
  }
 },
 "nbformat": 4,
 "nbformat_minor": 5
}
