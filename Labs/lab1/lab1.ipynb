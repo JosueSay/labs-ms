{
 "cells": [
  {
   "cell_type": "markdown",
   "id": "df449564",
   "metadata": {},
   "source": [
    "# Laboratorio 1\n",
    "\n",
    "## Integrantes\n",
    "\n",
    "- Abby Donis\n",
    "- Cindy Gualim\n",
    "- Josué Say - 22801\n",
    "\n",
    "## Repositorio\n",
    "\n",
    "- [Enlace a GitHub](https://github.com/JosueSay/labs-ms/tree/main/Labs/lab1)"
   ]
  },
  {
   "cell_type": "markdown",
   "id": "e0603e3b",
   "metadata": {},
   "source": [
    "## Preparación de entorno"
   ]
  },
  {
   "cell_type": "markdown",
   "id": "f9a78908",
   "metadata": {},
   "source": [
    "Usar si se está trabajando en lab:"
   ]
  },
  {
   "cell_type": "code",
   "execution_count": null,
   "id": "28f57fce",
   "metadata": {},
   "outputs": [],
   "source": [
    "using Pkg\n",
    "Pkg.activate(\".\")\n",
    "\n",
    "Pkg.add(\"JuMP\")\n",
    "Pkg.add(\"JuMP\")\n",
    "Pkg.add(\"HiGHS\")\n",
    "Pkg.add(\"Ipopt\")\n",
    "Pkg.add(\"Optimization\")\n",
    "\n",
    "# Instalar otros paquetes necesarios...\n",
    "\n",
    "Pkg.activate()\n",
    "Pkg.status()"
   ]
  },
  {
   "cell_type": "markdown",
   "id": "dd26c2ce",
   "metadata": {},
   "source": [
    "Usar si ya se ha terminado el lab:"
   ]
  },
  {
   "cell_type": "code",
   "execution_count": null,
   "id": "a9714de6",
   "metadata": {},
   "outputs": [],
   "source": [
    "using Pkg\n",
    "Pkg.activate(\".\")\n",
    "Pkg.instantiate()\n",
    "Pkg.status()"
   ]
  },
  {
   "cell_type": "code",
   "execution_count": null,
   "id": "a8ab92e9",
   "metadata": {},
   "outputs": [],
   "source": []
  },
  {
   "cell_type": "code",
   "execution_count": null,
   "id": "12513542",
   "metadata": {},
   "outputs": [],
   "source": []
  },
  {
   "cell_type": "code",
   "execution_count": null,
   "id": "c6dc25a4",
   "metadata": {},
   "outputs": [],
   "source": []
  },
  {
   "cell_type": "code",
   "execution_count": null,
   "id": "9dd81f07",
   "metadata": {},
   "outputs": [],
   "source": []
  },
  {
   "cell_type": "markdown",
   "id": "adb7b017",
   "metadata": {},
   "source": [
    "# Problema 3 - Modelo de asignación de horarios\n",
    "\n",
    "La ciudad de Guatemala estudia la factibilidad de utilizar un sistema de autobuses de transporte masivo para reducir el tráfico urbano. El estudio busca la cantidad mínima de autobuses que satisfaga las necesidades de transporte. Después de reunir la información necesaria, el ingeniero de tránsito observó que la cantidad mínima de autobuses que se requería fluctuaba según la hora del día, y dicha cantidad se podía representar de forma aproximada por valores constantes durante intervalos de 4 horas sucesivos. La siguiente figura resume los hallazgos del ingeniero.\n",
    "\n",
    "| Turno | Horario                     |\n",
    "|-------|-----------------------------|\n",
    "| 1     | 00:00 A.M. a 07:59 A.M.     |\n",
    "| 2     | 04:00 A.M. a 11:59 A.M.     |\n",
    "| 3     | 08:00 A.M. a 03:59 P.M.     |\n",
    "| 4     | 12:00 P.M. a 07:59 P.M.     |\n",
    "| 5     | 04:00 P.M. a 11:59 P.M.     |\n",
    "| 6     | 08:00 P.M. a 03:59 A.M.     |\n",
    "\n",
    "![\"Cantidad (demanda) de buses en función de la hora del día\"](./images/ejemplo_p3.png)\n",
    "\n",
    "Para realizar el mantenimiento diario requerido, cada autobús puede operar sólo 8 horas continuas al día. Aquí, $x_i$ es la cantidad de autobuses que inician en el turno *i*. En este problema, se desea minimizar el número total de buses circulantes diarios, de modo que en cada tramo de tiempo, satisfaga la distribución de la demanda requerida (ver figura)."
   ]
  },
  {
   "cell_type": "markdown",
   "id": "544dc887",
   "metadata": {},
   "source": [
    "## Inciso a\n",
    "\n",
    "Formular el problema de programación lineal"
   ]
  },
  {
   "cell_type": "markdown",
   "id": "4520f445",
   "metadata": {},
   "source": [
    "### Contexto\n",
    "\n",
    "Se quiere minimizar el número total de autobuses necesarios para satisfacer la demanda durante el día, dividiendo el día en seis turnos de 8 horas. Cada autobús trabaja una jornada continua de 8 horas (por mantenimiento), iniciando en uno de los seis turnos definidos.\n",
    "\n",
    "La demanda de autobuses varía por tramos de 4 horas a lo largo del día (como se ve en la parte superior del gráfico). Para cada tramo de 4 horas se requiere una cierta cantidad mínima de autobuses circulando.\n",
    "\n",
    "Lo que se debe hacer es poder asignar la cantidad adecuada de buses a cada turno para cubrir todos los horarios sin poner buses de más."
   ]
  },
  {
   "cell_type": "markdown",
   "id": "feda43a0",
   "metadata": {},
   "source": [
    "#### Turnos y Horarios\n",
    "\n",
    "| Turno | Horario       |\n",
    "| ----- | ------------- |\n",
    "| 1     | 00:00 – 07:59 |\n",
    "| 2     | 04:00 – 11:59 |\n",
    "| 3     | 08:00 – 15:59 |\n",
    "| 4     | 12:00 – 19:59 |\n",
    "| 5     | 16:00 – 23:59 |\n",
    "| 6     | 20:00 – 03:59 |\n",
    "\n",
    "Cada turno dura **8 horas** y se **traslapan** con otros turnos. Esto significa que **un mismo autobús puede cubrir varios bloques horarios** (como 04:00–07:59 + 08:00–11:59), dependiendo del turno en que inicia."
   ]
  },
  {
   "cell_type": "markdown",
   "id": "33e8f85f",
   "metadata": {},
   "source": [
    "#### Imágen\n",
    "\n",
    "| Bloque horario (4h) | Intervalo     | Demanda mínima |\n",
    "| ------------------- | ------------- | -------------- |\n",
    "| B1                  | 00:00 – 03:59 | 4              |\n",
    "| B2                  | 04:00 – 07:59 | 8              |\n",
    "| B3                  | 08:00 – 11:59 | 10             |\n",
    "| B4                  | 12:00 – 15:59 | 7              |\n",
    "| B5                  | 16:00 – 19:59 | 12             |\n",
    "| B6                  | 20:00 – 23:59 | 4              |\n",
    "\n",
    "**Cada bloque horario debe tener al menos esa cantidad de autobuses operando, sin importar en qué turno empezaron.**\n",
    "\n",
    "Cada turno cubre 8h continuas:\n",
    "\n",
    "* **B1** (00:00–03:59): lo cubren $x_1$ y $x_6$\n",
    "* **B2** (04:00–07:59): lo cubren $x_1$ y $x_2$\n",
    "* **B3** (08:00–11:59): lo cubren $x_2$ y $x_3$\n",
    "* **B4** (12:00–15:59): lo cubren $x_3$ y $x_4$\n",
    "* **B5** (16:00–19:59): lo cubren $x_4$ y $x_5$\n",
    "* **B6** (20:00–23:59): lo cubren $x_5$ y $x_6$"
   ]
  },
  {
   "cell_type": "markdown",
   "id": "eb10eed3",
   "metadata": {},
   "source": [
    "### Formulación del problema\n",
    "\n",
    "#### Variable\n",
    "\n",
    "$x_i$ = cantidad de autobuses que inician turno $i$, con $i = 1,\\dots,6$\n",
    "\n",
    "*Esto lo sabemos dado que cada bus solo opera 8 horas (un turno). Si sabemos cuántos inician en cada turno, podemos calcular cuántos hay operando en cada bloque de 4 horas.*\n",
    "\n",
    "#### Función objetivo\n",
    "\n",
    "Minimizar la cantidad total de autobuses operando:\n",
    "\n",
    "$$\n",
    "\\min z = x_1 + x_2 + x_3 + x_4 + x_5 + x_6\n",
    "$$\n",
    "\n",
    "*Esto directamente nos lo piden ya que menos autobuses significa menos costos de operación, mantenimiento y personal, siempre que se cumpla con la demanda de transporte en cada bloque.*\n",
    "\n",
    "### Restricciones por bloque de horario\n",
    "\n",
    "$$\n",
    "\\begin{aligned}\n",
    "x_1 + x_6 &\\geq 4 \\quad \\text{(Bloque 1: 12:00am – 4:00am)} \\\\\n",
    "x_1 + x_2 &\\geq 8 \\quad \\text{(Bloque 2: 4:00am – 8:00am)} \\\\\n",
    "x_2 + x_3 &\\geq 10 \\quad \\text{(Bloque 3: 8:00am – 12:00pm)} \\\\\n",
    "x_3 + x_4 &\\geq 7 \\quad \\text{(Bloque 4: 12:00pm – 4:00pm)} \\\\\n",
    "x_4 + x_5 &\\geq 12 \\quad \\text{(Bloque 5: 4:00pm – 8:00pm)} \\\\\n",
    "x_5 + x_6 &\\geq 4 \\quad \\text{(Bloque 6: 8:00pm – 12:00am)}\n",
    "\\end{aligned}\n",
    "$$\n",
    "\n",
    "\n",
    "*Esto refleja que los turnos que estan operando durante su bloque de 4 horas.*\n",
    "\n",
    "### Restricción de no negatividad\n",
    "\n",
    "$$\n",
    "x_1, x_2, x_3, x_4, x_5, x_6 \\in \\mathbb{Z}_{\\geq 0}\n",
    "$$\n",
    "\n",
    "*No se puede tener fracción de buses ni cantidades negativas*"
   ]
  },
  {
   "cell_type": "markdown",
   "id": "35ceec75",
   "metadata": {},
   "source": [
    "## Inciso b\n",
    "\n",
    "Resolver el problema usando la librería JuMP o Pulp, en variables continuas, y determinar la distribución óptima."
   ]
  },
  {
   "cell_type": "markdown",
   "id": "3c646c3c",
   "metadata": {},
   "source": [
    "### Librerías"
   ]
  },
  {
   "cell_type": "code",
   "execution_count": null,
   "id": "f63e4e0a",
   "metadata": {},
   "outputs": [],
   "source": [
    "using JuMP\n",
    "using HiGHS"
   ]
  },
  {
   "cell_type": "markdown",
   "id": "d2664e44",
   "metadata": {},
   "source": [
    "### Creación del modelo"
   ]
  },
  {
   "cell_type": "code",
   "execution_count": null,
   "id": "281458f3",
   "metadata": {},
   "outputs": [],
   "source": [
    "model_p3 = Model()"
   ]
  },
  {
   "cell_type": "markdown",
   "id": "1dbe5654",
   "metadata": {},
   "source": [
    "### Definición de variables"
   ]
  },
  {
   "cell_type": "code",
   "execution_count": null,
   "id": "ea432552",
   "metadata": {},
   "outputs": [],
   "source": [
    "@variable(model_p3, x1 >= 0, Int)\n",
    "@variable(model_p3, x2 >= 0, Int)\n",
    "@variable(model_p3, x3 >= 0, Int)\n",
    "@variable(model_p3, x4 >= 0, Int)\n",
    "@variable(model_p3, x5 >= 0, Int)\n",
    "@variable(model_p3, x6 >= 0, Int)"
   ]
  },
  {
   "cell_type": "markdown",
   "id": "7f2a68f0",
   "metadata": {},
   "source": [
    "### Definición de restricciones"
   ]
  },
  {
   "cell_type": "code",
   "execution_count": null,
   "id": "2a0ce1bf",
   "metadata": {},
   "outputs": [],
   "source": [
    "@constraint(model_p3, x1 + x6 >= 4)\n",
    "@constraint(model_p3, x1 + x2 >= 8)\n",
    "@constraint(model_p3, x2 + x3 >= 10)\n",
    "@constraint(model_p3, x3 + x4 >= 7)\n",
    "@constraint(model_p3, x4 + x5 >= 12)\n",
    "@constraint(model_p3, x5 + x6 >= 4)"
   ]
  },
  {
   "cell_type": "markdown",
   "id": "cd250e75",
   "metadata": {},
   "source": [
    "### Función objetivo"
   ]
  },
  {
   "cell_type": "code",
   "execution_count": null,
   "id": "fbf86a6b",
   "metadata": {},
   "outputs": [],
   "source": [
    "@objective(model_p3, Min, x1 + x2 + x3 + x4 + x5 + x6)"
   ]
  },
  {
   "cell_type": "markdown",
   "id": "d8625545",
   "metadata": {},
   "source": [
    "### Configuración y aplicación del solver"
   ]
  },
  {
   "cell_type": "code",
   "execution_count": null,
   "id": "a0e8368c",
   "metadata": {},
   "outputs": [],
   "source": [
    "set_optimizer(model_p3, HiGHS.Optimizer)\n",
    "optimize!(model_p3)"
   ]
  },
  {
   "cell_type": "markdown",
   "id": "43970aa3",
   "metadata": {},
   "source": [
    "### Resultados"
   ]
  },
  {
   "cell_type": "code",
   "execution_count": null,
   "id": "ab0e837c",
   "metadata": {},
   "outputs": [],
   "source": [
    "println(\"Resultados:\")\n",
    "println(\"x1 (00:00-08:00) = \", value(x1))\n",
    "println(\"x2 (04:00-12:00) = \", value(x2))\n",
    "println(\"x3 (08:00-16:00) = \", value(x3))\n",
    "println(\"x4 (12:00-20:00) = \", value(x4))\n",
    "println(\"x5 (16:00-24:00) = \", value(x5))\n",
    "println(\"x6 (20:00-04:00) = \", value(x6))\n",
    "println(\"Total mínimo de autobuses necesarios (z) = \", objective_value(model_p3))"
   ]
  },
  {
   "cell_type": "markdown",
   "id": "4dc491e4",
   "metadata": {},
   "source": [
    "### Respuesta\n",
    "\n",
    "| Turno    | Horario       | $x_i$    | Resultado                                       |\n",
    "| -------- | ------------- | -------- | ----------------------------------------------- |\n",
    "| $x_1$    | 00:00 – 08:00 | 4        | Inician 4 buses a medianoche                    |\n",
    "| $x_2$    | 04:00 – 12:00 | 8        | Inician 8 buses a las 4 am                      |\n",
    "| $x_3$    | 08:00 – 16:00 | 2        | Inician 2 buses a las 8 am                      | \n",
    "| $x_4$    | 12:00 – 20:00 | 7        | Inician 7 buses a mediodía                      |\n",
    "| $x_5$    | 16:00 – 24:00 | 5        | Inician 5 buses a las 4 pm                      |\n",
    "| $x_6$    | 20:00 – 04:00 | 0        | No se necesita ningún bus comenzando a las 8 pm |\n",
    "\n",
    "En los resultados podemos ver cuántos buses deben iniciar su turno en dicha hora para los $x_i$, dando una suma total de 26 buses al día para cubrir la demanda."
   ]
  },
  {
   "cell_type": "markdown",
   "id": "1722a26c",
   "metadata": {},
   "source": [
    "# Problema 4 - Modelo de renovación urbana\n",
    "\n",
    "La ciudad de Erstville enfrenta un grave recorte de presupuesto. Buscando una solución a largo plazo para mejorar la base tributaria, el consejo de la ciudad propone la demolición de un área de viviendas dentro de la ciudad, y su reemplazo con un moderno desarrollo. El proyecto implica dos fases: (1) demolición de casas populares para obtener el terreno para el nuevo desarrollo, y (2) construcción del nuevo desarrollo. A continuación, un resumen de la situación.\n",
    "\n",
    "1. Se pueden demoler 300 casas populares. Cada casa ocupa un lote de 0.25 acres. El costo de demoler una casa es de $2000.  \n",
    "2. Los tamaños de los lotes para construir casas unifamiliares, dobles, triples y cuádruples, son de 0.18, 0.28, 0.4 y 0.5 acres, respectivamente. Las calles, los espacios abiertos y el área para la instalación de servicios, ocupan 15% del área disponible.  \n",
    "3. En el nuevo desarrollo, las unidades triples y cuádruples ocupan por lo menos 25% del total. Las unidades sencillas deben ser al menos 20% de todas las unidades, y las unidades dobles deben ocupar un mínimo de 10%.  \n",
    "4. El impuesto por unidad aplicado a las unidades sencillas, dobles, triples y cuádruples es de $1000, $1900, $2700 y $3400, respectivamente.  \n",
    "5. El costo de construcción por unidad de las casas sencillas, dobles, triples y cuádruples es de $50,000, $70,000, $130,000 y $160,000, respectivamente. El financiamiento a través de un banco local está limitado a $15 millones.\n",
    "\n",
    "**¿Cuántas unidades de cada tipo se deben construir para maximizar la recaudación de impuestos? Deberá hacer lo siguiente:**"
   ]
  },
  {
   "cell_type": "markdown",
   "id": "8c210a93",
   "metadata": {},
   "source": [
    "## Inciso a\n",
    "\n",
    "Formular el problema de programación lineal."
   ]
  },
  {
   "cell_type": "markdown",
   "id": "a18b25bf",
   "metadata": {},
   "source": [
    "### Contexto\n",
    "\n",
    "Se quiere maximizar la recaudación de impuestos a futuro sujeto a la nueva construcción de casas considerando las condiciones de espacio, presupuesto y porcentaje de tipo de unidad de casas.\n",
    "\n",
    "#### Datos\n",
    "\n",
    "##### Demoliciones\n",
    "\n",
    "- Se pueden demoler máximo 300 casas.\n",
    "- Cada una ocupa 0.25 acres\n",
    "  - Por lo tanto el total máximo del terreno disponible es de $300 \\times 0.25 = 75$ acres\n",
    "- Costo por demolición por casa: \\$2,000\n",
    "  - Por lo tanto el total es de $300\\times\\text{\\$}2000=\\text{\\$}600,000$\n",
    "\n",
    "\n",
    "##### Tipos de viviendas nuevas\n",
    "\n",
    "| Tipo      | Acre por unidad | Impuesto (\\$) | Costo de construcción (\\$) |\n",
    "| --------- | --------------- | ------------- | -------------------------- |\n",
    "| Sencilla  | 0.18            | 1000          | 50,000                     |\n",
    "| Doble     | 0.28            | 1900          | 70,000                     |\n",
    "| Triple    | 0.40            | 2700          | 130,000                    |\n",
    "| Cuádruple | 0.50            | 3400          | 160,000                    |\n",
    "\n",
    "El **15%** del área disponible se usará para otro motivo que no son las casas, por lo tanto tenemos un **85%** del aréa que puede usarse por lo tanto realmente se tiene un área disponible de:\n",
    "\n",
    "$$0.85 \\times 75 = 63.75\\text{ acres}$$\n",
    "\n",
    "##### Otras restricciones\n",
    "\n",
    "- Financiamiento máximo: \\$15,000,000\n",
    "- Porcentaje mínimo por tipo de unidad:\n",
    "\n",
    "  | Tipo de unidad                  | Porcentaje mínimo requerido |\n",
    "  | ------------------------------- | --------------------------- |\n",
    "  | Sencilla                        | 20% del total de unidades   |\n",
    "  | Doble                           | 10% del total de unidades   |\n",
    "  | Triple + Cuádruple (combinadas) | 25% del total de unidades   |\n"
   ]
  },
  {
   "cell_type": "markdown",
   "id": "0024392f",
   "metadata": {},
   "source": [
    "### Formulación del problema\n",
    "\n",
    "#### Variable\n",
    "\n",
    "Definimos las variables de acuerdo al tipo de unidad de casa:\n",
    "\n",
    "* $x_1$ = número de **unidades sencillas**\n",
    "* $x_2$ = número de **unidades dobles**\n",
    "* $x_3$ = número de **unidades triples**\n",
    "* $x_4$ = número de **unidades cuádruples**\n",
    "\n",
    "*Esto es porque debemos determinar cuantas unidades construir de cada tipo.*\n",
    "\n",
    "#### Función objetivo\n",
    "\n",
    "Maximizar la recaudación de impuestos:\n",
    "\n",
    "$$\n",
    "\\max z = 1000x_1 + 1900x_2 + 2700x_3 + 3400x_4\n",
    "$$\n",
    "\n",
    "*Esto debido a que cada tipo de unidad de casa genera impuesto y queremos maximizar esa suma total.*\n",
    "\n",
    "### Restricciones de espacio\n",
    "\n",
    "Ya que tenemos de área disponible $63.75$ acres y tenemos definido que cada espacio consume un porcentaje:\n",
    "\n",
    "$$\n",
    "0.18x_1 + 0.28x_2 + 0.4x_3 + 0.5x_4 \\leq 63.75\n",
    "$$\n",
    "\n",
    "*Esto quiere decir que el área ocupada por todas las viviendas no debe exceder el área disponible*\n",
    "\n",
    "### Restricciones de presupuesto\n",
    "\n",
    "$$\n",
    "50000x_1 + 70000x_2 + 130000x_3 + 160000x_4 \\leq 15,000,000\n",
    "$$\n",
    "\n",
    "\n",
    "*Esto quiere decir que no debemos pasarnos del presupuesto dado.*\n",
    "\n",
    "### Restricciones por tipo de unidad de casa\n",
    "\n",
    "1. **Al menos el 25% de las casas deben ser triples o cuadrúples:**\n",
    "\n",
    "  $$\n",
    "  x_3 + x_4 \\geq 0.25(x_1 + x_2 + x_3 + x_4)\n",
    "  $$\n",
    "\n",
    "  $$\n",
    "  4(x_3 + x_4) \\geq x_1 + x_2 + x_3 + x_4\n",
    "  $$\n",
    "\n",
    "2. **Al menos el 20% de las casas deben ser sencillas:**\n",
    "\n",
    "  $$\n",
    "  x_1 \\geq 0.2(x_1 + x_2 + x_3 + x_4)\n",
    "  $$\n",
    "\n",
    "  $$\n",
    "  5x_1 \\geq x_1 + x_2 + x_3 + x_4\n",
    "  $$\n",
    "\n",
    "3. **Al menos el 10% de las casas deben ser dobles:**\n",
    "\n",
    "  $$\n",
    "  x_2 \\geq 0.1(x_1 + x_2 + x_3 + x_4)\n",
    "  $$\n",
    "\n",
    "  $$\n",
    "  10x_2 \\geq x_1 + x_2 + x_3 + x_4\n",
    "  $$\n",
    "\n",
    "### Restricción de no negatividad\n",
    "\n",
    "$$\n",
    "x_1, x_2, x_3, x_4 \\in \\mathbb{Z}_{\\geq 0}\n",
    "$$\n",
    "\n",
    "*No se puede tener fracción de buses ni cantidades negativas*"
   ]
  },
  {
   "cell_type": "markdown",
   "id": "093048b4",
   "metadata": {},
   "source": [
    "## Inciso b\n",
    "\n",
    "Resolver el problema usando la librería JuMP o Pulp, en variables continuas, y determinar la distribución óptima.  "
   ]
  },
  {
   "cell_type": "markdown",
   "id": "3431262c",
   "metadata": {},
   "source": [
    "**Función objetivo:**\n",
    "\n",
    "$$\n",
    "\\max z = 1000x_1 + 1900x_2 + 2700x_3 + 3400x_4\n",
    "$$\n",
    "\n",
    "**Sujeto a:**\n",
    "\n",
    "$$\n",
    "\\begin{aligned}\n",
    "0.18x_1 + 0.28x_2 + 0.4x_3 + 0.5x_4 &\\leq 63.75 \\quad \\text{(terreno)} \\\\\n",
    "50000x_1 + 70000x_2 + 130000x_3 + 160000x_4 &\\leq 15,000,000 \\quad \\text{(presupuesto)} \\\\\n",
    "4(x_3 + x_4) &\\geq x_1 + x_2 + x_3 + x_4 \\quad \\text{(mínimo 25\\% triples/cuádruples)} \\\\\n",
    "5x_1 &\\geq x_1 + x_2 + x_3 + x_4 \\quad \\text{(mínimo 20\\% sencillas)} \\\\\n",
    "10x_2 &\\geq x_1 + x_2 + x_3 + x_4 \\quad \\text{(mínimo 10\\% dobles)} \\\\\n",
    "x_1, x_2, x_3, x_4 \\geq 0\n",
    "\\end{aligned}\n",
    "$$\n"
   ]
  },
  {
   "cell_type": "markdown",
   "id": "efb1b349",
   "metadata": {},
   "source": [
    "### Librerías"
   ]
  },
  {
   "cell_type": "code",
   "execution_count": null,
   "id": "f0d4e6ce",
   "metadata": {},
   "outputs": [],
   "source": [
    "using JuMP\n",
    "using HiGHS"
   ]
  },
  {
   "cell_type": "markdown",
   "id": "3b724fb6",
   "metadata": {},
   "source": [
    "### Creación del modelo"
   ]
  },
  {
   "cell_type": "code",
   "execution_count": null,
   "id": "d17c785d",
   "metadata": {},
   "outputs": [],
   "source": [
    "model_4b = Model()"
   ]
  },
  {
   "cell_type": "markdown",
   "id": "86ab6826",
   "metadata": {},
   "source": [
    "### Definición de variables"
   ]
  },
  {
   "cell_type": "code",
   "execution_count": null,
   "id": "1eb8e7e5",
   "metadata": {},
   "outputs": [],
   "source": [
    "@variable(model_4b, x1 >= 0)\n",
    "@variable(model_4b, x2 >= 0)\n",
    "@variable(model_4b, x3 >= 0)\n",
    "@variable(model_4b, x4 >= 0)"
   ]
  },
  {
   "cell_type": "markdown",
   "id": "a69b55c9",
   "metadata": {},
   "source": [
    "### Definición de restricciones"
   ]
  },
  {
   "cell_type": "code",
   "execution_count": null,
   "id": "22224cbb",
   "metadata": {},
   "outputs": [],
   "source": [
    "# terreno\n",
    "@constraint(model_4b, 0.18x1 + 0.28x2 + 0.4x3 + 0.5x4 <= 63.75)\n",
    "\n",
    "# presupuesto\n",
    "@constraint(model_4b, 50000x1 + 70000x2 + 130000x3 + 160000x4 <= 15_000_000)\n",
    "\n",
    "# tipo de unidad de casa\n",
    "@constraint(model_4b, 4(x3 + x4) >= x1 + x2 + x3 + x4)\n",
    "@constraint(model_4b, 5x1 >= x1 + x2 + x3 + x4)\n",
    "@constraint(model_4b, 10x2 >= x1 + x2 + x3 + x4)"
   ]
  },
  {
   "cell_type": "markdown",
   "id": "e0792136",
   "metadata": {},
   "source": [
    "### Función objetivo"
   ]
  },
  {
   "cell_type": "code",
   "execution_count": null,
   "id": "4885c828",
   "metadata": {},
   "outputs": [],
   "source": [
    "@objective(model_4b, Max, 1000x1 + 1900x2 + 2700x3 + 3400x4)"
   ]
  },
  {
   "cell_type": "markdown",
   "id": "cca3ee5c",
   "metadata": {},
   "source": [
    "### Configuración y aplicación del solver"
   ]
  },
  {
   "cell_type": "code",
   "execution_count": null,
   "id": "3507c84e",
   "metadata": {},
   "outputs": [],
   "source": [
    "set_optimizer(model_4b, HiGHS.Optimizer)\n",
    "optimize!(model_4b)"
   ]
  },
  {
   "cell_type": "markdown",
   "id": "344d10a4",
   "metadata": {},
   "source": [
    "### Resultados"
   ]
  },
  {
   "cell_type": "code",
   "execution_count": null,
   "id": "ba04e8c4",
   "metadata": {},
   "outputs": [],
   "source": [
    "println(\"x1 (sencillas)   = \", value(x1))\n",
    "println(\"x2 (dobles)      = \", value(x2))\n",
    "println(\"x3 (triples)     = \", value(x3))\n",
    "println(\"x4 (cuádruples)  = \", value(x4))\n",
    "println(\"Total impuesto (z) = \", objective_value(model_4b))"
   ]
  },
  {
   "cell_type": "markdown",
   "id": "10e0b654",
   "metadata": {},
   "source": [
    "## Inciso c\n",
    "\n",
    "Resolver el problema en variables enteras, y comparar la solución con la de (b). Discuta sus resultados."
   ]
  },
  {
   "cell_type": "markdown",
   "id": "971fb2d5",
   "metadata": {},
   "source": [
    "**Función objetivo:**\n",
    "\n",
    "$$\n",
    "\\max z = 1000x_1 + 1900x_2 + 2700x_3 + 3400x_4\n",
    "$$\n",
    "\n",
    "**Sujeto a:**\n",
    "\n",
    "$$\n",
    "\\begin{aligned}\n",
    "0.18x_1 + 0.28x_2 + 0.4x_3 + 0.5x_4 &\\leq 63.75 \\quad \\text{(terreno)} \\\\\n",
    "50000x_1 + 70000x_2 + 130000x_3 + 160000x_4 &\\leq 15,000,000 \\quad \\text{(presupuesto)} \\\\\n",
    "4(x_3 + x_4) &\\geq x_1 + x_2 + x_3 + x_4 \\quad \\text{(mínimo 25\\% triples/cuádruples)} \\\\\n",
    "5x_1 &\\geq x_1 + x_2 + x_3 + x_4 \\quad \\text{(mínimo 20\\% sencillas)} \\\\\n",
    "10x_2 &\\geq x_1 + x_2 + x_3 + x_4 \\quad \\text{(mínimo 10\\% dobles)} \\\\\n",
    "x_1, x_2, x_3, x_4 &\\in \\mathbb{Z}_{\\geq 0}\n",
    "\\end{aligned}\n",
    "$$\n"
   ]
  },
  {
   "cell_type": "markdown",
   "id": "ddda142c",
   "metadata": {},
   "source": [
    "### Librerías"
   ]
  },
  {
   "cell_type": "code",
   "execution_count": null,
   "id": "39392e96",
   "metadata": {},
   "outputs": [],
   "source": [
    "using JuMP\n",
    "using HiGHS"
   ]
  },
  {
   "cell_type": "markdown",
   "id": "5de0348e",
   "metadata": {},
   "source": [
    "### Creación del modelo"
   ]
  },
  {
   "cell_type": "code",
   "execution_count": null,
   "id": "d904a6de",
   "metadata": {},
   "outputs": [],
   "source": [
    "model_4c = Model()"
   ]
  },
  {
   "cell_type": "markdown",
   "id": "0e497158",
   "metadata": {},
   "source": [
    "### Definición de variables"
   ]
  },
  {
   "cell_type": "code",
   "execution_count": null,
   "id": "d50657db",
   "metadata": {},
   "outputs": [],
   "source": [
    "@variable(model_4c, x1 >= 0, Int)\n",
    "@variable(model_4c, x2 >= 0, Int)\n",
    "@variable(model_4c, x3 >= 0, Int)\n",
    "@variable(model_4c, x4 >= 0, Int)"
   ]
  },
  {
   "cell_type": "markdown",
   "id": "1ffa6d51",
   "metadata": {},
   "source": [
    "### Definición de restricciones"
   ]
  },
  {
   "cell_type": "code",
   "execution_count": null,
   "id": "50d535d4",
   "metadata": {},
   "outputs": [],
   "source": [
    "# terreno\n",
    "@constraint(model_4c, 0.18x1 + 0.28x2 + 0.4x3 + 0.5x4 <= 63.75)\n",
    "\n",
    "# presupuesto\n",
    "@constraint(model_4c, 50000x1 + 70000x2 + 130000x3 + 160000x4 <= 15_000_000)\n",
    "\n",
    "# tipo de unidad de casa\n",
    "@constraint(model_4c, 4(x3 + x4) >= x1 + x2 + x3 + x4)\n",
    "@constraint(model_4c, 5x1 >= x1 + x2 + x3 + x4)\n",
    "@constraint(model_4c, 10x2 >= x1 + x2 + x3 + x4)"
   ]
  },
  {
   "cell_type": "markdown",
   "id": "85140e34",
   "metadata": {},
   "source": [
    "### Función objetivo"
   ]
  },
  {
   "cell_type": "code",
   "execution_count": null,
   "id": "21715929",
   "metadata": {},
   "outputs": [],
   "source": [
    "@objective(model_4c, Max, 1000x1 + 1900x2 + 2700x3 + 3400x4)"
   ]
  },
  {
   "cell_type": "markdown",
   "id": "c9f7237b",
   "metadata": {},
   "source": [
    "### Configuración y aplicación del solver"
   ]
  },
  {
   "cell_type": "code",
   "execution_count": null,
   "id": "e5bba8ca",
   "metadata": {},
   "outputs": [],
   "source": [
    "set_optimizer(model_4c, HiGHS.Optimizer)\n",
    "optimize!(model_4c)"
   ]
  },
  {
   "cell_type": "markdown",
   "id": "d677b019",
   "metadata": {},
   "source": [
    "### Resultados"
   ]
  },
  {
   "cell_type": "code",
   "execution_count": null,
   "id": "fe3bfeb2",
   "metadata": {},
   "outputs": [],
   "source": [
    "println(\"x1 (sencillas)   = \", value(x1))\n",
    "println(\"x2 (dobles)      = \", value(x2))\n",
    "println(\"x3 (triples)     = \", value(x3))\n",
    "println(\"x4 (cuádruples)  = \", value(x4))\n",
    "println(\"Total impuesto (z) = \", objective_value(model_4c))"
   ]
  },
  {
   "cell_type": "markdown",
   "id": "8968468c",
   "metadata": {},
   "source": [
    "### Discusión de resultados\n",
    "\n",
    "| Tipo de unidad        | Variables continuas | Variables enteras |\n",
    "| --------------------- | ------------------- | ----------------- |\n",
    "| Sencillas ($x_1$)     | 37.04               | 36                |\n",
    "| Dobles ($x_2$)        | 101.85              | 99                |\n",
    "| Triples ($x_3$)       | 46.30               | 31                |\n",
    "| Cuádruples ($x_4$)    | 0                   | 14                |\n",
    "| **Impuesto total**    | **355,556**         | **355,400**       |\n",
    "\n",
    "\n",
    "Sabemos que idealmente las restricciones para el inciso c son mejores por el hecho que la construcción de casas deben ser enteras porque las fracciones no pueden ser vendidas pero ademas tomemos algo adicional en cuenta, si tomamos los resultados continuos como solución teórica y los resultados enteros como solución verdadera podemos estimar incluso una pérdida asociada a construir hacer ese sacrificio de construir casas enteras a comparación de continuas:\n",
    "\n",
    "$$\\text{perdida}= \\frac{355556 - 355400}{355556} ≈ 0.044\\%$$\n",
    "\n",
    "Si bien se tiene una menor ganancia no es tanta y se puede asumir el \"riesgo\" de idealmente construir casas completas en lugar de fracciones.\n"
   ]
  }
 ],
 "metadata": {
  "kernelspec": {
   "display_name": "Julia 1.11.6",
   "language": "julia",
   "name": "julia-1.11"
  },
  "language_info": {
   "file_extension": ".jl",
   "mimetype": "application/julia",
   "name": "julia",
   "version": "1.11.6"
  }
 },
 "nbformat": 4,
 "nbformat_minor": 5
}
