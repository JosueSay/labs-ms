{
 "cells": [
  {
   "cell_type": "markdown",
   "id": "6ea6ab98",
   "metadata": {},
   "source": [
    "# Modelo de renovación urbana\n",
    "\n",
    "La ciudad de Erstville enfrenta un grave recorte de presupuesto. Buscando una solución a largo plazo para mejorar la base tributaria, el consejo de la ciudad propone la demolición de un área de viviendas dentro de la ciudad, y su reemplazo con un moderno desarrollo. El proyecto implica dos fases: (1) demolición de casas populares para obtener el terreno para el nuevo desarrollo y (2) construcción del nuevo desarrollo. A continuación, un resumen de la situación.\n",
    "\n",
    "1. Se pueden demoler 300 casas populares. Cada casa ocupa un lote de 0.25 acres. El costo de demoler una casa es de $2000.  \n",
    "2. Los tamaños de los lotes para construir casas unifamiliares, dobles, triples y cuádruples, son de 0.18, 0.28, 0.4 y 0.5 acres, respectivamente. Las calles, los espacios abiertos y el área para la instalación de servicios, ocupan 15% del área disponible.  \n",
    "3. En el nuevo desarrollo, las unidades triples y cuádruples ocupan por lo menos 25% del total. Las unidades sencillas deben ser al menos 20% de todas las unidades, y las unidades dobles deben ocupar un mínimo de 10%.  \n",
    "4. El impuesto por unidad aplicado a las unidades sencillas, dobles, triples y cuádruples es de $1000, $1900, $2700 y $3400, respectivamente.  \n",
    "5. El costo de construcción por unidad de las casas sencillas, dobles, triples y cuádruples es de $50,000, $70,000, $130,000 y $160,000, respectivamente. El financiamiento a través de un banco local está limitado a $15 millones.\n",
    "\n",
    "**¿Cuántas unidades de cada tipo se deben construir para maximizar la recaudación de impuestos? Deberá hacer lo siguiente:**"
   ]
  },
  {
   "cell_type": "markdown",
   "id": "a9e80a3d",
   "metadata": {},
   "source": [
    "## Inciso a\n",
    "\n",
    "Formular el problema de programación lineal."
   ]
  },
  {
   "cell_type": "markdown",
   "id": "7ce2b92f",
   "metadata": {},
   "source": [
    "### Contexto\n",
    "\n",
    "Se quiere maximizar la recaudación de impuestos a futuro sujeto a la nueva construcción de casas considerando las condiciones de espacio, presupuesto y porcentaje de tipo de unidad de casas.\n",
    "\n",
    "#### Datos\n",
    "\n",
    "##### Demoliciones\n",
    "\n",
    "- Se pueden demoler máximo 300 casas.\n",
    "- Cada una ocupa 0.25 acres\n",
    "  - Por lo tanto el total máximo del terreno disponible es de $300 \\times 0.25 = 75$ acres\n",
    "- Costo por demolición por casa: \\$2,000\n",
    "  - Por lo tanto el total es de $300\\times\\text{\\$}2000=\\text{\\$}600,000$\n",
    "\n",
    "\n",
    "##### Tipos de viviendas nuevas\n",
    "\n",
    "| Tipo      | Acre por unidad | Impuesto (\\$) | Costo de construcción (\\$) |\n",
    "| --------- | --------------- | ------------- | -------------------------- |\n",
    "| Sencilla  | 0.18            | 1000          | 50,000                     |\n",
    "| Doble     | 0.28            | 1900          | 70,000                     |\n",
    "| Triple    | 0.40            | 2700          | 130,000                    |\n",
    "| Cuádruple | 0.50            | 3400          | 160,000                    |\n",
    "\n",
    "El **15%** del área disponible se usará para otro motivo que no son las casas, por lo tanto tenemos un **85%** del aréa que puede usarse por lo tanto realmente se tiene un área disponible de:\n",
    "\n",
    "$$0.85 \\times 75 = 63.75\\text{ acres}$$\n",
    "\n",
    "##### Otras restricciones\n",
    "\n",
    "- Financiamiento máximo: \\$15,000,000\n",
    "- Porcentaje mínimo por tipo de unidad:\n",
    "\n",
    "  | Tipo de unidad                  | Porcentaje mínimo requerido |\n",
    "  | ------------------------------- | --------------------------- |\n",
    "  | Sencilla                        | 20% del total de unidades   |\n",
    "  | Doble                           | 10% del total de unidades   |\n",
    "  | Triple + Cuádruple (combinadas) | 25% del total de unidades   |\n"
   ]
  },
  {
   "cell_type": "markdown",
   "id": "9d6dac23",
   "metadata": {},
   "source": [
    "### Formulación del problema\n",
    "\n",
    "#### Variable\n",
    "\n",
    "Definimos las variables de acuerdo al tipo de unidad de casa:\n",
    "\n",
    "* $x_1$ = número de **unidades sencillas**\n",
    "* $x_2$ = número de **unidades dobles**\n",
    "* $x_3$ = número de **unidades triples**\n",
    "* $x_4$ = número de **unidades cuádruples**\n",
    "\n",
    "*Esto es porque debemos determinar cuantas unidades construir de cada tipo.*\n",
    "\n",
    "#### Función objetivo\n",
    "\n",
    "Maximizar la recaudación de impuestos:\n",
    "\n",
    "$$\n",
    "\\max z = 1000x_1 + 1900x_2 + 2700x_3 + 3400x_4\n",
    "$$\n",
    "\n",
    "*Esto debido a que cada tipo de unidad de casa genera impuesto y queremos maximizar esa suma total.*\n",
    "\n",
    "### Restricciones de espacio\n",
    "\n",
    "Ya que tenemos de área disponible $63.75$ acres y tenemos definido que cada espacio consume un porcentaje:\n",
    "\n",
    "$$\n",
    "0.18x_1 + 0.28x_2 + 0.4x_3 + 0.5x_4 \\leq 63.75\n",
    "$$\n",
    "\n",
    "*Esto quiere decir que el área ocupada por todas las viviendas no debe exceder el área disponible*\n",
    "\n",
    "### Restricciones de presupuesto\n",
    "\n",
    "$$\n",
    "50000x_1 + 70000x_2 + 130000x_3 + 160000x_4 \\leq 15,000,000\n",
    "$$\n",
    "\n",
    "\n",
    "*Esto quiere decir que no debemos pasarnos del presupuesto dado.*\n",
    "\n",
    "### Restricciones por tipo de unidad de casa\n",
    "\n",
    "1. **Al menos el 25% de las casas deben ser triples o cuadrúples:**\n",
    "\n",
    "  $$\n",
    "  x_3 + x_4 \\geq 0.25(x_1 + x_2 + x_3 + x_4)\n",
    "  $$\n",
    "\n",
    "  $$\n",
    "  4(x_3 + x_4) \\geq x_1 + x_2 + x_3 + x_4\n",
    "  $$\n",
    "\n",
    "2. **Al menos el 20% de las casas deben ser sencillas:**\n",
    "\n",
    "  $$\n",
    "  x_1 \\geq 0.2(x_1 + x_2 + x_3 + x_4)\n",
    "  $$\n",
    "\n",
    "  $$\n",
    "  5x_1 \\geq x_1 + x_2 + x_3 + x_4\n",
    "  $$\n",
    "\n",
    "3. **Al menos el 10% de las casas deben ser dobles:**\n",
    "\n",
    "  $$\n",
    "  x_2 \\geq 0.1(x_1 + x_2 + x_3 + x_4)\n",
    "  $$\n",
    "\n",
    "  $$\n",
    "  10x_2 \\geq x_1 + x_2 + x_3 + x_4\n",
    "  $$\n",
    "\n",
    "### Restricción de no negatividad\n",
    "\n",
    "$$\n",
    "x_1, x_2, x_3, x_4 \\in \\mathbb{Z}_{\\geq 0}\n",
    "$$\n",
    "\n",
    "*No se puede tener fracción de buses ni cantidades negativas*"
   ]
  },
  {
   "cell_type": "markdown",
   "id": "0e2e7a76",
   "metadata": {},
   "source": [
    "## Inciso b\n",
    "\n",
    "Resolver el problema usando la librería JuMP o Pulp, en variables continuas, y determinar la distribución óptima.  "
   ]
  },
  {
   "cell_type": "markdown",
   "id": "c4decbab",
   "metadata": {},
   "source": [
    "**Función objetivo:**\n",
    "\n",
    "$$\n",
    "\\max z = 1000x_1 + 1900x_2 + 2700x_3 + 3400x_4\n",
    "$$\n",
    "\n",
    "**Sujeto a:**\n",
    "\n",
    "$$\n",
    "\\begin{aligned}\n",
    "0.18x_1 + 0.28x_2 + 0.4x_3 + 0.5x_4 &\\leq 63.75 \\quad \\text{(terreno)} \\\\\n",
    "50000x_1 + 70000x_2 + 130000x_3 + 160000x_4 &\\leq 15,000,000 \\quad \\text{(presupuesto)} \\\\\n",
    "4(x_3 + x_4) &\\geq x_1 + x_2 + x_3 + x_4 \\quad \\text{(mínimo 25\\% triples/cuádruples)} \\\\\n",
    "5x_1 &\\geq x_1 + x_2 + x_3 + x_4 \\quad \\text{(mínimo 20\\% sencillas)} \\\\\n",
    "10x_2 &\\geq x_1 + x_2 + x_3 + x_4 \\quad \\text{(mínimo 10\\% dobles)} \\\\\n",
    "x_1, x_2, x_3, x_4 \\geq 0\n",
    "\\end{aligned}\n",
    "$$\n"
   ]
  },
  {
   "cell_type": "code",
   "execution_count": null,
   "id": "a8b82bbd",
   "metadata": {},
   "outputs": [],
   "source": [
    "using Pkg\n",
    "Pkg.activate(\"..\")\n",
    "Pkg.instantiate()\n",
    "Pkg.status()"
   ]
  },
  {
   "cell_type": "markdown",
   "id": "598697b7",
   "metadata": {},
   "source": [
    "### Librerías"
   ]
  },
  {
   "cell_type": "code",
   "execution_count": null,
   "id": "e8815608",
   "metadata": {},
   "outputs": [],
   "source": [
    "using JuMP\n",
    "using HiGHS"
   ]
  },
  {
   "cell_type": "markdown",
   "id": "7fd9e130",
   "metadata": {},
   "source": [
    "### Creación del modelo"
   ]
  },
  {
   "cell_type": "code",
   "execution_count": null,
   "id": "95c77281",
   "metadata": {},
   "outputs": [],
   "source": [
    "model_4b = Model()"
   ]
  },
  {
   "cell_type": "markdown",
   "id": "4b8a9109",
   "metadata": {},
   "source": [
    "### Definición de variables"
   ]
  },
  {
   "cell_type": "code",
   "execution_count": null,
   "id": "d8788971",
   "metadata": {},
   "outputs": [],
   "source": [
    "@variable(model_4b, x1 >= 0)\n",
    "@variable(model_4b, x2 >= 0)\n",
    "@variable(model_4b, x3 >= 0)\n",
    "@variable(model_4b, x4 >= 0)"
   ]
  },
  {
   "cell_type": "markdown",
   "id": "c369172e",
   "metadata": {},
   "source": [
    "### Definición de restricciones"
   ]
  },
  {
   "cell_type": "code",
   "execution_count": null,
   "id": "b33e7e4a",
   "metadata": {},
   "outputs": [],
   "source": [
    "# terreno\n",
    "@constraint(model_4b, 0.18x1 + 0.28x2 + 0.4x3 + 0.5x4 <= 63.75)\n",
    "\n",
    "# presupuesto\n",
    "@constraint(model_4b, 50000x1 + 70000x2 + 130000x3 + 160000x4 <= 15_000_000)\n",
    "\n",
    "# tipo de unidad de casa\n",
    "@constraint(model_4b, 4(x3 + x4) >= x1 + x2 + x3 + x4)\n",
    "@constraint(model_4b, 5x1 >= x1 + x2 + x3 + x4)\n",
    "@constraint(model_4b, 10x2 >= x1 + x2 + x3 + x4)"
   ]
  },
  {
   "cell_type": "markdown",
   "id": "a50b22c6",
   "metadata": {},
   "source": [
    "### Función objetivo"
   ]
  },
  {
   "cell_type": "code",
   "execution_count": null,
   "id": "550ec8e8",
   "metadata": {},
   "outputs": [],
   "source": [
    "@objective(model_4b, Max, 1000x1 + 1900x2 + 2700x3 + 3400x4)"
   ]
  },
  {
   "cell_type": "markdown",
   "id": "48b7a6a1",
   "metadata": {},
   "source": [
    "### Configuración y aplicación del solver"
   ]
  },
  {
   "cell_type": "code",
   "execution_count": null,
   "id": "7577861b",
   "metadata": {},
   "outputs": [],
   "source": [
    "set_optimizer(model_4b, HiGHS.Optimizer)\n",
    "optimize!(model_4b)"
   ]
  },
  {
   "cell_type": "markdown",
   "id": "afaa43c2",
   "metadata": {},
   "source": [
    "### Resultados"
   ]
  },
  {
   "cell_type": "code",
   "execution_count": null,
   "id": "80e1d15e",
   "metadata": {},
   "outputs": [],
   "source": [
    "println(\"x1 (sencillas)   = \", value(x1))\n",
    "println(\"x2 (dobles)      = \", value(x2))\n",
    "println(\"x3 (triples)     = \", value(x3))\n",
    "println(\"x4 (cuádruples)  = \", value(x4))\n",
    "println(\"Total impuesto (z) = \", objective_value(model_4b))"
   ]
  },
  {
   "cell_type": "markdown",
   "id": "e92981d9",
   "metadata": {},
   "source": [
    "## Inciso c\n",
    "\n",
    "Resolver el problema en variables enteras, y comparar la solución con la de (b). Discuta sus resultados."
   ]
  },
  {
   "cell_type": "markdown",
   "id": "bed93473",
   "metadata": {},
   "source": [
    "**Función objetivo:**\n",
    "\n",
    "$$\n",
    "\\max z = 1000x_1 + 1900x_2 + 2700x_3 + 3400x_4\n",
    "$$\n",
    "\n",
    "**Sujeto a:**\n",
    "\n",
    "$$\n",
    "\\begin{aligned}\n",
    "0.18x_1 + 0.28x_2 + 0.4x_3 + 0.5x_4 &\\leq 63.75 \\quad \\text{(terreno)} \\\\\n",
    "50000x_1 + 70000x_2 + 130000x_3 + 160000x_4 &\\leq 15,000,000 \\quad \\text{(presupuesto)} \\\\\n",
    "4(x_3 + x_4) &\\geq x_1 + x_2 + x_3 + x_4 \\quad \\text{(mínimo 25\\% triples/cuádruples)} \\\\\n",
    "5x_1 &\\geq x_1 + x_2 + x_3 + x_4 \\quad \\text{(mínimo 20\\% sencillas)} \\\\\n",
    "10x_2 &\\geq x_1 + x_2 + x_3 + x_4 \\quad \\text{(mínimo 10\\% dobles)} \\\\\n",
    "x_1, x_2, x_3, x_4 &\\in \\mathbb{Z}_{\\geq 0}\n",
    "\\end{aligned}\n",
    "$$\n"
   ]
  },
  {
   "cell_type": "code",
   "execution_count": null,
   "id": "db21f42d",
   "metadata": {},
   "outputs": [],
   "source": [
    "using Pkg\n",
    "Pkg.activate(\"..\")\n",
    "Pkg.instantiate()\n",
    "Pkg.status()"
   ]
  },
  {
   "cell_type": "markdown",
   "id": "2640b955",
   "metadata": {},
   "source": [
    "### Librerías"
   ]
  },
  {
   "cell_type": "code",
   "execution_count": null,
   "id": "9bb994d0",
   "metadata": {},
   "outputs": [],
   "source": [
    "using JuMP\n",
    "using HiGHS"
   ]
  },
  {
   "cell_type": "markdown",
   "id": "a4c68a44",
   "metadata": {},
   "source": [
    "### Creación del modelo"
   ]
  },
  {
   "cell_type": "code",
   "execution_count": null,
   "id": "06a6f2c2",
   "metadata": {},
   "outputs": [],
   "source": [
    "model_4c = Model()"
   ]
  },
  {
   "cell_type": "markdown",
   "id": "8f4bd005",
   "metadata": {},
   "source": [
    "### Definición de variables"
   ]
  },
  {
   "cell_type": "code",
   "execution_count": null,
   "id": "d2210fdb",
   "metadata": {},
   "outputs": [],
   "source": [
    "@variable(model_4c, x1 >= 0, Int)\n",
    "@variable(model_4c, x2 >= 0, Int)\n",
    "@variable(model_4c, x3 >= 0, Int)\n",
    "@variable(model_4c, x4 >= 0, Int)"
   ]
  },
  {
   "cell_type": "markdown",
   "id": "63d31645",
   "metadata": {},
   "source": [
    "### Definición de restricciones"
   ]
  },
  {
   "cell_type": "code",
   "execution_count": null,
   "id": "de9f578c",
   "metadata": {},
   "outputs": [],
   "source": [
    "# terreno\n",
    "@constraint(model_4c, 0.18x1 + 0.28x2 + 0.4x3 + 0.5x4 <= 63.75)\n",
    "\n",
    "# presupuesto\n",
    "@constraint(model_4c, 50000x1 + 70000x2 + 130000x3 + 160000x4 <= 15_000_000)\n",
    "\n",
    "# tipo de unidad de casa\n",
    "@constraint(model_4c, 4(x3 + x4) >= x1 + x2 + x3 + x4)\n",
    "@constraint(model_4c, 5x1 >= x1 + x2 + x3 + x4)\n",
    "@constraint(model_4c, 10x2 >= x1 + x2 + x3 + x4)"
   ]
  },
  {
   "cell_type": "markdown",
   "id": "dba92a11",
   "metadata": {},
   "source": [
    "### Función objetivo"
   ]
  },
  {
   "cell_type": "code",
   "execution_count": null,
   "id": "0bb26f30",
   "metadata": {},
   "outputs": [],
   "source": [
    "@objective(model_4c, Max, 1000x1 + 1900x2 + 2700x3 + 3400x4)"
   ]
  },
  {
   "cell_type": "markdown",
   "id": "b24da818",
   "metadata": {},
   "source": [
    "### Configuración y aplicación del solver"
   ]
  },
  {
   "cell_type": "code",
   "execution_count": null,
   "id": "7c87eda6",
   "metadata": {},
   "outputs": [],
   "source": [
    "set_optimizer(model_4c, HiGHS.Optimizer)\n",
    "optimize!(model_4c)"
   ]
  },
  {
   "cell_type": "markdown",
   "id": "326fa294",
   "metadata": {},
   "source": [
    "### Resultados"
   ]
  },
  {
   "cell_type": "code",
   "execution_count": null,
   "id": "bcc0daf1",
   "metadata": {},
   "outputs": [],
   "source": [
    "println(\"x1 (sencillas)   = \", value(x1))\n",
    "println(\"x2 (dobles)      = \", value(x2))\n",
    "println(\"x3 (triples)     = \", value(x3))\n",
    "println(\"x4 (cuádruples)  = \", value(x4))\n",
    "println(\"Total impuesto (z) = \", objective_value(model_4c))"
   ]
  },
  {
   "cell_type": "markdown",
   "id": "41f57140",
   "metadata": {},
   "source": [
    "## Discusión de resultados\n",
    "\n",
    "| Tipo de unidad        | Variables continuas | Variables enteras |\n",
    "| --------------------- | ------------------- | ----------------- |\n",
    "| Sencillas ($x_1$)     | 37.04               | 36                |\n",
    "| Dobles ($x_2$)        | 101.85              | 99                |\n",
    "| Triples ($x_3$)       | 46.30               | 31                |\n",
    "| Cuádruples ($x_4$)    | 0                   | 14                |\n",
    "| **Impuesto total**    | **355,556**         | **355,400**       |\n",
    "\n",
    "\n",
    "Sabemos que idealmente las restricciones para el inciso c son mejores por el hecho que la construcción de casas deben ser enteras porque las fracciones no pueden ser vendidas pero ademas tomemos algo adicional en cuenta, si tomamos los resultados continuos como solución teórica y los resultados enteros como solución verdadera podemos estimar incluso una pérdida asociada a construir hacer ese sacrificio de construir casas enteras a comparación de continuas:\n",
    "\n",
    "$$\\text{perdida}= \\frac{355556 - 355400}{355556} ≈ 0.044\\%$$\n",
    "\n",
    "Si bien se tiene una menor ganancia no es tanta y se puede asumir el \"riesgo\" de idealmente construir casas completas en lugar de fracciones.\n"
   ]
  }
 ],
 "metadata": {
  "kernelspec": {
   "display_name": "Julia 1.11.6",
   "language": "julia",
   "name": "julia-1.11"
  },
  "language_info": {
   "file_extension": ".jl",
   "mimetype": "application/julia",
   "name": "julia",
   "version": "1.11.6"
  }
 },
 "nbformat": 4,
 "nbformat_minor": 5
}
