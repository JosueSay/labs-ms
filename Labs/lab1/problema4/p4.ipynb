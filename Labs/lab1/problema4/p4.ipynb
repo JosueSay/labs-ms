{
 "cells": [
  {
   "cell_type": "markdown",
   "id": "6ea6ab98",
   "metadata": {},
   "source": [
    "# Modelo de renovación urbana\n",
    "\n",
    "La ciudad de Erstville enfrenta un grave recorte de presupuesto. Buscando una solución a largo plazo para mejorar la base tributaria, el consejo de la ciudad propone la demolición de un área de viviendas dentro de la ciudad, y su reemplazo con un moderno desarrollo. El proyecto implica dos fases: (1) demolición de casas populares para obtener el terreno para el nuevo desarrollo, y (2) construcción del nuevo desarrollo. A continuación, un resumen de la situación.\n",
    "\n",
    "1. Se pueden demoler 300 casas populares. Cada casa ocupa un lote de 0.25 acres. El costo de demoler una casa es de $2000.  \n",
    "2. Los tamaños de los lotes para construir casas unifamiliares, dobles, triples y cuádruples, son de 0.18, 0.28, 0.4 y 0.5 acres, respectivamente. Las calles, los espacios abiertos y el área para la instalación de servicios, ocupan 15% del área disponible.  \n",
    "3. En el nuevo desarrollo, las unidades triples y cuádruples ocupan por lo menos 25% del total. Las unidades sencillas deben ser al menos 20% de todas las unidades, y las unidades dobles deben ocupar un mínimo de 10%.  \n",
    "4. El impuesto por unidad aplicado a las unidades sencillas, dobles, triples y cuádruples es de $1000, $1900, $2700 y $3400, respectivamente.  \n",
    "5. El costo de construcción por unidad de las casas sencillas, dobles, triples y cuádruples es de $50,000, $70,000, $130,000 y $160,000, respectivamente. El financiamiento a través de un banco local está limitado a $15 millones.\n",
    "\n",
    "**¿Cuántas unidades de cada tipo se deben construir para maximizar la recaudación de impuestos? Deberá hacer lo siguiente:**"
   ]
  },
  {
   "cell_type": "markdown",
   "id": "a9e80a3d",
   "metadata": {},
   "source": [
    "## Inciso a\n",
    "\n",
    "Formular el problema de programación lineal."
   ]
  },
  {
   "cell_type": "code",
   "execution_count": null,
   "id": "5872589d",
   "metadata": {
    "vscode": {
     "languageId": "plaintext"
    }
   },
   "outputs": [],
   "source": []
  },
  {
   "cell_type": "markdown",
   "id": "0e2e7a76",
   "metadata": {},
   "source": [
    "## Inciso b\n",
    "\n",
    "Resolver el problema usando la librería JuMP o Pulp, en variables continuas, y determinar la distribución óptima.  "
   ]
  },
  {
   "cell_type": "code",
   "execution_count": null,
   "id": "a8b82bbd",
   "metadata": {
    "vscode": {
     "languageId": "plaintext"
    }
   },
   "outputs": [],
   "source": []
  },
  {
   "cell_type": "markdown",
   "id": "e92981d9",
   "metadata": {},
   "source": [
    "## Inciso c\n",
    "\n",
    "Resolver el problema en variables enteras, y comparar la solución con la de (b). Discuta sus resultados."
   ]
  },
  {
   "cell_type": "code",
   "execution_count": null,
   "id": "db21f42d",
   "metadata": {
    "vscode": {
     "languageId": "plaintext"
    }
   },
   "outputs": [],
   "source": []
  }
 ],
 "metadata": {
  "language_info": {
   "name": "python"
  }
 },
 "nbformat": 4,
 "nbformat_minor": 5
}
