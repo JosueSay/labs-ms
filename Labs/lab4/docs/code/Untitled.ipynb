{
 "cells": [
  {
   "cell_type": "code",
   "execution_count": 1,
   "id": "59764a28-3b84-4c26-8af7-0376a27784eb",
   "metadata": {},
   "outputs": [],
   "source": [
    "import math\n",
    "from typing import List, Tuple, Union\n",
    "import numpy as np"
   ]
  },
  {
   "cell_type": "markdown",
   "id": "0f76b1d4-954d-447c-9baa-c66e5e28ab2d",
   "metadata": {},
   "source": [
    "A -- PARSING"
   ]
  },
  {
   "cell_type": "code",
   "execution_count": null,
   "id": "685d0370-b3cf-466f-b12e-4ae7f83efef9",
   "metadata": {},
   "outputs": [],
   "source": [
    "def parse_tsplib_file(filename: str) -> List[Tuple[float, float]]:\n",
    "\n",
    "    coords = []\n",
    "    dimension = None\n",
    "    edge_weight_type = None\n",
    "    in_node_section = False\n",
    "    \n",
    "    with open(filename, 'r') as file:\n",
    "        for line in file:\n",
    "            line = line.strip()\n",
    "            \n",
    "            # Saltar líneas vacías, comentarios y EOF\n",
    "            if not line or line.startswith('COMMENT') or line == 'EOF':\n",
    "                continue\n",
    "            \n",
    "            # Obtener dimensión\n",
    "            if line.startswith('DIMENSION'):\n",
    "                dimension = int(line.split(':')[1].strip())\n",
    "            \n",
    "            # Validar tipo de distancia\n",
    "            if line.startswith('EDGE_WEIGHT_TYPE'):\n",
    "                edge_weight_type = line.split(':')[1].strip()\n",
    "                if edge_weight_type != 'EUC_2D':\n",
    "                    raise ValueError(f\"Se requiere EDGE_WEIGHT_TYPE=EUC_2D, no {edge_weight_type}\")\n",
    "            \n",
    "            # Inicio de sección de coordenadas\n",
    "            if line == 'NODE_COORD_SECTION':\n",
    "                in_node_section = True\n",
    "                continue\n",
    "            \n",
    "            # Procesar coordenadas\n",
    "            if in_node_section:\n",
    "                parts = line.split()\n",
    "                if len(parts) >= 3:\n",
    "                    try:\n",
    "                        x = float(parts[1])\n",
    "                        y = float(parts[2])\n",
    "                        coords.append((x, y))\n",
    "                    except ValueError:\n",
    "                        raise ValueError(f\"Formato de coordenada inválido: {line}\")\n",
    "    \n",
    "    # Validaciones finales\n",
    "    if edge_weight_type != 'EUC_2D':\n",
    "        raise ValueError(\"El archivo debe especificar EDGE_WEIGHT_TYPE=EUC_2D\")\n",
    "    \n",
    "    if dimension is not None and len(coords) != dimension:\n",
    "        raise ValueError(f\"Dimensión especificada ({dimension}) no coincide con coordenadas leídas ({len(coords)})\")\n",
    "    \n",
    "    return coords"
   ]
  },
  {
   "cell_type": "markdown",
   "id": "ef180bfe-936b-4381-9753-e62040425c67",
   "metadata": {},
   "source": [
    "B -- DISTANCIAS"
   ]
  },
  {
   "cell_type": "code",
   "execution_count": null,
   "id": "6dd39235-d5da-49f4-85d7-f5355c70cde4",
   "metadata": {},
   "outputs": [],
   "source": [
    "def calcular_matriz_distancias(coords: List[Tuple[float, float]]) -> np.ndarray:\n",
    "    n = len(coords)\n",
    "    D = np.zeros((n, n), dtype=int)\n",
    "    \n",
    "    for i in range(n):\n",
    "        xi, yi = coords[i]\n",
    "        for j in range(i + 1, n):\n",
    "            xj, yj = coords[j]\n",
    "            dx = xi - xj\n",
    "            dy = yi - yj\n",
    "            distancia = math.sqrt(dx*dx + dy*dy)\n",
    "            distancia_redondeada = int(math.floor(distancia + 0.5))\n",
    "            D[i, j] = distancia_redondeada\n",
    "            D[j, i] = distancia_redondeada\n",
    "    \n",
    "    return D"
   ]
  },
  {
   "cell_type": "markdown",
   "id": "74675a4e-e48d-466b-ba59-bdd1a4383a65",
   "metadata": {},
   "source": [
    "C -- REPRESEMTACION"
   ]
  },
  {
   "cell_type": "code",
   "execution_count": null,
   "id": "6f5595aa-d0c6-4d21-a507-39318c48311d",
   "metadata": {},
   "outputs": [],
   "source": [
    "def crear_permutacion_aleatoria(n: int) -> List[int]:\n",
    "    permutacion = list(range(n))\n",
    "    np.random.shuffle(permutacion)\n",
    "    return permutacion\n",
    "\n",
    "def validar_permutacion(permutacion: List[int], n: int) -> bool: #con n elementos\n",
    "    if len(permutacion) != n:\n",
    "        return False\n",
    "    return sorted(permutacion) == list(range(n))"
   ]
  },
  {
   "cell_type": "markdown",
   "id": "5ebd3ecf-12fb-4c23-be8f-818e613f4e9d",
   "metadata": {},
   "source": [
    "D -- FITNESS"
   ]
  },
  {
   "cell_type": "code",
   "execution_count": null,
   "id": "dbd791aa-2cfc-40a9-8834-41b3a8f50595",
   "metadata": {},
   "outputs": [],
   "source": [
    "def calcular_costo_tour(permutacion: List[int], D: np.ndarray) -> int:\n",
    "    n = len(permutacion)\n",
    "    costo = 0\n",
    "    \n",
    "    for k in range(n - 1):\n",
    "        i = permutacion[k]\n",
    "        j = permutacion[k + 1]\n",
    "        costo += D[i, j]\n",
    "   \n",
    "    costo += D[permutacion[-1], permutacion[0]]\n",
    "    return costo\n",
    "\n",
    "def calcular_fitness(permutacion: List[int], D: np.ndarray, epsilon: float = 1.0) -> float:\n",
    "    costo = calcular_costo_tour(permutacion, D)\n",
    "    return 1.0 / (epsilon + costo)"
   ]
  }
 ],
 "metadata": {
  "kernelspec": {
   "display_name": "Python 3 (ipykernel)",
   "language": "python",
   "name": "python3"
  },
  "language_info": {
   "codemirror_mode": {
    "name": "ipython",
    "version": 3
   },
   "file_extension": ".py",
   "mimetype": "text/x-python",
   "name": "python",
   "nbconvert_exporter": "python",
   "pygments_lexer": "ipython3",
   "version": "3.12.7"
  }
 },
 "nbformat": 4,
 "nbformat_minor": 5
}
