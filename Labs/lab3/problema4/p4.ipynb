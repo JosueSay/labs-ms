{
 "cells": [
  {
   "cell_type": "markdown",
   "id": "563b19d4",
   "metadata": {},
   "source": [
    "# Problema 4\n",
    "\n",
    "Considere el siguiente conjunto de datos que se incluye en el archivo **datos_lab3.csv**. Estos datos corresponden a una serie de tiempo.\n",
    "\n",
    "Se quiere realizar un modelo de regresión de la forma\n",
    "\n",
    "$$\n",
    "y = \\beta_0 + \\beta_1 x + \\beta_2 x^2 + \\beta_3 \\sin(7x) + \\beta_4 \\sin(13x),\n",
    "$$\n",
    "\n",
    "que explique la relación entre las variables $x$ y $y$.\n",
    "\n",
    "Para ello, vamos a formular un problema de optimización en la variable vectorial\n",
    "\n",
    "$$\n",
    "\\beta = (\\beta_0, \\beta_1, \\beta_2, \\beta_3, \\beta_4) \\in \\mathbb{R}^5.\n",
    "$$\n",
    "\n",
    "Hallar el modelo de regresión corresponde a hallar el vector $\\beta$ que minimiza la función de error regularizada\n",
    "\n",
    "$$\n",
    "E_\\lambda(\\beta) = \\sum_{i=1}^{n} \\left( f(x_i) - y_i \\right)^2 + \\lambda \\sum_{i=1}^{n-1} \\left( f(x_{i+1}) - f(x_i) \\right)^2.\n",
    "$$\n",
    "\n",
    "Implementar en Python un algoritmo de optimización para resolver el problema de regresión en los siguientes 3 casos:"
   ]
  },
  {
   "cell_type": "markdown",
   "id": "e243e2cb",
   "metadata": {},
   "source": [
    "## Inciso a\n",
    "\n",
    "Cuando $\\lambda = 0$, regresión lineal sin regularización."
   ]
  },
  {
   "cell_type": "code",
   "execution_count": null,
   "id": "25347f0a",
   "metadata": {
    "vscode": {
     "languageId": "plaintext"
    }
   },
   "outputs": [],
   "source": []
  },
  {
   "cell_type": "markdown",
   "id": "a60e3d1b",
   "metadata": {},
   "source": [
    "\n",
    "## Inciso b\n",
    "\n",
    "Cuando $\\lambda = 100$, regresión lineal con regularización de Tychonoff."
   ]
  },
  {
   "cell_type": "code",
   "execution_count": null,
   "id": "252c34d5",
   "metadata": {
    "vscode": {
     "languageId": "plaintext"
    }
   },
   "outputs": [],
   "source": []
  },
  {
   "cell_type": "markdown",
   "id": "a72c544e",
   "metadata": {},
   "source": [
    "## Inciso c\n",
    "\n",
    "Cuando $\\lambda = 500$."
   ]
  },
  {
   "cell_type": "code",
   "execution_count": null,
   "id": "a3787443",
   "metadata": {
    "vscode": {
     "languageId": "plaintext"
    }
   },
   "outputs": [],
   "source": []
  },
  {
   "cell_type": "markdown",
   "id": "ab1c03d4",
   "metadata": {},
   "source": [
    "Compare las tres soluciones obtenidas en la misma gráfica, junto con los datos originales. Discuta las soluciones obtenidas y sus resultados. Explique cuál es el papel de la constante $\\lambda$."
   ]
  }
 ],
 "metadata": {
  "language_info": {
   "name": "python"
  }
 },
 "nbformat": 4,
 "nbformat_minor": 5
}
