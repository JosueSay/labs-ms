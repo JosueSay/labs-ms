{
 "cells": [
  {
   "cell_type": "markdown",
   "id": "aaf0fa20",
   "metadata": {},
   "source": [
    "# Problema 8\n",
    "\n",
    "Implementar en Python un algoritmo para hallar los ceros de una función diferenciable $F : \\mathbb{R}^n \\rightarrow \\mathbb{R}^n$ usando el método de Newton multidimensional. Aquí\n",
    "\n",
    "$$\n",
    "\\mathbf{x} =\n",
    "\\begin{pmatrix}\n",
    "x_1 \\\\\n",
    "x_2 \\\\\n",
    "\\vdots \\\\\n",
    "x_n\n",
    "\\end{pmatrix}\n",
    "\\quad \\text{y} \\quad\n",
    "F(\\mathbf{x}) =\n",
    "\\begin{pmatrix}\n",
    "f_1(x_1, x_2, \\ldots, x_n) \\\\\n",
    "f_2(x_1, x_2, \\ldots, x_n) \\\\\n",
    "\\vdots \\\\\n",
    "f_n(x_1, x_2, \\ldots, x_n)\n",
    "\\end{pmatrix}\n",
    "$$\n",
    "\n",
    "Como parámetros su algoritmo debe recibir la función $f$, la derivada $Df$, el punto inicial de búsqueda $x_0 \\in \\mathbb{R}^n$. Así como los criterios de paro `maxIter` y `tol > 0`.\n",
    "Para la salida, su función debe devolver la lista de aproximaciones realizadas y el valor de punto $x^* \\in \\mathbb{R}^n$ donde está el cero.\n",
    "\n",
    "Con su implementación, resolver el siguiente sistema de ecuaciones con 7 cifras decimales de precisión:\n",
    "\n",
    "$$\n",
    "3x - \\cos(yz) - \\frac{1}{2} = 0,\n",
    "$$\n",
    "\n",
    "$$\n",
    "x^2 - 81(y + 0.1)^2 + \\sin z + 1.06 = 0,\n",
    "$$\n",
    "\n",
    "$$\n",
    "e^{-xy} + 20z + \\frac{10\\pi - 3}{3} = 0.\n",
    "$$"
   ]
  },
  {
   "cell_type": "code",
   "execution_count": 2,
   "id": "854f6515",
   "metadata": {
    "vscode": {
     "languageId": "plaintext"
    }
   },
   "outputs": [],
   "source": [
    "import numpy as np\n",
    "import math\n",
    "#DF = derivada\n"
   ]
  },
  {
   "cell_type": "code",
   "execution_count": 26,
   "id": "d33866f8-983a-496c-befd-2e7a8ab3e48e",
   "metadata": {},
   "outputs": [],
   "source": [
    "#Metodo newton\n",
    "def newton(F, DF, x0, tol = 1e-7, maxIter = 100):\n",
    "    x = x0.copy()\n",
    "    xn = [x0.copy()]\n",
    "\n",
    "    for k in range(maxIter):\n",
    "        Fx = F(x)\n",
    "        DFx = DF(x)\n",
    "\n",
    "        delta = np.linalg.solve(DFx, -Fx)\n",
    "        x += delta\n",
    "\n",
    "        xn.append(x.copy())\n",
    "\n",
    "        #criterio de paro\n",
    "        if np.linalg.norm(delta) < tol:\n",
    "            break\n",
    "    return xn, x\n",
    "\n",
    "def F(x):\n",
    "    x1, y, z = x  #variables x (x1), y, z\n",
    "    return np.array([\n",
    "        3*x1 - math.cos(y*z) - 0.5,\n",
    "        x1**2 - 81*(y+0.1)**2 + math.sin(z) + 1.06,\n",
    "        math.exp(-x1*y) + 20*z + (10*math.pi-3)/3\n",
    "    ])\n",
    "def DF(x):\n",
    "    x1, y, z = x\n",
    "    #sistema (derivados) en la matriz\n",
    "    return np.array([\n",
    "        [3, z*math.sin(y*z), y*math.sin(y*z)],\n",
    "        [2*x1, -162*(y+0.1), math.cos(z)],\n",
    "        [-y*math.exp(-x1*y), -x1*math.exp(-x1*y), 20]\n",
    "    ])\n",
    "\n",
    "#solucion\n",
    "x0 = np.array([0.1, 0.1, -0.1]) #punto inicial\n",
    "xn, solution = newton(F, DF, x0, tol = 1e-7)"
   ]
  },
  {
   "cell_type": "code",
   "execution_count": 28,
   "id": "e920edf3-19b6-4e7c-8b81-25ddd517f7dd",
   "metadata": {},
   "outputs": [
    {
     "name": "stdout",
     "output_type": "stream",
     "text": [
      "Solucion:  (array([ 5.00000000e-01,  3.35521889e-18, -5.23598776e-01]), 7)\n",
      "No. Iteraciones:  5\n"
     ]
    }
   ],
   "source": [
    "print(\"Solucion: \", (solution, 7))\n",
    "print(\"No. Iteraciones: \", len(xn)-1)"
   ]
  },
  {
   "cell_type": "code",
   "execution_count": null,
   "id": "f1ae63b2-d565-4657-b36d-93c26e7a6f0e",
   "metadata": {},
   "outputs": [],
   "source": []
  }
 ],
 "metadata": {
  "kernelspec": {
   "display_name": "Python 3 (ipykernel)",
   "language": "python",
   "name": "python3"
  },
  "language_info": {
   "codemirror_mode": {
    "name": "ipython",
    "version": 3
   },
   "file_extension": ".py",
   "mimetype": "text/x-python",
   "name": "python",
   "nbconvert_exporter": "python",
   "pygments_lexer": "ipython3",
   "version": "3.12.7"
  }
 },
 "nbformat": 4,
 "nbformat_minor": 5
}
