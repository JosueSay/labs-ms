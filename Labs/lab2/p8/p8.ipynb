{
 "cells": [
  {
   "cell_type": "markdown",
   "id": "aaf0fa20",
   "metadata": {},
   "source": [
    "# Problema 8\n",
    "\n",
    "Implementar en Python un algoritmo para hallar los ceros de una función diferenciable $F : \\mathbb{R}^n \\rightarrow \\mathbb{R}^n$ usando el método de Newton multidimensional. Aquí\n",
    "\n",
    "$$\n",
    "\\mathbf{x} =\n",
    "\\begin{pmatrix}\n",
    "x_1 \\\\\n",
    "x_2 \\\\\n",
    "\\vdots \\\\\n",
    "x_n\n",
    "\\end{pmatrix}\n",
    "\\quad \\text{y} \\quad\n",
    "F(\\mathbf{x}) =\n",
    "\\begin{pmatrix}\n",
    "f_1(x_1, x_2, \\ldots, x_n) \\\\\n",
    "f_2(x_1, x_2, \\ldots, x_n) \\\\\n",
    "\\vdots \\\\\n",
    "f_n(x_1, x_2, \\ldots, x_n)\n",
    "\\end{pmatrix}\n",
    "$$\n",
    "\n",
    "Como parámetros su algoritmo debe recibir la función $f$, la derivada $Df$, el punto inicial de búsqueda $x_0 \\in \\mathbb{R}^n$. Así como los criterios de paro `maxIter` y `tol > 0`.\n",
    "Para la salida, su función debe devolver la lista de aproximaciones realizadas y el valor de punto $x^* \\in \\mathbb{R}^n$ donde está el cero.\n",
    "\n",
    "Con su implementación, resolver el siguiente sistema de ecuaciones con 7 cifras decimales de precisión:\n",
    "\n",
    "$$\n",
    "3x - \\cos(yz) - \\frac{1}{2} = 0,\n",
    "$$\n",
    "\n",
    "$$\n",
    "x^2 - 81(y + 0.1)^2 + \\sin z + 1.06 = 0,\n",
    "$$\n",
    "\n",
    "$$\n",
    "e^{-xy} + 20z + \\frac{10\\pi - 3}{3} = 0.\n",
    "$$"
   ]
  },
  {
   "cell_type": "code",
   "execution_count": null,
   "id": "854f6515",
   "metadata": {
    "vscode": {
     "languageId": "plaintext"
    }
   },
   "outputs": [],
   "source": []
  }
 ],
 "metadata": {
  "language_info": {
   "name": "python"
  }
 },
 "nbformat": 4,
 "nbformat_minor": 5
}
