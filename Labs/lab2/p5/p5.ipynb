{
 "cells": [
  {
   "cell_type": "markdown",
   "id": "a87c44fb",
   "metadata": {},
   "source": [
    "# Problema 5 \n",
    "\n",
    "Hallar todos los ceros de la función\n",
    "\n",
    "$$\n",
    "g(x) = x^2 + \\frac{1}{x - 7}\n",
    "$$\n",
    "\n",
    "con al menos **7 decimales de precisión**.\n",
    "\n",
    "Compare las soluciones obtenidas con cada uno de los algoritmos anteriores en términos del número de iteraciones."
   ]
  },
  {
   "cell_type": "code",
   "execution_count": null,
   "id": "7bfbe750",
   "metadata": {
    "vscode": {
     "languageId": "plaintext"
    }
   },
   "outputs": [],
   "source": []
  },
  {
   "cell_type": "code",
   "execution_count": null,
   "id": "57b48548",
   "metadata": {
    "vscode": {
     "languageId": "plaintext"
    }
   },
   "outputs": [],
   "source": []
  },
  {
   "cell_type": "code",
   "execution_count": null,
   "id": "f6e84c7b",
   "metadata": {
    "vscode": {
     "languageId": "plaintext"
    }
   },
   "outputs": [],
   "source": []
  },
  {
   "cell_type": "code",
   "execution_count": null,
   "id": "cc109988",
   "metadata": {
    "vscode": {
     "languageId": "plaintext"
    }
   },
   "outputs": [],
   "source": []
  },
  {
   "cell_type": "code",
   "execution_count": null,
   "id": "0a358524",
   "metadata": {
    "vscode": {
     "languageId": "plaintext"
    }
   },
   "outputs": [],
   "source": []
  }
 ],
 "metadata": {
  "language_info": {
   "name": "python"
  }
 },
 "nbformat": 4,
 "nbformat_minor": 5
}
