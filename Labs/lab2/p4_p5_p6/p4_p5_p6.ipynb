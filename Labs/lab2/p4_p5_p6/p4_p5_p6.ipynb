{
 "cells": [
  {
   "cell_type": "markdown",
   "id": "02b6db78",
   "metadata": {},
   "source": [
    "# Problema 4"
   ]
  },
  {
   "cell_type": "markdown",
   "id": "902b0224",
   "metadata": {},
   "source": [
    "Implementar en Python los tres algoritmos vistos en clase para hallar los ceros de una función $f : [a, b] \\rightarrow \\mathbb{R}$\n",
    "\n",
    "- método de bisección\n",
    "- método de la secante\n",
    "- método de Newton-Raphson\n",
    "\n",
    "Como parámetros, sus algoritmos deben recibir la función $f$, la derivada $df$ (en el caso de Newton), el intervalo $[a, b]$ o el punto inicial de búsqueda $x_0 \\in \\mathbb{R}$. Así como los criterios de paro `maxIter` y `tol > 0`.\n",
    "\n",
    "Para la salida, sus funciones deben devolver la lista de aproximaciones realizadas y el valor de punto $x^*$ donde se encontró el cero."
   ]
  },
  {
   "cell_type": "markdown",
   "id": "1139e231",
   "metadata": {},
   "source": [
    "## Méotodo de bisección"
   ]
  },
  {
   "cell_type": "code",
   "execution_count": 1,
   "id": "374a6c5f",
   "metadata": {},
   "outputs": [],
   "source": [
    "def bisectionMethod(f, a, b, maxIter=100, tol=1e-7, verbose=False):\n",
    "    approximations = []\n",
    "    try:\n",
    "        fa = f(a)\n",
    "        fb = f(b)\n",
    "\n",
    "        # Validación f(a) y f(b) deben tener signos opuestos\n",
    "        if fa * fb >= 0:\n",
    "            raise ValueError(\"La función no cambia de signo en el intervalo dado.\")\n",
    "\n",
    "        for i in range(maxIter):\n",
    "            # Ecuación de actualización: punto medio del intervalo\n",
    "            c = (a + b) / 2\n",
    "            fc = f(c)\n",
    "            approximations.append(c)\n",
    "\n",
    "            if verbose:\n",
    "                print(f\"Iteración {i+1}:\")\n",
    "                print(f\"\\ta = {a}, f(a) = {fa}\")\n",
    "                print(f\"\\tb = {b}, f(b) = {fb}\")\n",
    "                print(f\"\\tc = {c}, f(c) = {fc}\")\n",
    "                print(f\"\\tError estimado: {abs(b - a) / 2}\\n\")\n",
    "\n",
    "            # Criterio de paro: Detener si el tamaño del intervalo es menor que la tolerancia\n",
    "            if abs(b - a) < tol:\n",
    "                return {\n",
    "                    \"converged\": True,\n",
    "                    \"root\": c,\n",
    "                    \"fAtRoot\": fc,\n",
    "                    \"iterations\": i + 1,\n",
    "                    \"approximations\": approximations,\n",
    "                    \"error\": abs(b - a) / 2,\n",
    "                    \"message\": \"Convergencia alcanzada\"\n",
    "                }\n",
    "\n",
    "            # Actualización del intervalo: Si f(a) y f(c) tienen signos opuestos, la raíz está en [a, c]\n",
    "            if fa * fc < 0:\n",
    "                b = c\n",
    "                fb = fc\n",
    "            else:\n",
    "                a = c\n",
    "                fa = fc\n",
    "\n",
    "        return {\n",
    "            \"converged\": False,\n",
    "            \"root\": c,\n",
    "            \"fAtRoot\": fc,\n",
    "            \"iterations\": maxIter,\n",
    "            \"approximations\": approximations,\n",
    "            \"error\": abs(b - a) / 2,\n",
    "            \"message\": \"Máximo número de iteraciones alcanzado sin convergencia\"\n",
    "        }\n",
    "\n",
    "    except Exception as e:\n",
    "        return {\n",
    "            \"converged\": False,\n",
    "            \"root\": None,\n",
    "            \"fAtRoot\": None,\n",
    "            \"iterations\": 0,\n",
    "            \"approximations\": approximations,\n",
    "            \"error\": None,\n",
    "            \"message\": f\"Error: {str(e)}\"\n",
    "        }"
   ]
  },
  {
   "cell_type": "markdown",
   "id": "6afa5e49",
   "metadata": {},
   "source": [
    "## Método de la secante"
   ]
  },
  {
   "cell_type": "code",
   "execution_count": 2,
   "id": "0df2e804",
   "metadata": {},
   "outputs": [],
   "source": [
    "def secantMethod(f, x0, x1, maxIter=100, tol=1e-7, verbose=False):\n",
    "    approximations = [x0, x1]\n",
    "    try:\n",
    "        for i in range(2, maxIter + 2):\n",
    "            fx0 = f(x0)\n",
    "            fx1 = f(x1)\n",
    "\n",
    "            # Validación: asegurar que no se divida por cero\n",
    "            if fx1 == fx0:\n",
    "                raise ZeroDivisionError(\"f(x1) - f(x0) = 0: pendiente de la secante indefinida.\")\n",
    "\n",
    "            # Fórmula iterativa (función de actualización):\n",
    "            # x_{k+1} = (x_{k-1} * f(x_k) - x_k * f(x_{k-1})) / (f(x_k) - f(x_{k-1}))\n",
    "            x2 = (x0 * fx1 - x1 * fx0) / (fx1 - fx0)\n",
    "            approximations.append(x2)\n",
    "\n",
    "            if verbose:\n",
    "                print(f\"Iteración {i}:\")\n",
    "                print(f\"\\tx0 = {x0}, f(x0) = {fx0}\")\n",
    "                print(f\"\\tx1 = {x1}, f(x1) = {fx1}\")\n",
    "                print(f\"\\tx2 = {x2}, f(x2) = {f(x2)}\")\n",
    "                print(f\"\\tError estimado: {abs(x2 - x1)}\\n\")\n",
    "\n",
    "            # Criterio de paro: si el cambio entre iteraciones es menor que la tolerancia\n",
    "            if abs(x2 - x1) < tol:\n",
    "                return {\n",
    "                    \"converged\": True,\n",
    "                    \"root\": x2,\n",
    "                    \"fAtRoot\": f(x2),\n",
    "                    \"iterations\": i,\n",
    "                    \"approximations\": approximations,\n",
    "                    \"error\": abs(x2 - x1),\n",
    "                    \"message\": \"Convergencia alcanzada\"\n",
    "                }\n",
    "\n",
    "            # Actualización de puntos: avanzar a la siguiente iteración\n",
    "            x0, x1 = x1, x2\n",
    "\n",
    "        # Si se alcanza el número máximo de iteraciones sin cumplir el criterio de paro\n",
    "        return {\n",
    "            \"converged\": False,\n",
    "            \"root\": x2,\n",
    "            \"fAtRoot\": f(x2),\n",
    "            \"iterations\": maxIter,\n",
    "            \"approximations\": approximations,\n",
    "            \"error\": abs(x2 - x1),\n",
    "            \"message\": \"Máximo número de iteraciones alcanzado sin convergencia\"\n",
    "        }\n",
    "\n",
    "    except Exception as e:\n",
    "        return {\n",
    "            \"converged\": False,\n",
    "            \"root\": None,\n",
    "            \"fAtRoot\": None,\n",
    "            \"iterations\": 0,\n",
    "            \"approximations\": approximations,\n",
    "            \"error\": None,\n",
    "            \"message\": f\"Error: {str(e)}\"\n",
    "        }"
   ]
  },
  {
   "cell_type": "markdown",
   "id": "4de0117b",
   "metadata": {},
   "source": [
    "## Método de Newxton-Raphson"
   ]
  },
  {
   "cell_type": "code",
   "execution_count": 3,
   "id": "7ecb37ec",
   "metadata": {},
   "outputs": [],
   "source": [
    "def newtonRaphsonMethod(f, df, x0, maxIter=100, tol=1e-7, verbose=False):\n",
    "    approximations = [x0]\n",
    "    try:\n",
    "        for i in range(maxIter):\n",
    "            fx = f(x0)\n",
    "            dfx = df(x0)\n",
    "\n",
    "            # Validación: función derivable f'(x_k) != 0\n",
    "            if dfx == 0:\n",
    "                raise ZeroDivisionError(\"Derivada igual a cero, no se puede continuar.\")\n",
    "\n",
    "            # Ecuación de actualización: x_{k+1} = x_k - f(x_k) / f'(x_k)\n",
    "            x1 = x0 - fx / dfx\n",
    "            approximations.append(x1)\n",
    "\n",
    "            if verbose:\n",
    "                print(f\"Iteración {i+1}:\")\n",
    "                print(f\"\\tx0 = {x0}, f(x0) = {fx}, f'(x0) = {dfx}\")\n",
    "                print(f\"\\tx1 = {x1}, f(x1) = {f(x1)}\")\n",
    "                print(f\"\\tError estimado: {abs(x1 - x0)}\\n\")\n",
    "\n",
    "            # Criterio de paro: Si la diferencia entre iteraciones es menor que la tolerancia\n",
    "            if abs(x1 - x0) < tol:\n",
    "                return {\n",
    "                    \"converged\": True,\n",
    "                    \"root\": x1,\n",
    "                    \"fAtRoot\": f(x1),\n",
    "                    \"iterations\": i + 1,\n",
    "                    \"approximations\": approximations,\n",
    "                    \"error\": abs(x1 - x0),\n",
    "                    \"message\": \"Convergencia alcanzada\"\n",
    "                }\n",
    "\n",
    "            # Actualización para la siguiente iteración\n",
    "            x0 = x1\n",
    "\n",
    "        return {\n",
    "            \"converged\": False,\n",
    "            \"root\": x1,\n",
    "            \"fAtRoot\": f(x1),\n",
    "            \"iterations\": maxIter,\n",
    "            \"approximations\": approximations,\n",
    "            \"error\": abs(x1 - x0),\n",
    "            \"message\": \"Máximo número de iteraciones alcanzado sin convergencia\"\n",
    "        }\n",
    "\n",
    "    except Exception as e:\n",
    "        return {\n",
    "            \"converged\": False,\n",
    "            \"root\": None,\n",
    "            \"fAtRoot\": None,\n",
    "            \"iterations\": 0,\n",
    "            \"approximations\": approximations,\n",
    "            \"error\": None,\n",
    "            \"message\": f\"Error: {str(e)}\"\n",
    "        }"
   ]
  },
  {
   "cell_type": "markdown",
   "id": "862a3a94",
   "metadata": {},
   "source": [
    "## Testeando funciones"
   ]
  },
  {
   "cell_type": "code",
   "execution_count": 4,
   "id": "0346ecc8",
   "metadata": {},
   "outputs": [],
   "source": [
    "def f1(x):\n",
    "    return x**2 + 1  # Nunca cruza el eje x no tiene raices\n",
    "\n",
    "def f2(x):\n",
    "    return x**2 - 4  # Raíces reales: x = ±2\n",
    "\n",
    "def f3(x):\n",
    "    return x**3 - 2*x + 2  # Tiene una raíz real"
   ]
  },
  {
   "cell_type": "code",
   "execution_count": 5,
   "id": "fb027d73",
   "metadata": {},
   "outputs": [],
   "source": [
    "def df1(x):\n",
    "    return 2*x\n",
    "\n",
    "def df2(x):\n",
    "    return 2*x\n",
    "\n",
    "def df3(x):\n",
    "    return 3*x**2 - 2"
   ]
  },
  {
   "cell_type": "code",
   "execution_count": 6,
   "id": "897d94ba",
   "metadata": {},
   "outputs": [
    {
     "name": "stdout",
     "output_type": "stream",
     "text": [
      "Método de bisección con f1 (fallo esperado):\n",
      "{'converged': False, 'root': None, 'fAtRoot': None, 'iterations': 0, 'approximations': [], 'error': None, 'message': 'Error: La función no cambia de signo en el intervalo dado.'}\n",
      "Método de secante con f1 (posible fallo):\n",
      "{'converged': False, 'root': None, 'fAtRoot': None, 'iterations': 0, 'approximations': [-1, 1], 'error': None, 'message': 'Error: f(x1) - f(x0) = 0: pendiente de la secante indefinida.'}\n",
      "Newton-Raphson con f1 (fallo esperado):\n",
      "{'converged': False, 'root': None, 'fAtRoot': None, 'iterations': 0, 'approximations': [1, 0.0], 'error': None, 'message': 'Error: Derivada igual a cero, no se puede continuar.'}\n"
     ]
    }
   ],
   "source": [
    "# f1: no tiene raíces reales, prueba para ver fallos\n",
    "print(\"Método de bisección con f1 (fallo esperado):\")\n",
    "print(bisectionMethod(f=f1, a=-2, b=2, maxIter=100, tol=1e-7, verbose=False))\n",
    "\n",
    "print(\"Método de secante con f1 (posible fallo):\")\n",
    "print(secantMethod(f=f1, x0=-1, x1=1, maxIter=100, tol=1e-7, verbose=False))\n",
    "\n",
    "print(\"Newton-Raphson con f1 (fallo esperado):\")\n",
    "print(newtonRaphsonMethod(f1, df1, x0=1, maxIter=100, tol=1e-7, verbose=False))"
   ]
  },
  {
   "cell_type": "code",
   "execution_count": 7,
   "id": "080a39f2",
   "metadata": {},
   "outputs": [
    {
     "name": "stdout",
     "output_type": "stream",
     "text": [
      "\n",
      "Método de bisección con f2 (convergencia esperada):\n",
      "{'converged': True, 'root': 2.000000014901161, 'fAtRoot': 5.960464477539063e-08, 'iterations': 26, 'approximations': [1.5, 2.25, 1.875, 2.0625, 1.96875, 2.015625, 1.9921875, 2.00390625, 1.998046875, 2.0009765625, 1.99951171875, 2.000244140625, 1.9998779296875, 2.00006103515625, 1.999969482421875, 2.0000152587890625, 1.9999923706054688, 2.0000038146972656, 1.9999980926513672, 2.0000009536743164, 1.9999995231628418, 2.000000238418579, 1.9999998807907104, 2.0000000596046448, 1.9999999701976776, 2.000000014901161], 'error': 4.470348358154297e-08, 'message': 'Convergencia alcanzada'}\n",
      "Método de secante con f2:\n",
      "{'converged': True, 'root': 2.0000000000004996, 'fAtRoot': 1.9984014443252818e-12, 'iterations': 7, 'approximations': [1, 3, 1.75, 1.9473684210526316, 2.00355871886121, 1.9999525931544515, 1.9999999578600829, 2.0000000000004996], 'error': 4.2140416711689e-08, 'message': 'Convergencia alcanzada'}\n",
      "Newton-Raphson con f2:\n",
      "{'converged': True, 'root': 2.0, 'fAtRoot': 0.0, 'iterations': 5, 'approximations': [3, 2.1666666666666665, 2.0064102564102564, 2.0000102400262145, 2.000000000026214, 2.0], 'error': 2.6214141968239346e-11, 'message': 'Convergencia alcanzada'}\n"
     ]
    }
   ],
   "source": [
    "# f2: tiene raíces ±2\n",
    "print(\"\\nMétodo de bisección con f2 (convergencia esperada):\")\n",
    "print(bisectionMethod(f=f2, a=0, b=3, maxIter=100, tol=1e-7, verbose=False))\n",
    "\n",
    "print(\"Método de secante con f2:\")\n",
    "print(secantMethod(f=f2, x0=1, x1=3, maxIter=100, tol=1e-7, verbose=False))\n",
    "\n",
    "print(\"Newton-Raphson con f2:\")\n",
    "print(newtonRaphsonMethod(f=f2, df=df2, x0=3, maxIter=100, tol=1e-7, verbose=False))"
   ]
  },
  {
   "cell_type": "code",
   "execution_count": 8,
   "id": "ea955695",
   "metadata": {},
   "outputs": [
    {
     "name": "stdout",
     "output_type": "stream",
     "text": [
      "\n",
      "Método de bisección con f3:\n",
      "{'converged': True, 'root': -1.7692923247814178, 'fAtRoot': 2.1772374925177473e-07, 'iterations': 25, 'approximations': [-1.5, -1.75, -1.875, -1.8125, -1.78125, -1.765625, -1.7734375, -1.76953125, -1.767578125, -1.7685546875, -1.76904296875, -1.769287109375, -1.7694091796875, -1.76934814453125, -1.769317626953125, -1.7693023681640625, -1.7692947387695312, -1.7692909240722656, -1.7692928314208984, -1.769291877746582, -1.7692923545837402, -1.7692921161651611, -1.7692922353744507, -1.7692922949790955, -1.7692923247814178], 'error': 2.9802322387695312e-08, 'message': 'Convergencia alcanzada'}\n",
      "Método de secante con f3:\n",
      "{'converged': True, 'root': -1.7692923542364174, 'fAtRoot': 1.6364243293764957e-11, 'iterations': 8, 'approximations': [-2, -1, -1.6, -1.9493670886075949, -1.7476129346292875, -1.766709123661286, -1.7693330950556518, -1.7692922785579857, -1.7692923542364174], 'error': 7.567843174349775e-08, 'message': 'Convergencia alcanzada'}\n",
      "Newton-Raphson con f3:\n",
      "{'converged': True, 'root': -1.7692923542386314, 'fAtRoot': 0.0, 'iterations': 8, 'approximations': [-1, -4.0, -2.8260869565217392, -2.1467190137392356, -1.8423262771400926, -1.7728476364392378, -1.7693013974364495, -1.7692923542973595, -1.7692923542386314], 'error': 5.872813346741168e-11, 'message': 'Convergencia alcanzada'}\n"
     ]
    }
   ],
   "source": [
    "# f3: raíz real, pero sensible al punto inicial\n",
    "print(\"\\nMétodo de bisección con f3:\")\n",
    "print(bisectionMethod(f=f3, a=-2, b=-1, maxIter=100, tol=1e-7, verbose=False))\n",
    "\n",
    "print(\"Método de secante con f3:\")\n",
    "print(secantMethod(f=f3, x0=-2, x1=-1, maxIter=100, tol=1e-7, verbose=False))\n",
    "\n",
    "print(\"Newton-Raphson con f3:\")\n",
    "print(newtonRaphsonMethod(f=f3, df=df3, x0=-1, maxIter=100, tol=1e-7, verbose=False))"
   ]
  },
  {
   "cell_type": "markdown",
   "id": "989c28bf",
   "metadata": {},
   "source": [
    "# Problema 5 \n",
    "\n",
    "Hallar todos los ceros de la función\n",
    "\n",
    "$$\n",
    "g(x) = x^2 + \\frac{1}{x - 7}\n",
    "$$\n",
    "\n",
    "con al menos **7 decimales de precisión**.\n",
    "\n",
    "Compare las soluciones obtenidas con cada uno de los algoritmos anteriores en términos del número de iteraciones."
   ]
  },
  {
   "cell_type": "markdown",
   "id": "5a8ed26b",
   "metadata": {},
   "source": [
    "## Método de bisección"
   ]
  },
  {
   "cell_type": "code",
   "execution_count": 19,
   "id": "9c373921",
   "metadata": {},
   "outputs": [],
   "source": [
    "def g_p5(x):\n",
    "    return x**2 + 1 / (x - 7)\n",
    "\n",
    "def dg_p5(x):\n",
    "    return 2 * x - 1 / (x - 7)**2"
   ]
  },
  {
   "cell_type": "code",
   "execution_count": 24,
   "id": "53a5f952",
   "metadata": {},
   "outputs": [
    {
     "name": "stdout",
     "output_type": "stream",
     "text": [
      "\n",
      "Método de bisección con g_p5:\n",
      "{'converged': True, 'root': -0.36839485401287675, 'fAtRoot': 2.113841324202781e-10, 'iterations': 32, 'approximations': [-1.0, -0.5, -0.25, -0.375, -0.3125, -0.34375, -0.359375, -0.3671875, -0.37109375, -0.369140625, -0.3681640625, -0.36865234375, -0.368408203125, -0.3682861328125, -0.36834716796875, -0.368377685546875, -0.3683929443359375, -0.36840057373046875, -0.3683967590332031, -0.3683948516845703, -0.3683958053588867, -0.3683953285217285, -0.3683950901031494, -0.36839497089385986, -0.3683949112892151, -0.3683948814868927, -0.3683948665857315, -0.3683948591351509, -0.3683948554098606, -0.36839485354721546, -0.36839485447853804, -0.36839485401287675], 'error': 4.656612873077393e-10, 'message': 'Convergencia alcanzada'}\n",
      "{'converged': True, 'root': 0.38892324501648545, 'fAtRoot': 2.491162276463399e-10, 'iterations': 32, 'approximations': [1.0, 0.5, 0.25, 0.375, 0.4375, 0.40625, 0.390625, 0.3828125, 0.38671875, 0.388671875, 0.3896484375, 0.38916015625, 0.388916015625, 0.3890380859375, 0.38897705078125, 0.388946533203125, 0.3889312744140625, 0.38892364501953125, 0.3889198303222656, 0.38892173767089844, 0.38892269134521484, 0.38892316818237305, 0.38892340660095215, 0.3889232873916626, 0.3889232277870178, 0.3889232575893402, 0.388923242688179, 0.3889232501387596, 0.3889232464134693, 0.38892324455082417, 0.38892324548214674, 0.38892324501648545], 'error': 4.656612873077393e-10, 'message': 'Convergencia alcanzada'}\n",
      "{'converged': True, 'root': 6.979471608847382, 'fAtRoot': 4.696244246815695e-07, 'iterations': 30, 'approximations': [6.74, 6.86, 6.92, 6.95, 6.965, 6.9725, 6.97625, 6.978125, 6.9790625, 6.979531250000001, 6.979296875000001, 6.979414062500001, 6.979472656250001, 6.979443359375001, 6.979458007812501, 6.979465332031252, 6.9794689941406265, 6.979470825195314, 6.979471740722658, 6.979471282958986, 6.979471511840822, 6.97947162628174, 6.979471569061281, 6.979471597671511, 6.979471611976625, 6.979471604824068, 6.979471608400347, 6.979471610188487, 6.979471609294417, 6.979471608847382], 'error': 4.470348535789981e-10, 'message': 'Convergencia alcanzada'}\n"
     ]
    }
   ],
   "source": [
    "print(\"\\nMétodo de bisección con g_p5:\")\n",
    "print(bisectionMethod(f=g_p5, a=-2, b=0, maxIter=100, tol=1e-9, verbose=False))\n",
    "print(bisectionMethod(f=g_p5, a=0, b=2, maxIter=100, tol=1e-9, verbose=False))\n",
    "print(bisectionMethod(f=g_p5, a=6.5, b=6.98, maxIter=100, tol=1e-9, verbose=False))"
   ]
  },
  {
   "cell_type": "markdown",
   "id": "d15b9d88",
   "metadata": {},
   "source": [
    "## Método de la secante"
   ]
  },
  {
   "cell_type": "code",
   "execution_count": 26,
   "id": "5742b2cc",
   "metadata": {},
   "outputs": [
    {
     "name": "stdout",
     "output_type": "stream",
     "text": [
      "Método de secante con g_p5:\n",
      "{'converged': True, 'root': -0.368394853732975, 'fAtRoot': 5.551115123125783e-17, 'iterations': 12, 'approximations': [-2, 0, -0.07086614173228346, -1.5686560389530062, -0.15323398205268648, -0.22015143995356987, -0.4493944032420648, -0.35098940705842574, -0.3666769674737728, -0.36843537039293206, -0.368394761595268, -0.3683948537280444, -0.368394853732975], 'error': 4.9305559635115515e-12, 'message': 'Convergencia alcanzada'}\n",
      "{'converged': True, 'root': 0.3889232446865156, 'fAtRoot': 5.551115123125783e-17, 'iterations': 12, 'approximations': [0, 2, 0.07246376811594203, 0.14053037159245008, 0.7971339868985214, 0.27839994218739755, 0.3461738254671001, 0.39674242978105934, 0.38846068562587294, 0.3889185164761638, 0.3889232475751908, 0.3889232446864976, 0.3889232446865156], 'error': 1.8041124150158794e-14, 'message': 'Convergencia alcanzada'}\n",
      "{'converged': True, 'root': 6.979471609046458, 'fAtRoot': 3.460343123151688e-12, 'iterations': 8, 'approximations': [6.5, 6.98, 6.965210355987043, 6.979100939869684, 6.979731749765127, 6.979466883939602, 6.979471548819394, 6.979471609060404, 6.979471609046458], 'error': 1.3946177546131366e-11, 'message': 'Convergencia alcanzada'}\n"
     ]
    }
   ],
   "source": [
    "print(\"Método de secante con g_p5:\")\n",
    "print(secantMethod(f=g_p5, x0=-2, x1=-0, maxIter=100, tol=1e-9, verbose=False))\n",
    "print(secantMethod(f=g_p5, x0=0, x1=2, maxIter=100, tol=1e-9, verbose=False))\n",
    "print(secantMethod(f=g_p5, x0=6.5, x1=6.98, maxIter=100, tol=1e-9, verbose=False))"
   ]
  },
  {
   "cell_type": "markdown",
   "id": "9ac1d7bf",
   "metadata": {},
   "source": [
    "## Método de Newton-Rapshon"
   ]
  },
  {
   "cell_type": "code",
   "execution_count": 44,
   "id": "983efd88",
   "metadata": {},
   "outputs": [
    {
     "name": "stdout",
     "output_type": "stream",
     "text": [
      "Newton-Raphson con f3:\n",
      "{'converged': True, 'root': -0.3683948537329749, 'fAtRoot': 0.0, 'iterations': 7, 'approximations': [-2, -1.0307692307692307, -0.5791831532622156, -0.40609488254106163, -0.3701021505315338, -0.36839868648393775, -0.3683948537523777, -0.3683948537329749], 'error': 1.9402757178710317e-11, 'message': 'Convergencia alcanzada'}\n",
      "{'converged': True, 'root': -0.3683948537329749, 'fAtRoot': 0.0, 'iterations': 10, 'approximations': [0, -7.0, -3.506375227686703, -1.7690044680476023, -0.9198557151056754, -0.5319226691343033, -0.3930624871758388, -0.3691494106419619, -0.3683956042590147, -0.36839485373371894, -0.3683948537329749], 'error': 7.440159599525487e-13, 'message': 'Convergencia alcanzada'}\n",
      "{'converged': True, 'root': 0.3889232446865155, 'fAtRoot': -2.7755575615628914e-17, 'iterations': 8, 'approximations': [6.5, 2.0277777777777777, 1.053765123145571, 0.6005977534680946, 0.42685788024431837, 0.39064976625337755, 0.3889271615182438, 0.38892324470676587, 0.3889232446865155], 'error': 2.0250356946860393e-11, 'message': 'Convergencia alcanzada'}\n"
     ]
    }
   ],
   "source": [
    "print(\"Newton-Raphson con f3:\")\n",
    "print(newtonRaphsonMethod(f=g_p5, df=dg_p5, x0=-2, maxIter=100, tol=1e-9, verbose=False))\n",
    "print(newtonRaphsonMethod(f=g_p5, df=dg_p5, x0=0, maxIter=100, tol=1e-9, verbose=False))\n",
    "print(newtonRaphsonMethod(f=g_p5, df=dg_p5, x0=6.5, maxIter=100, tol=1e-9, verbose=False))"
   ]
  },
  {
   "cell_type": "code",
   "execution_count": 46,
   "id": "4c87e7d6",
   "metadata": {},
   "outputs": [
    {
     "name": "stdout",
     "output_type": "stream",
     "text": [
      "{'converged': True, 'root': 0.3889232446865155, 'fAtRoot': -2.7755575615628914e-17, 'iterations': 7, 'approximations': [2, 1.0404040404040404, 0.5948127816337939, 0.4251679763931437, 0.39050578708664474, 0.38892653673354005, 0.3889232447008208, 0.3889232446865155], 'error': 1.4305279183446373e-11, 'message': 'Convergencia alcanzada'}\n",
      "{'converged': True, 'root': 6.97947160904646, 'fAtRoot': -7.318590178329032e-13, 'iterations': 4, 'approximations': [6.98, 6.979485285836109, 6.97947161821222, 6.979471609046463, 6.97947160904646], 'error': 3.552713678800501e-15, 'message': 'Convergencia alcanzada'}\n"
     ]
    }
   ],
   "source": [
    "print(newtonRaphsonMethod(f=g_p5, df=dg_p5, x0=2, maxIter=100, tol=1e-9, verbose=False))\n",
    "print(newtonRaphsonMethod(f=g_p5, df=dg_p5, x0=6.98, maxIter=100, tol=1e-9, verbose=False))"
   ]
  },
  {
   "cell_type": "markdown",
   "id": "00b6728c",
   "metadata": {},
   "source": [
    "# Problema 6\n",
    "\n",
    "Hallar todos los ceros del polinomio\n",
    "\n",
    "$$\n",
    "f(x) = 2x^5 + 3x^4 - 3x^3 - 10x^2 - 4x + 4,\n",
    "$$\n",
    "\n",
    "mediante los algoritmos numéricos."
   ]
  },
  {
   "cell_type": "code",
   "execution_count": 11,
   "id": "bfc81932",
   "metadata": {},
   "outputs": [],
   "source": [
    "def f_p6(x):\n",
    "    return 2*x**5 + 3*x**4 - 3*x**3 - 10*x**2 - 4*x + 4\n",
    "\n",
    "def df_p6(x):\n",
    "    return 10*x**4 + 12*x**3 - 9*x**2 - 20*x - 4"
   ]
  }
 ],
 "metadata": {
  "kernelspec": {
   "display_name": ".venv",
   "language": "python",
   "name": "python3"
  },
  "language_info": {
   "codemirror_mode": {
    "name": "ipython",
    "version": 3
   },
   "file_extension": ".py",
   "mimetype": "text/x-python",
   "name": "python",
   "nbconvert_exporter": "python",
   "pygments_lexer": "ipython3",
   "version": "3.13.5"
  }
 },
 "nbformat": 4,
 "nbformat_minor": 5
}
