{
 "cells": [
  {
   "cell_type": "markdown",
   "id": "dc0e0ac4",
   "metadata": {},
   "source": [
    "# Problema 1\n",
    "\n",
    "Tres refinerías con capacidades diarias de 6, 5 y 8 millones de galones, respectivamente, abastecen a tres áreas de distribución con demandas diarias de 4, 8 y 7 millones de galones, respectivamente. La gasolina se transporta a las tres áreas de distribución a través de una red de oleoductos. El costo de transporte es de \\$0.10 por 1000 galones por kilómetro de oleoducto. En la tabla 1 se presenta la distancia en kilómetros entre las refinerías y las áreas de distribución. La refinería 1 no está conectada al área de distribución 3.\n",
    "\n",
    "|             | Área 1 | Área 2 | Área 3 |\n",
    "| ----------- | ------ | ------ | ------ |\n",
    "| Refinería 1 | 120    | 180    | –      |\n",
    "| Refinería 2 | 100    | 150    | 80     |\n",
    "| Refinería 3 | 200    | 250    | 120    |"
   ]
  },
  {
   "cell_type": "markdown",
   "id": "e4fea155",
   "metadata": {},
   "source": [
    "## Inciso a\n",
    "\n",
    "Formular el modelo de transporte asociado."
   ]
  },
  {
   "cell_type": "code",
   "execution_count": null,
   "id": "42e54663",
   "metadata": {
    "vscode": {
     "languageId": "plaintext"
    }
   },
   "outputs": [],
   "source": []
  },
  {
   "cell_type": "markdown",
   "id": "a4bf3b4c",
   "metadata": {},
   "source": [
    "## Inciso b\n",
    "\n",
    "Usando JuMP o Pupl, determine el programa de envíos óptimo en la red de distribución."
   ]
  },
  {
   "cell_type": "code",
   "execution_count": null,
   "id": "110dab74",
   "metadata": {
    "vscode": {
     "languageId": "plaintext"
    }
   },
   "outputs": [],
   "source": []
  },
  {
   "cell_type": "markdown",
   "id": "85ff36e6",
   "metadata": {},
   "source": [
    "## Inciso c\n",
    "\n",
    "Suponga ahora que la demanda diaria en el área 3 disminuye a 4 millones de galones. La producción excedente en las refinerías 1 y 2 se envía a otras áreas de distribución por medio de camiones. El costo de transporte por 100 galones es de \\$1.50 desde la refinería 1 y de \\$2.00 desde la refinería 2. La refinería 3 puede enviar su producción excedente a otros procesos químicos dentro de la planta.\n",
    "Formule y resuelva de nuevo el programa óptimo de envíos."
   ]
  },
  {
   "cell_type": "code",
   "execution_count": null,
   "id": "208b6f85",
   "metadata": {
    "vscode": {
     "languageId": "plaintext"
    }
   },
   "outputs": [],
   "source": []
  }
 ],
 "metadata": {
  "language_info": {
   "name": "python"
  }
 },
 "nbformat": 4,
 "nbformat_minor": 5
}
