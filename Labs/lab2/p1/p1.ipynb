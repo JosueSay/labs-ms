{
 "cells": [
  {
   "cell_type": "markdown",
   "id": "dc0e0ac4",
   "metadata": {},
   "source": [
    "# Problema 1\n",
    "\n",
    "Tres refinerías con capacidades diarias de 6, 5 y 8 millones de galones, respectivamente, abastecen a tres áreas de distribución con demandas diarias de 4, 8 y 7 millones de galones, respectivamente. La gasolina se transporta a las tres áreas de distribución a través de una red de oleoductos. El costo de transporte es de \\$0.10 por 1000 galones por kilómetro de oleoducto. En la tabla 1 se presenta la distancia en kilómetros entre las refinerías y las áreas de distribución. La refinería 1 no está conectada al área de distribución 3.\n",
    "\n",
    "|             | Área 1 | Área 2 | Área 3 |\n",
    "| ----------- | ------ | ------ | ------ |\n",
    "| Refinería 1 | 120    | 180    | –      |\n",
    "| Refinería 2 | 100    | 150    | 80     |\n",
    "| Refinería 3 | 200    | 250    | 120    |"
   ]
  },
  {
   "cell_type": "markdown",
   "id": "e4fea155",
   "metadata": {},
   "source": [
    "## Inciso a\n",
    "\n",
    "Formular el modelo de transporte asociado."
   ]
  },
  {
   "cell_type": "code",
   "execution_count": null,
   "id": "42e54663",
   "metadata": {},
   "outputs": [
    {
     "data": {
      "text/plain": [
       "3×3 Matrix{Float64}:\n",
       " 12000.0  18000.0     Inf\n",
       " 30000.0  10000.0   8000.0\n",
       " 20000.0  25000.0  12000.0"
      ]
     },
     "metadata": {},
     "output_type": "display_data"
    }
   ],
   "source": [
    "using Pkg\n",
    "\n",
    "using JuMP\n",
    "using HiGHS \n",
    "\n",
    "# Creamos el modelo\n",
    "model = Model(HiGHS.Optimizer)\n",
    "\n",
    "# Datos del problema\n",
    "supply = [6, 5, 8]            # Refinerías\n",
    "demand = [4, 8, 7]            # Áreas de distribución\n",
    "costos = [\n",
    "    12000  18000   Inf;\n",
    "    30000  10000  8000;\n",
    "    20000  25000 12000\n",
    "]\n"
   ]
  },
  {
   "cell_type": "markdown",
   "id": "a4bf3b4c",
   "metadata": {},
   "source": [
    "## Inciso b\n",
    "\n",
    "Usando JuMP o Pupl, determine el programa de envíos óptimo en la red de distribución."
   ]
  },
  {
   "cell_type": "code",
   "execution_count": 3,
   "id": "110dab74",
   "metadata": {},
   "outputs": [
    {
     "name": "stdout",
     "output_type": "stream",
     "text": [
      "Running HiGHS 1.11.0 (git hash: 364c83a51e): Copyright (c) 2025 HiGHS under MIT licence terms\n",
      "LP   has 6 rows; 9 cols; 18 nonzeros\n",
      "Coefficient ranges:\n",
      "  Matrix [1e+00, 1e+00]\n",
      "  Cost   [8e+03, 3e+04]\n",
      "  Bound  [0e+00, 0e+00]\n",
      "  RHS    [4e+00, 8e+00]\n",
      "Presolving model\n",
      "6 rows, 9 cols, 18 nonzeros  0s\n",
      "Dependent equations search running on 6 equations with time limit of 1000.00s\n",
      "Dependent equations search removed 1 rows and 3 nonzeros in 0.00s (limit = 1000.00s)\n",
      "5 rows, 9 cols, 15 nonzeros  0s\n",
      "Presolve : Reductions: rows 5(-1); columns 9(-0); elements 15(-3)\n",
      "Solving the presolved LP\n",
      "Using EKK dual simplex solver - serial\n",
      "  Iteration        Objective     Infeasibilities num(sum)\n",
      "          0     0.0000000000e+00 Pr: 5(31) 0s\n",
      "          5     2.1700000000e+05 Pr: 0(0) 0s\n",
      "Solving the original LP from the solution after postsolve\n",
      "Model status        : Optimal\n",
      "Simplex   iterations: 5\n",
      "Objective value     :  2.1700000000e+05\n",
      "P-D objective error :  0.0000000000e+00\n",
      "HiGHS run time      :          0.00\n",
      "Plan óptimo de envíos:\n",
      "x[1,1] = 0.0\n",
      "x[1,2] = 0.0\n",
      "x[2,1] = 0.0\n",
      "x[2,2] = 5.0\n",
      "x[2,3] = 0.0\n",
      "x[3,1] = 4.0\n",
      "x[3,2] = 3.0\n",
      "x[3,3] = 1.0\n",
      "Costo total mínimo: $217000.0\n"
     ]
    }
   ],
   "source": [
    "# Variables de decisión: x[i,j] = cantidad enviada de refinería i a área j\n",
    "@variable(model, x[1:3, 1:3] >= 0)\n",
    "\n",
    "# Restricciones de oferta\n",
    "for i in 1:3\n",
    "    @constraint(model, sum(x[i,j] for j in 1:3) == supply[i])\n",
    "end\n",
    "\n",
    "# Restricciones de demanda\n",
    "for j in 1:3\n",
    "    @constraint(model, sum(x[i,j] for i in 1:3) == demand[j])\n",
    "end\n",
    "\n",
    "# Función objetivo: minimizar el costo total de transporte\n",
    "@objective(model, Min, sum(costos[i,j] * x[i,j] for i in 1:3, j in 1:3 if isfinite(costos[i,j])))\n",
    "\n",
    "# Resolver el modelo\n",
    "optimize!(model)\n",
    "\n",
    "# Mostrar resultados\n",
    "println(\"Plan óptimo de envíos:\")\n",
    "for i in 1:3\n",
    "    for j in 1:3\n",
    "        if isfinite(costos[i,j])\n",
    "            println(\"x[$i,$j] = \", value(x[i,j]))\n",
    "        end\n",
    "    end\n",
    "end\n",
    "\n",
    "println(\"Costo total mínimo: \\$\", objective_value(model))"
   ]
  },
  {
   "cell_type": "markdown",
   "id": "85ff36e6",
   "metadata": {},
   "source": [
    "## Inciso c\n",
    "\n",
    "Suponga ahora que la demanda diaria en el área 3 disminuye a 4 millones de galones. La producción excedente en las refinerías 1 y 2 se envía a otras áreas de distribución por medio de camiones. El costo de transporte por 100 galones es de \\$1.50 desde la refinería 1 y de \\$2.00 desde la refinería 2. La refinería 3 puede enviar su producción excedente a otros procesos químicos dentro de la planta.\n",
    "Formule y resuelva de nuevo el programa óptimo de envíos."
   ]
  },
  {
   "cell_type": "code",
   "execution_count": 4,
   "id": "208b6f85",
   "metadata": {},
   "outputs": [
    {
     "name": "stdout",
     "output_type": "stream",
     "text": [
      "Running HiGHS 1.11.0 (git hash: 364c83a51e): Copyright (c) 2025 HiGHS under MIT licence terms\n",
      "LP   has 7 rows; 12 cols; 24 nonzeros\n",
      "Coefficient ranges:\n",
      "  Matrix [1e+00, 1e+00]\n",
      "  Cost   [2e+03, 3e+04]\n",
      "  Bound  [0e+00, 0e+00]\n",
      "  RHS    [3e+00, 8e+00]\n",
      "Presolving model\n",
      "7 rows, 12 cols, 24 nonzeros  0s\n",
      "Dependent equations search running on 7 equations with time limit of 1000.00s\n",
      "Dependent equations search removed 1 rows and 4 nonzeros in 0.00s (limit = 1000.00s)\n",
      "6 rows, 12 cols, 20 nonzeros  0s\n",
      "Presolve : Reductions: rows 6(-1); columns 12(-0); elements 20(-4)\n",
      "Solving the presolved LP\n",
      "Using EKK dual simplex solver - serial\n",
      "  Iteration        Objective     Infeasibilities num(sum)\n",
      "          0     0.0000000000e+00 Pr: 6(30) 0s\n",
      "          7     1.8900000000e+05 Pr: 0(0) 0s\n",
      "Solving the original LP from the solution after postsolve\n",
      "Model status        : Optimal\n",
      "Simplex   iterations: 7\n",
      "Objective value     :  1.8900000000e+05\n",
      "P-D objective error :  0.0000000000e+00\n",
      "HiGHS run time      :          0.00\n",
      "Programa óptimo de envíos con destino ficticio:\n",
      "x[1,1] = 2.0\n",
      "x[1,2] = 0.0\n",
      "x[1,4] = 0.0\n",
      "x[2,1] = 0.0\n",
      "x[2,2] = 5.0\n",
      "x[2,3] = 0.0\n",
      "x[2,4] = 0.0\n",
      "x[3,1] = 2.0\n",
      "x[3,2] = 3.0\n",
      "x[3,3] = 0.0\n",
      "Costo total mínimo (con destino ficticio): $189000.0\n"
     ]
    }
   ],
   "source": [
    "using JuMP\n",
    "using HiGHS\n",
    "\n",
    "# Nuevo modelo\n",
    "model_c = Model(HiGHS.Optimizer)\n",
    "\n",
    "# Oferta\n",
    "supply = [6, 5, 8]  # Total: 19\n",
    "\n",
    "# Nueva demanda con destino ficticio\n",
    "demand = [4, 8, 4, 3]  # Total: 19\n",
    "\n",
    "# Nueva matriz de costos incluyendo el destino ficticio\n",
    "costos = [\n",
    "    12000  18000   Inf   1500;\n",
    "    30000  10000  8000   2000;\n",
    "    20000  25000 12000   Inf\n",
    "]\n",
    "\n",
    "# Variables: ahora 3x4\n",
    "@variable(model_c, x[1:3, 1:4] >= 0)\n",
    "\n",
    "# Restricciones de oferta (suministro)\n",
    "for i in 1:3\n",
    "    @constraint(model_c, sum(x[i,j] for j in 1:4) == supply[i])\n",
    "end\n",
    "\n",
    "# Restricciones de demanda (demanda + ficticio)\n",
    "for j in 1:4\n",
    "    @constraint(model_c, sum(x[i,j] for i in 1:3) == demand[j])\n",
    "end\n",
    "\n",
    "# Función objetivo con condición para ignorar Infinito\n",
    "@objective(model_c, Min, sum(costos[i,j] * x[i,j] for i in 1:3, j in 1:4 if isfinite(costos[i,j])))\n",
    "\n",
    "# Resolver modelo\n",
    "optimize!(model_c)\n",
    "\n",
    "# Mostrar resultados\n",
    "println(\"Programa óptimo de envíos con destino ficticio:\")\n",
    "for i in 1:3\n",
    "    for j in 1:4\n",
    "        if isfinite(costos[i,j])\n",
    "            println(\"x[$i,$j] = \", value(x[i,j]))\n",
    "        end\n",
    "    end\n",
    "end\n",
    "\n",
    "println(\"Costo total mínimo (con destino ficticio): \\$\", objective_value(model_c))\n"
   ]
  }
 ],
 "metadata": {
  "kernelspec": {
   "display_name": "Julia 1.11.6",
   "language": "julia",
   "name": "julia-1.11"
  },
  "language_info": {
   "file_extension": ".jl",
   "mimetype": "application/julia",
   "name": "julia",
   "version": "1.11.6"
  }
 },
 "nbformat": 4,
 "nbformat_minor": 5
}
