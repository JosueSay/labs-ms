{
 "cells": [
  {
   "cell_type": "markdown",
   "id": "f123b7d0",
   "metadata": {},
   "source": [
    "# Problema 7\n",
    "\n",
    "Considere la función $f(x) = x^3 - 2x + 2$. Vamos a utilizar el método de Newton-Raphson con el punto inicial $x_0 = 0$ para hallar un cero de este polinomio."
   ]
  },
  {
   "cell_type": "markdown",
   "id": "5de59925",
   "metadata": {},
   "source": [
    "## Inciso a\n",
    "\n",
    "- Comenzando en $x_0$. ¿Converge el método a la solución requerida? ¿Por qué?\n",
    "\n",
    "- Explique qué ocurre con las iteraciones."
   ]
  },
  {
   "cell_type": "markdown",
   "id": "6289f36f-7361-4653-9a90-6bb479935d60",
   "metadata": {
    "vscode": {
     "languageId": "plaintext"
    }
   },
   "source": [
    "f(x)=x^3-2x+2              x_0=0 \t\tx_(k+1)=x_k-(f(x_k)/f^'(x_k))     \n",
    "Raíz: -1.77\n",
    "![Grafica funcion](grafica.png)"
   ]
  },
  {
   "cell_type": "markdown",
   "id": "854a83c8-3885-4b1e-ac67-c4354fdfb2d8",
   "metadata": {},
   "source": [
    "Las iteraciones (total de 6) poco a poco se acercan a un punto, en el cual los decimales se empiezan a repetir, esto indica que está convergiendo en este punto y obtiene la raíz indicada por la gráfica.\n",
    "![Inciso a](inciso_a.png)"
   ]
  },
  {
   "cell_type": "markdown",
   "id": "9befea49",
   "metadata": {},
   "source": [
    "## Inciso b\n",
    "\n",
    "- Diseñe una estrategia para resolver el cero requerido."
   ]
  },
  {
   "cell_type": "markdown",
   "id": "280ce063-84c9-4a66-9331-7c3c38f5c700",
   "metadata": {
    "vscode": {
     "languageId": "plaintext"
    }
   },
   "source": [
    "Una mejora posible fue que las iteraciones disminuyeron al acercar el punto a la raíz.\n",
    "![Inciso b](inciso_b.png)"
   ]
  }
 ],
 "metadata": {
  "kernelspec": {
   "display_name": "Python 3 (ipykernel)",
   "language": "python",
   "name": "python3"
  },
  "language_info": {
   "codemirror_mode": {
    "name": "ipython",
    "version": 3
   },
   "file_extension": ".py",
   "mimetype": "text/x-python",
   "name": "python",
   "nbconvert_exporter": "python",
   "pygments_lexer": "ipython3",
   "version": "3.12.7"
  }
 },
 "nbformat": 4,
 "nbformat_minor": 5
}
