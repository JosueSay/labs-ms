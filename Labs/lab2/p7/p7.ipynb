{
 "cells": [
  {
   "cell_type": "markdown",
   "id": "f123b7d0",
   "metadata": {},
   "source": [
    "# Problema 7\n",
    "\n",
    "Considere la función $f(x) = x^3 - 2x + 2$. Vamos a utilizar el método de Newton-Raphson con el punto inicial $x_0 = 0$ para hallar un cero de este polinomio."
   ]
  },
  {
   "cell_type": "markdown",
   "id": "5de59925",
   "metadata": {},
   "source": [
    "## Inciso a\n",
    "\n",
    "- Comenzando en $x_0$. ¿Converge el método a la solución requerida? ¿Por qué?\n",
    "\n",
    "- Explique qué ocurre con las iteraciones."
   ]
  },
  {
   "cell_type": "code",
   "execution_count": null,
   "id": "2f8fd165",
   "metadata": {
    "vscode": {
     "languageId": "plaintext"
    }
   },
   "outputs": [],
   "source": []
  },
  {
   "cell_type": "markdown",
   "id": "9befea49",
   "metadata": {},
   "source": [
    "## Inciso b\n",
    "\n",
    "Diseñe una estrategia para resolver el cero requerido."
   ]
  },
  {
   "cell_type": "code",
   "execution_count": null,
   "id": "95ca7196",
   "metadata": {
    "vscode": {
     "languageId": "plaintext"
    }
   },
   "outputs": [],
   "source": []
  }
 ],
 "metadata": {
  "language_info": {
   "name": "python"
  }
 },
 "nbformat": 4,
 "nbformat_minor": 5
}
