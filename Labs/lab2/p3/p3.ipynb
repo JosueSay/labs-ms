{
 "cells": [
  {
   "cell_type": "markdown",
   "id": "4aed0c65",
   "metadata": {},
   "source": [
    "# Problema 3\n",
    "\n",
    "Una empresa necesita asignar cuatro puestos de trabajo a cuatro trabajadores. El costo de desempeñar un puesto es una función de las habilidades de los trabajadores. En la tabla siguiente se resume el costo de las asignaciones. El trabajador 1 no puede tener el puesto 3, y el trabajador 3 no puede desempeñar el puesto 4. Determine la asignación óptima mediante programación lineal.\n",
    "\n",
    "|              | Puesto 1 | Puesto 2 | Puesto 3 | Puesto 4 |\n",
    "| ------------ | -------- | -------- | -------- | -------- |\n",
    "| Trabajador 1 | \\$50     | \\$50     | –        | \\$20     |\n",
    "| Trabajador 2 | \\$70     | \\$40     | \\$20     | \\$30     |\n",
    "| Trabajador 3 | \\$90     | \\$30     | \\$50     | –        |\n",
    "| Trabajador 4 | \\$70     | \\$20     | \\$60     | \\$70     |\n"
   ]
  },
  {
   "cell_type": "markdown",
   "id": "39f0d237",
   "metadata": {},
   "source": []
  },
  {
   "cell_type": "markdown",
   "id": "1b586086",
   "metadata": {},
   "source": []
  },
  {
   "cell_type": "markdown",
   "id": "a82d8cbc",
   "metadata": {},
   "source": []
  }
 ],
 "metadata": {
  "language_info": {
   "name": "python"
  }
 },
 "nbformat": 4,
 "nbformat_minor": 5
}
