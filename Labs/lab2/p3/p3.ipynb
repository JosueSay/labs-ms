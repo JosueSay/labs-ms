{
 "cells": [
  {
   "cell_type": "markdown",
   "id": "4aed0c65",
   "metadata": {},
   "source": [
    "# Problema 3\n",
    "\n",
    "Una empresa necesita asignar cuatro puestos de trabajo a cuatro trabajadores. El costo de desempeñar un puesto es una función de las habilidades de los trabajadores. En la tabla siguiente se resume el costo de las asignaciones. El trabajador 1 no puede tener el puesto 3, y el trabajador 3 no puede desempeñar el puesto 4. Determine la asignación óptima mediante programación lineal.\n",
    "\n",
    "|              | Puesto 1 | Puesto 2 | Puesto 3 | Puesto 4 |\n",
    "| ------------ | -------- | -------- | -------- | -------- |\n",
    "| Trabajador 1 | \\$50     | \\$50     | –        | \\$20     |\n",
    "| Trabajador 2 | \\$70     | \\$40     | \\$20     | \\$30     |\n",
    "| Trabajador 3 | \\$90     | \\$30     | \\$50     | –        |\n",
    "| Trabajador 4 | \\$70     | \\$20     | \\$60     | \\$70     |\n"
   ]
  },
  {
   "cell_type": "markdown",
   "id": "8fcbd918",
   "metadata": {},
   "source": [
    "### Cargar paquetes y definir datos"
   ]
  },
  {
   "cell_type": "code",
   "execution_count": 1,
   "id": "276ae4a9",
   "metadata": {},
   "outputs": [
    {
     "data": {
      "text/plain": [
       "(4, 4)"
      ]
     },
     "metadata": {},
     "output_type": "display_data"
    }
   ],
   "source": [
    "using JuMP\n",
    "using HiGHS\n",
    "\n",
    "# Crear el modelo\n",
    "model = Model(HiGHS.Optimizer)\n",
    "\n",
    "# Matriz de costos (trabajadores × puestos)\n",
    "# Usamos `Inf` para los puestos prohibidos\n",
    "costos = [\n",
    "    50  50  Inf  20;\n",
    "    70  40   20  30;\n",
    "    90  30   50  Inf;\n",
    "    70  20   60  70\n",
    "]\n",
    "\n",
    "m, n = size(costos)  # m = 4 trabajadores, n = 4 puestos\n"
   ]
  },
  {
   "cell_type": "markdown",
   "id": "e7ee16b4",
   "metadata": {},
   "source": [
    "### Variables y restricciones"
   ]
  },
  {
   "cell_type": "code",
   "execution_count": 2,
   "id": "57547031",
   "metadata": {},
   "outputs": [],
   "source": [
    "# Variables binarias: x[i,j] = 1 si el trabajador i toma el puesto j\n",
    "@variable(model, x[1:m, 1:n], Bin)\n",
    "\n",
    "# Restricción: cada trabajador debe tener un puesto\n",
    "for i in 1:m\n",
    "    @constraint(model, sum(x[i,j] for j in 1:n) == 1)\n",
    "end\n",
    "\n",
    "# Restricción: cada puesto debe ser asignado a un solo trabajador\n",
    "for j in 1:n\n",
    "    @constraint(model, sum(x[i,j] for i in 1:m) == 1)\n",
    "end\n"
   ]
  },
  {
   "cell_type": "markdown",
   "id": "66a9dedb",
   "metadata": {},
   "source": [
    "### Función objetivo, resolución y resultados"
   ]
  },
  {
   "cell_type": "code",
   "execution_count": 3,
   "id": "8a24da46",
   "metadata": {},
   "outputs": [
    {
     "name": "stdout",
     "output_type": "stream",
     "text": [
      "Running HiGHS 1.11.0 (git hash: 364c83a51e): Copyright (c) 2025 HiGHS under MIT licence terms\n",
      "MIP  has 8 rows; 16 cols; 32 nonzeros; 16 integer variables (16 binary)\n",
      "Coefficient ranges:\n",
      "  Matrix [1e+00, 1e+00]\n",
      "  Cost   [2e+01, 9e+01]\n",
      "  Bound  [1e+00, 1e+00]\n",
      "  RHS    [1e+00, 1e+00]\n",
      "Presolving model\n",
      "8 rows, 16 cols, 32 nonzeros  0s\n",
      "8 rows, 16 cols, 32 nonzeros  0s\n",
      "Objective function is integral with scale 0.1\n",
      "\n",
      "Solving MIP model with:\n",
      "   8 rows\n",
      "   16 cols (16 binary, 0 integer, 0 implied int., 0 continuous, 0 domain fixed)\n",
      "   32 nonzeros\n",
      "\n",
      "Src: B => Branching; C => Central rounding; F => Feasibility pump; J => Feasibility jump;\n",
      "     H => Heuristic; L => Sub-MIP; P => Empty MIP; R => Randomized rounding; Z => ZI Round;\n",
      "     I => Shifting; S => Solve LP; T => Evaluate node; U => Unbounded; X => User solution;\n",
      "     z => Trivial zero; l => Trivial lower; u => Trivial upper; p => Trivial point\n",
      "\n",
      "        Nodes      |    B&B Tree     |            Objective Bounds              |  Dynamic Constraints |       Work      \n",
      "Src  Proc. InQueue |  Leaves   Expl. | BestBound       BestSol              Gap |   Cuts   InLp Confl. | LpIters     Time\n",
      "\n",
      " J       0       0         0   0.00%   -inf            110                Large        0      0      0         0     0.0s\n",
      " T       0       0         0   0.00%   0               90               100.00%        0      0      0         4     0.0s\n",
      "         1       0         1 100.00%   90              90                 0.00%        0      0      0         4     0.0s\n",
      "\n",
      "Solving report\n",
      "  Status            Optimal\n",
      "  Primal bound      90\n",
      "  Dual bound        90\n",
      "  Gap               0% (tolerance: 0.01%)\n",
      "  P-D integral      0.00055718421936\n",
      "  Solution status   feasible\n",
      "                    90 (objective)\n",
      "                    0 (bound viol.)\n",
      "                    0 (int. viol.)\n",
      "                    0 (row viol.)\n",
      "  Timing            0.01 (total)\n",
      "                    0.00 (presolve)\n",
      "                    0.00 (solve)\n",
      "                    0.00 (postsolve)\n",
      "  Max sub-MIP depth 0\n",
      "  Nodes             1\n",
      "  Repair LPs        0 (0 feasible; 0 iterations)\n",
      "  LP iterations     4 (total)\n",
      "                    0 (strong br.)\n",
      "                    0 (separation)\n",
      "                    0 (heuristics)\n",
      "Asignaciones óptimas (trabajador → puesto):\n",
      "Trabajador 1 → Puesto 1 (costo = $50.0)\n",
      "Trabajador 2 → Puesto 3 (costo = $20.0)\n",
      "Trabajador 4 → Puesto 2 (costo = $20.0)\n",
      "Costo total mínimo: $90.0\n"
     ]
    }
   ],
   "source": [
    "# Función objetivo: minimizar el costo total (evitando valores Inf)\n",
    "@objective(model, Min, sum(costos[i,j] * x[i,j] for i in 1:m, j in 1:n if isfinite(costos[i,j])))\n",
    "\n",
    "# Resolver el modelo\n",
    "optimize!(model)\n",
    "\n",
    "# Mostrar resultado de asignaciones\n",
    "println(\"Asignaciones óptimas (trabajador → puesto):\")\n",
    "for i in 1:m\n",
    "    for j in 1:n\n",
    "        if isfinite(costos[i,j]) && value(x[i,j]) > 0.5\n",
    "            println(\"Trabajador $i → Puesto $j (costo = \\$\", costos[i,j], \")\")\n",
    "        end\n",
    "    end\n",
    "end\n",
    "\n",
    "println(\"Costo total mínimo: \\$\", objective_value(model))\n"
   ]
  }
 ],
 "metadata": {
  "kernelspec": {
   "display_name": "Julia 1.11.6",
   "language": "julia",
   "name": "julia-1.11"
  },
  "language_info": {
   "file_extension": ".jl",
   "mimetype": "application/julia",
   "name": "julia",
   "version": "1.11.6"
  }
 },
 "nbformat": 4,
 "nbformat_minor": 5
}
