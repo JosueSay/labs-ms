{
 "cells": [
  {
   "cell_type": "markdown",
   "id": "3c55489d",
   "metadata": {},
   "source": [
    "# Problema 2\n",
    "\n",
    "Resuelva el siguiente problema de asignación.\n",
    "\n",
    "|      |     |     |      |     |     |     |\n",
    "| ---- | --- | --- | ---- | --- | --- | --- |\n",
    "| \\$3  | \\$8 | \\$2 | \\$10 | \\$3 | \\$3 | \\$9 |\n",
    "| \\$2  | \\$2 | \\$7 | \\$6  | \\$5 | \\$2 | \\$7 |\n",
    "| \\$5  | \\$6 | \\$4 | \\$5  | \\$6 | \\$6 | \\$6 |\n",
    "| \\$4  | \\$2 | \\$7 | \\$5  | \\$9 | \\$4 | \\$7 |\n",
    "| \\$10 | \\$3 | \\$8 | \\$4  | \\$2 | \\$3 | \\$5 |\n",
    "| \\$3  | \\$5 | \\$4 | \\$2  | \\$3 | \\$7 | \\$8 |"
   ]
  },
  {
   "cell_type": "markdown",
   "id": "64d20bd1",
   "metadata": {},
   "source": []
  }
 ],
 "metadata": {
  "language_info": {
   "name": "python"
  }
 },
 "nbformat": 4,
 "nbformat_minor": 5
}
