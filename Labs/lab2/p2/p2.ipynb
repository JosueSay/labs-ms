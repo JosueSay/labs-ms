{
 "cells": [
  {
   "cell_type": "markdown",
   "id": "3c55489d",
   "metadata": {},
   "source": [
    "# Problema 2\n",
    "\n",
    "Resuelva el siguiente problema de asignación.\n",
    "\n",
    "|      |     |     |      |     |     |     |\n",
    "| ---- | --- | --- | ---- | --- | --- | --- |\n",
    "| \\$3  | \\$8 | \\$2 | \\$10 | \\$3 | \\$3 | \\$9 |\n",
    "| \\$2  | \\$2 | \\$7 | \\$6  | \\$5 | \\$2 | \\$7 |\n",
    "| \\$5  | \\$6 | \\$4 | \\$5  | \\$6 | \\$6 | \\$6 |\n",
    "| \\$4  | \\$2 | \\$7 | \\$5  | \\$9 | \\$4 | \\$7 |\n",
    "| \\$10 | \\$3 | \\$8 | \\$4  | \\$2 | \\$3 | \\$5 |\n",
    "| \\$3  | \\$5 | \\$4 | \\$2  | \\$3 | \\$7 | \\$8 |"
   ]
  },
  {
   "cell_type": "markdown",
   "id": "595994d1",
   "metadata": {},
   "source": [
    "### Importar paquetes y definir datos"
   ]
  },
  {
   "cell_type": "code",
   "execution_count": 1,
   "id": "c76ad77d",
   "metadata": {},
   "outputs": [
    {
     "data": {
      "text/plain": [
       "(6, 7)"
      ]
     },
     "metadata": {},
     "output_type": "display_data"
    }
   ],
   "source": [
    "using JuMP\n",
    "using HiGHS\n",
    "\n",
    "# Crear modelo\n",
    "model = Model(HiGHS.Optimizer)\n",
    "\n",
    "# Matriz de costos (6 agentes × 7 tareas)\n",
    "costos = [\n",
    "    3  8  2 10  3  3  9;\n",
    "    2  2  7  6  5  2  7;\n",
    "    5  6  4  5  6  6  6;\n",
    "    4  2  7  5  9  4  7;\n",
    "   10  3  8  4  2  3  5;\n",
    "    3  5  4  2  3  7  8\n",
    "]\n",
    "\n",
    "m, n = size(costos)  # m = agentes, n = tareas\n"
   ]
  },
  {
   "cell_type": "markdown",
   "id": "8089ef2f",
   "metadata": {},
   "source": [
    "### Declarar variables y restricciones"
   ]
  },
  {
   "cell_type": "code",
   "execution_count": 2,
   "id": "55d7138c",
   "metadata": {},
   "outputs": [],
   "source": [
    "# Variables binarias: x[i,j] = 1 si el agente i realiza la tarea j\n",
    "@variable(model, x[1:m, 1:n], Bin)\n",
    "\n",
    "# Restricción: cada agente hace exactamente una tarea\n",
    "for i in 1:m\n",
    "    @constraint(model, sum(x[i,j] for j in 1:n) == 1)\n",
    "end\n",
    "\n",
    "# Restricción: cada tarea es asignada a lo sumo una vez\n",
    "for j in 1:n\n",
    "    @constraint(model, sum(x[i,j] for i in 1:m) <= 1)\n",
    "end\n"
   ]
  },
  {
   "cell_type": "markdown",
   "id": "1bdaf4db",
   "metadata": {},
   "source": [
    "### Función objetivo, resolución y resultados"
   ]
  },
  {
   "cell_type": "code",
   "execution_count": 3,
   "id": "59f5d6fc",
   "metadata": {},
   "outputs": [
    {
     "name": "stdout",
     "output_type": "stream",
     "text": [
      "Running HiGHS 1.11.0 (git hash: 364c83a51e): Copyright (c) 2025 HiGHS under MIT licence terms\n",
      "MIP  has 13 rows; 42 cols; 84 nonzeros; 42 integer variables (42 binary)\n",
      "Coefficient ranges:\n",
      "  Matrix [1e+00, 1e+00]\n",
      "  Cost   [2e+00, 1e+01]\n",
      "  Bound  [1e+00, 1e+00]\n",
      "  RHS    [1e+00, 1e+00]\n",
      "Presolving model\n",
      "13 rows, 42 cols, 84 nonzeros  0s\n",
      "13 rows, 42 cols, 84 nonzeros  0s\n",
      "Objective function is integral with scale 1\n",
      "\n",
      "Solving MIP model with:\n",
      "   13 rows\n",
      "   42 cols (42 binary, 0 integer, 0 implied int., 0 continuous, 0 domain fixed)\n",
      "   84 nonzeros\n",
      "\n",
      "Src: B => Branching; C => Central rounding; F => Feasibility pump; J => Feasibility jump;\n",
      "     H => Heuristic; L => Sub-MIP; P => Empty MIP; R => Randomized rounding; Z => ZI Round;\n",
      "     I => Shifting; S => Solve LP; T => Evaluate node; U => Unbounded; X => User solution;\n",
      "     z => Trivial zero; l => Trivial lower; u => Trivial upper; p => Trivial point\n",
      "\n",
      "        Nodes      |    B&B Tree     |            Objective Bounds              |  Dynamic Constraints |       Work      \n",
      "Src  Proc. InQueue |  Leaves   Expl. | BestBound       BestSol              Gap |   Cuts   InLp Confl. | LpIters     Time\n",
      "\n",
      " J       0       0         0   0.00%   -inf            29                 Large        0      0      0         0     0.0s\n",
      " T       0       0         0   0.00%   0               15               100.00%        0      0      0        11     0.0s\n",
      "         1       0         1 100.00%   15              15                 0.00%        0      0      0        11     0.0s\n",
      "\n",
      "Solving report\n",
      "  Status            Optimal\n",
      "  Primal bound      15\n",
      "  Dual bound        15\n",
      "  Gap               0% (tolerance: 0.01%)\n",
      "  P-D integral      0.000753879547119\n",
      "  Solution status   feasible\n",
      "                    15 (objective)\n",
      "                    0 (bound viol.)\n",
      "                    0 (int. viol.)\n",
      "                    0 (row viol.)\n",
      "  Timing            0.01 (total)\n",
      "                    0.00 (presolve)\n",
      "                    0.00 (solve)\n",
      "                    0.00 (postsolve)\n",
      "  Max sub-MIP depth 0\n",
      "  Nodes             1\n",
      "  Repair LPs        0 (0 feasible; 0 iterations)\n",
      "  LP iterations     11 (total)\n",
      "                    0 (strong br.)\n",
      "                    0 (separation)\n",
      "                    0 (heuristics)\n",
      "Asignaciones óptimas (agente → tarea):\n",
      "Agente 1 → Tarea 6 (costo = $3)\n",
      "Agente 2 → Tarea 1 (costo = $2)\n",
      "Agente 3 → Tarea 3 (costo = $4)\n",
      "Agente 4 → Tarea 2 (costo = $2)\n",
      "Agente 5 → Tarea 5 (costo = $2)\n",
      "Agente 6 → Tarea 4 (costo = $2)\n",
      "Costo total mínimo: $15.0\n"
     ]
    }
   ],
   "source": [
    "# Función objetivo: minimizar el costo total\n",
    "@objective(model, Min, sum(costos[i,j] * x[i,j] for i in 1:m, j in 1:n))\n",
    "\n",
    "# Resolver el modelo\n",
    "optimize!(model)\n",
    "\n",
    "# Mostrar resultados\n",
    "println(\"Asignaciones óptimas (agente → tarea):\")\n",
    "for i in 1:m\n",
    "    for j in 1:n\n",
    "        if value(x[i,j]) > 0.5\n",
    "            println(\"Agente $i → Tarea $j (costo = \\$\", costos[i,j], \")\")\n",
    "        end\n",
    "    end\n",
    "end\n",
    "\n",
    "println(\"Costo total mínimo: \\$\", objective_value(model))\n"
   ]
  },
  {
   "cell_type": "markdown",
   "id": "64d20bd1",
   "metadata": {},
   "source": []
  }
 ],
 "metadata": {
  "kernelspec": {
   "display_name": "Julia 1.11.6",
   "language": "julia",
   "name": "julia-1.11"
  },
  "language_info": {
   "file_extension": ".jl",
   "mimetype": "application/julia",
   "name": "julia",
   "version": "1.11.6"
  }
 },
 "nbformat": 4,
 "nbformat_minor": 5
}
